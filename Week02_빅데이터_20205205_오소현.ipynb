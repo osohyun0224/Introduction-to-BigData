{
  "nbformat": 4,
  "nbformat_minor": 0,
  "metadata": {
    "colab": {
      "provenance": [],
      "gpuType": "T4",
      "authorship_tag": "ABX9TyNj7/mgJUfXQ5ojUTCQXCj3",
      "include_colab_link": true
    },
    "kernelspec": {
      "name": "ir",
      "display_name": "R"
    },
    "language_info": {
      "name": "R"
    },
    "accelerator": "GPU"
  },
  "cells": [
    {
      "cell_type": "markdown",
      "metadata": {
        "id": "view-in-github",
        "colab_type": "text"
      },
      "source": [
        "<a href=\"https://colab.research.google.com/github/osohyun0224/Introduction-to-BigData/blob/master/Week02_%EB%B9%85%EB%8D%B0%EC%9D%B4%ED%84%B0_20205205_%EC%98%A4%EC%86%8C%ED%98%84.ipynb\" target=\"_parent\"><img src=\"https://colab.research.google.com/assets/colab-badge.svg\" alt=\"Open In Colab\"/></a>"
      ]
    },
    {
      "cell_type": "code",
      "source": [
        "getwd() #현재 작업 디렉토리 확인"
      ],
      "metadata": {
        "colab": {
          "base_uri": "https://localhost:8080/",
          "height": 34
        },
        "id": "U14ua_oV8Ipu",
        "outputId": "6976d894-7bf0-429c-a146-8d8c7fc245d5"
      },
      "execution_count": 8,
      "outputs": [
        {
          "output_type": "display_data",
          "data": {
            "text/html": [
              "'/content'"
            ],
            "text/markdown": "'/content'",
            "text/latex": "'/content'",
            "text/plain": [
              "[1] \"/content\""
            ]
          },
          "metadata": {}
        }
      ]
    },
    {
      "cell_type": "code",
      "source": [
        "install.packages(\"tidyverse\") #\"tidyverse\" 패키지 설치"
      ],
      "metadata": {
        "colab": {
          "base_uri": "https://localhost:8080/"
        },
        "id": "hg6TD-gc9JOA",
        "outputId": "0efd021f-d787-48ee-c8ee-9d2d677e7e5f"
      },
      "execution_count": 9,
      "outputs": [
        {
          "output_type": "stream",
          "name": "stderr",
          "text": [
            "Installing package into ‘/usr/local/lib/R/site-library’\n",
            "(as ‘lib’ is unspecified)\n",
            "\n"
          ]
        }
      ]
    },
    {
      "cell_type": "code",
      "source": [
        "library(tidyverse) #\"tidyverse\" 패키지 부착"
      ],
      "metadata": {
        "id": "DN_8S_Ij9Rfc"
      },
      "execution_count": 10,
      "outputs": []
    },
    {
      "cell_type": "code",
      "source": [
        "name <- c(\"몽룡\", \"춘향\", \"길동\") #데이터프레임 생성\n",
        "age <- c(22, 20, 25)\n",
        "gender <- factor(c(\"M\", \"F\", \"M\"))\n",
        "blood.type <- factor(c(\"A\", \"O\", \"B\"))\n",
        "\n",
        "patients1 = data.frame(name, age, gender)\n",
        "patients2 = data.frame(name, blood.type)"
      ],
      "metadata": {
        "id": "sLaMspyc9U55"
      },
      "execution_count": 11,
      "outputs": []
    },
    {
      "cell_type": "code",
      "source": [
        "patients1  #결과 출력\n",
        "patients2"
      ],
      "metadata": {
        "colab": {
          "base_uri": "https://localhost:8080/",
          "height": 367
        },
        "id": "8n6xA4aK9U_Q",
        "outputId": "6f62ce94-c743-41ce-fb43-3654c03296ef"
      },
      "execution_count": 12,
      "outputs": [
        {
          "output_type": "display_data",
          "data": {
            "text/html": [
              "<table class=\"dataframe\">\n",
              "<caption>A data.frame: 3 × 3</caption>\n",
              "<thead>\n",
              "\t<tr><th scope=col>name</th><th scope=col>age</th><th scope=col>gender</th></tr>\n",
              "\t<tr><th scope=col>&lt;chr&gt;</th><th scope=col>&lt;dbl&gt;</th><th scope=col>&lt;fct&gt;</th></tr>\n",
              "</thead>\n",
              "<tbody>\n",
              "\t<tr><td>몽룡</td><td>22</td><td>M</td></tr>\n",
              "\t<tr><td>춘향</td><td>20</td><td>F</td></tr>\n",
              "\t<tr><td>길동</td><td>25</td><td>M</td></tr>\n",
              "</tbody>\n",
              "</table>\n"
            ],
            "text/markdown": "\nA data.frame: 3 × 3\n\n| name &lt;chr&gt; | age &lt;dbl&gt; | gender &lt;fct&gt; |\n|---|---|---|\n| 몽룡 | 22 | M |\n| 춘향 | 20 | F |\n| 길동 | 25 | M |\n\n",
            "text/latex": "A data.frame: 3 × 3\n\\begin{tabular}{lll}\n name & age & gender\\\\\n <chr> & <dbl> & <fct>\\\\\n\\hline\n\t 몽룡 & 22 & M\\\\\n\t 춘향 & 20 & F\\\\\n\t 길동 & 25 & M\\\\\n\\end{tabular}\n",
            "text/plain": [
              "  name age gender\n",
              "1 몽룡 22  M     \n",
              "2 춘향 20  F     \n",
              "3 길동 25  M     "
            ]
          },
          "metadata": {}
        },
        {
          "output_type": "display_data",
          "data": {
            "text/html": [
              "<table class=\"dataframe\">\n",
              "<caption>A data.frame: 3 × 2</caption>\n",
              "<thead>\n",
              "\t<tr><th scope=col>name</th><th scope=col>blood.type</th></tr>\n",
              "\t<tr><th scope=col>&lt;chr&gt;</th><th scope=col>&lt;fct&gt;</th></tr>\n",
              "</thead>\n",
              "<tbody>\n",
              "\t<tr><td>몽룡</td><td>A</td></tr>\n",
              "\t<tr><td>춘향</td><td>O</td></tr>\n",
              "\t<tr><td>길동</td><td>B</td></tr>\n",
              "</tbody>\n",
              "</table>\n"
            ],
            "text/markdown": "\nA data.frame: 3 × 2\n\n| name &lt;chr&gt; | blood.type &lt;fct&gt; |\n|---|---|\n| 몽룡 | A |\n| 춘향 | O |\n| 길동 | B |\n\n",
            "text/latex": "A data.frame: 3 × 2\n\\begin{tabular}{ll}\n name & blood.type\\\\\n <chr> & <fct>\\\\\n\\hline\n\t 몽룡 & A\\\\\n\t 춘향 & O\\\\\n\t 길동 & B\\\\\n\\end{tabular}\n",
            "text/plain": [
              "  name blood.type\n",
              "1 몽룡 A         \n",
              "2 춘향 O         \n",
              "3 길동 B         "
            ]
          },
          "metadata": {}
        }
      ]
    },
    {
      "cell_type": "markdown",
      "source": [
        "여기까지가 연습문제 2번 코드였습니다."
      ],
      "metadata": {
        "id": "4Mt4BAJ_9ePS"
      }
    },
    {
      "cell_type": "code",
      "source": [
        "patients <- merge(patients1, patients2, by = \"name\") # 두 데이터프레임을 'name' 열을 기준으로 병합 여기서 = 연산자는 마지막에 대입할때만 사용함."
      ],
      "metadata": {
        "id": "1Airw2tf9izO"
      },
      "execution_count": 13,
      "outputs": []
    },
    {
      "cell_type": "code",
      "source": [
        "patients #결과 출력"
      ],
      "metadata": {
        "colab": {
          "base_uri": "https://localhost:8080/",
          "height": 192
        },
        "id": "i8ybW8Jj9t_7",
        "outputId": "b5f479c2-0665-4c66-e6f6-817248042b83"
      },
      "execution_count": 14,
      "outputs": [
        {
          "output_type": "display_data",
          "data": {
            "text/html": [
              "<table class=\"dataframe\">\n",
              "<caption>A data.frame: 3 × 4</caption>\n",
              "<thead>\n",
              "\t<tr><th scope=col>name</th><th scope=col>age</th><th scope=col>gender</th><th scope=col>blood.type</th></tr>\n",
              "\t<tr><th scope=col>&lt;chr&gt;</th><th scope=col>&lt;dbl&gt;</th><th scope=col>&lt;fct&gt;</th><th scope=col>&lt;fct&gt;</th></tr>\n",
              "</thead>\n",
              "<tbody>\n",
              "\t<tr><td>길동</td><td>25</td><td>M</td><td>B</td></tr>\n",
              "\t<tr><td>몽룡</td><td>22</td><td>M</td><td>A</td></tr>\n",
              "\t<tr><td>춘향</td><td>20</td><td>F</td><td>O</td></tr>\n",
              "</tbody>\n",
              "</table>\n"
            ],
            "text/markdown": "\nA data.frame: 3 × 4\n\n| name &lt;chr&gt; | age &lt;dbl&gt; | gender &lt;fct&gt; | blood.type &lt;fct&gt; |\n|---|---|---|---|\n| 길동 | 25 | M | B |\n| 몽룡 | 22 | M | A |\n| 춘향 | 20 | F | O |\n\n",
            "text/latex": "A data.frame: 3 × 4\n\\begin{tabular}{llll}\n name & age & gender & blood.type\\\\\n <chr> & <dbl> & <fct> & <fct>\\\\\n\\hline\n\t 길동 & 25 & M & B\\\\\n\t 몽룡 & 22 & M & A\\\\\n\t 춘향 & 20 & F & O\\\\\n\\end{tabular}\n",
            "text/plain": [
              "  name age gender blood.type\n",
              "1 길동 25  M      B         \n",
              "2 몽룡 22  M      A         \n",
              "3 춘향 20  F      O         "
            ]
          },
          "metadata": {}
        }
      ]
    },
    {
      "cell_type": "markdown",
      "source": [
        "여기까지가 3번 문제였습니다."
      ],
      "metadata": {
        "id": "vAxPrqce92AU"
      }
    },
    {
      "cell_type": "code",
      "source": [
        "patients$gender <- as.factor(patients$gender) # gender 열을 factor 타입으로 변경\n"
      ],
      "metadata": {
        "id": "KRpLkYL294U3"
      },
      "execution_count": 30,
      "outputs": []
    },
    {
      "cell_type": "code",
      "source": [
        "#1번은 남자, 2번은 여자로 레벨을 주서 출력하려면 아래와 같이 진행\n",
        "#patients$gender <- as.factor(patients$gender, level=c(1:2),labels=c(\"남자\",\"여자\"))"
      ],
      "metadata": {
        "id": "T0aPcnL_DZcM"
      },
      "execution_count": null,
      "outputs": []
    },
    {
      "cell_type": "code",
      "source": [
        "patients # 결과 출력"
      ],
      "metadata": {
        "colab": {
          "base_uri": "https://localhost:8080/",
          "height": 192
        },
        "id": "eP-PNtbZ98zr",
        "outputId": "e1e4e52b-9673-4f1a-d32f-b846e0733992"
      },
      "execution_count": 16,
      "outputs": [
        {
          "output_type": "display_data",
          "data": {
            "text/html": [
              "<table class=\"dataframe\">\n",
              "<caption>A data.frame: 3 × 4</caption>\n",
              "<thead>\n",
              "\t<tr><th scope=col>name</th><th scope=col>age</th><th scope=col>gender</th><th scope=col>blood.type</th></tr>\n",
              "\t<tr><th scope=col>&lt;chr&gt;</th><th scope=col>&lt;dbl&gt;</th><th scope=col>&lt;fct&gt;</th><th scope=col>&lt;fct&gt;</th></tr>\n",
              "</thead>\n",
              "<tbody>\n",
              "\t<tr><td>길동</td><td>25</td><td>M</td><td>B</td></tr>\n",
              "\t<tr><td>몽룡</td><td>22</td><td>M</td><td>A</td></tr>\n",
              "\t<tr><td>춘향</td><td>20</td><td>F</td><td>O</td></tr>\n",
              "</tbody>\n",
              "</table>\n"
            ],
            "text/markdown": "\nA data.frame: 3 × 4\n\n| name &lt;chr&gt; | age &lt;dbl&gt; | gender &lt;fct&gt; | blood.type &lt;fct&gt; |\n|---|---|---|---|\n| 길동 | 25 | M | B |\n| 몽룡 | 22 | M | A |\n| 춘향 | 20 | F | O |\n\n",
            "text/latex": "A data.frame: 3 × 4\n\\begin{tabular}{llll}\n name & age & gender & blood.type\\\\\n <chr> & <dbl> & <fct> & <fct>\\\\\n\\hline\n\t 길동 & 25 & M & B\\\\\n\t 몽룡 & 22 & M & A\\\\\n\t 춘향 & 20 & F & O\\\\\n\\end{tabular}\n",
            "text/plain": [
              "  name age gender blood.type\n",
              "1 길동 25  M      B         \n",
              "2 몽룡 22  M      A         \n",
              "3 춘향 20  F      O         "
            ]
          },
          "metadata": {}
        }
      ]
    },
    {
      "cell_type": "markdown",
      "source": [
        "여기까지가 4번 문제였습니다."
      ],
      "metadata": {
        "id": "LC9Mp8n6-BPI"
      }
    },
    {
      "cell_type": "code",
      "source": [
        "# age가 25보다 작은 데이터만 추출\n",
        "under25 <- subset(patients, age < 25)"
      ],
      "metadata": {
        "id": "PvNZrWWB-FjF"
      },
      "execution_count": 17,
      "outputs": []
    },
    {
      "cell_type": "code",
      "source": [
        "under25"
      ],
      "metadata": {
        "colab": {
          "base_uri": "https://localhost:8080/",
          "height": 161
        },
        "id": "wnekesDq-OVW",
        "outputId": "c4a9be04-6e1c-4bbb-e1ff-873b508f2ac6"
      },
      "execution_count": 18,
      "outputs": [
        {
          "output_type": "display_data",
          "data": {
            "text/html": [
              "<table class=\"dataframe\">\n",
              "<caption>A data.frame: 2 × 4</caption>\n",
              "<thead>\n",
              "\t<tr><th></th><th scope=col>name</th><th scope=col>age</th><th scope=col>gender</th><th scope=col>blood.type</th></tr>\n",
              "\t<tr><th></th><th scope=col>&lt;chr&gt;</th><th scope=col>&lt;dbl&gt;</th><th scope=col>&lt;fct&gt;</th><th scope=col>&lt;fct&gt;</th></tr>\n",
              "</thead>\n",
              "<tbody>\n",
              "\t<tr><th scope=row>2</th><td>몽룡</td><td>22</td><td>M</td><td>A</td></tr>\n",
              "\t<tr><th scope=row>3</th><td>춘향</td><td>20</td><td>F</td><td>O</td></tr>\n",
              "</tbody>\n",
              "</table>\n"
            ],
            "text/markdown": "\nA data.frame: 2 × 4\n\n| <!--/--> | name &lt;chr&gt; | age &lt;dbl&gt; | gender &lt;fct&gt; | blood.type &lt;fct&gt; |\n|---|---|---|---|---|\n| 2 | 몽룡 | 22 | M | A |\n| 3 | 춘향 | 20 | F | O |\n\n",
            "text/latex": "A data.frame: 2 × 4\n\\begin{tabular}{r|llll}\n  & name & age & gender & blood.type\\\\\n  & <chr> & <dbl> & <fct> & <fct>\\\\\n\\hline\n\t2 & 몽룡 & 22 & M & A\\\\\n\t3 & 춘향 & 20 & F & O\\\\\n\\end{tabular}\n",
            "text/plain": [
              "  name age gender blood.type\n",
              "2 몽룡 22  M      A         \n",
              "3 춘향 20  F      O         "
            ]
          },
          "metadata": {}
        }
      ]
    },
    {
      "cell_type": "markdown",
      "source": [
        "여기까지가 5번 문제였습니다."
      ],
      "metadata": {
        "id": "F00NLQVi-Qld"
      }
    },
    {
      "cell_type": "code",
      "source": [
        "# age가 25보다 작은 데이터 중 name과 age만 추출\n",
        "under25nameage <- subset(patients, age < 25, select = c(\"name\", \"age\"))"
      ],
      "metadata": {
        "id": "eo0ZRavm-S9m"
      },
      "execution_count": 19,
      "outputs": []
    },
    {
      "cell_type": "code",
      "source": [
        "under25nameage"
      ],
      "metadata": {
        "colab": {
          "base_uri": "https://localhost:8080/",
          "height": 161
        },
        "id": "jq6V4l92-fim",
        "outputId": "7d813a70-de1a-4cf2-dfb4-84046b184eac"
      },
      "execution_count": 20,
      "outputs": [
        {
          "output_type": "display_data",
          "data": {
            "text/html": [
              "<table class=\"dataframe\">\n",
              "<caption>A data.frame: 2 × 2</caption>\n",
              "<thead>\n",
              "\t<tr><th></th><th scope=col>name</th><th scope=col>age</th></tr>\n",
              "\t<tr><th></th><th scope=col>&lt;chr&gt;</th><th scope=col>&lt;dbl&gt;</th></tr>\n",
              "</thead>\n",
              "<tbody>\n",
              "\t<tr><th scope=row>2</th><td>몽룡</td><td>22</td></tr>\n",
              "\t<tr><th scope=row>3</th><td>춘향</td><td>20</td></tr>\n",
              "</tbody>\n",
              "</table>\n"
            ],
            "text/markdown": "\nA data.frame: 2 × 2\n\n| <!--/--> | name &lt;chr&gt; | age &lt;dbl&gt; |\n|---|---|---|\n| 2 | 몽룡 | 22 |\n| 3 | 춘향 | 20 |\n\n",
            "text/latex": "A data.frame: 2 × 2\n\\begin{tabular}{r|ll}\n  & name & age\\\\\n  & <chr> & <dbl>\\\\\n\\hline\n\t2 & 몽룡 & 22\\\\\n\t3 & 춘향 & 20\\\\\n\\end{tabular}\n",
            "text/plain": [
              "  name age\n",
              "2 몽룡 22 \n",
              "3 춘향 20 "
            ]
          },
          "metadata": {}
        }
      ]
    },
    {
      "cell_type": "markdown",
      "source": [
        "여기까지가 6번 문제였습니다.\n"
      ],
      "metadata": {
        "id": "ZQRQ4w0--m0O"
      }
    },
    {
      "cell_type": "code",
      "source": [
        "#https://drive.google.com/file/d/1NN2s7DGCRNwkXAxvqq54_KOPFOWeAmKM/view?usp=drive_link\n",
        "system(\"gdown --id 1NN2s7DGCRNwkXAxvqq54_KOPFOWeAmKM\")\n",
        "system(\"ls\", TRUE) # 파일 확인"
      ],
      "metadata": {
        "colab": {
          "base_uri": "https://localhost:8080/",
          "height": 34
        },
        "id": "FedOyZdN-kAX",
        "outputId": "2b5c4202-5dfc-4930-c37f-ce28391be06b"
      },
      "execution_count": 26,
      "outputs": [
        {
          "output_type": "display_data",
          "data": {
            "text/html": [
              "<style>\n",
              ".list-inline {list-style: none; margin:0; padding: 0}\n",
              ".list-inline>li {display: inline-block}\n",
              ".list-inline>li:not(:last-child)::after {content: \"\\00b7\"; padding: 0 .5ex}\n",
              "</style>\n",
              "<ol class=list-inline><li>'Pre_Season_Batter.csv'</li><li>'sample_data'</li></ol>\n"
            ],
            "text/markdown": "1. 'Pre_Season_Batter.csv'\n2. 'sample_data'\n\n\n",
            "text/latex": "\\begin{enumerate*}\n\\item 'Pre\\_Season\\_Batter.csv'\n\\item 'sample\\_data'\n\\end{enumerate*}\n",
            "text/plain": [
              "[1] \"Pre_Season_Batter.csv\" \"sample_data\"          "
            ]
          },
          "metadata": {}
        }
      ]
    },
    {
      "cell_type": "code",
      "source": [
        "prebatter <- read.csv(file= \"/content/Pre_Season_Batter.csv\", header=TRUE, fileEncoding =\"euc-kr\")\n",
        "str(prebatter)\n",
        "nrow(prebatter)"
      ],
      "metadata": {
        "colab": {
          "base_uri": "https://localhost:8080/",
          "height": 599
        },
        "id": "gTwKf0fSBBqd",
        "outputId": "7a3c9e3f-337a-413e-b383-849b4b3f8506"
      },
      "execution_count": 36,
      "outputs": [
        {
          "output_type": "stream",
          "name": "stdout",
          "text": [
            "'data.frame':\t1393 obs. of  29 variables:\n",
            " $ batter_id      : int  0 1 1 1 1 1 2 2 2 69 ...\n",
            " $ batter_name    : chr  \"가르시아\" \"강경학\" \"강경학\" \"강경학\" ...\n",
            " $ year           : int  2018 2011 2014 2015 2016 2017 2013 2016 2017 2006 ...\n",
            " $ team           : chr  \"LG\" \"한화\" \"한화\" \"한화\" ...\n",
            " $ avg            : chr  \"0.35\" \"0\" \"-\" \"0.13\" ...\n",
            " $ G              : int  7 4 4 10 14 11 3 3 2 10 ...\n",
            " $ AB             : int  20 2 0 23 32 36 4 1 1 15 ...\n",
            " $ R              : int  1 2 2 3 4 10 0 0 0 0 ...\n",
            " $ H              : int  7 0 0 3 6 8 0 0 1 3 ...\n",
            " $ X2B            : int  1 0 0 0 1 0 0 0 0 0 ...\n",
            " $ X3B            : int  0 0 0 0 1 0 0 0 0 0 ...\n",
            " $ HR             : int  1 0 0 0 0 2 0 0 0 0 ...\n",
            " $ TB             : int  11 0 0 3 9 14 0 0 1 3 ...\n",
            " $ RBI            : int  5 1 0 1 2 4 0 0 0 3 ...\n",
            " $ SB             : int  0 0 0 3 1 0 0 1 0 0 ...\n",
            " $ CS             : int  0 1 0 0 2 0 0 0 0 0 ...\n",
            " $ BB             : int  2 0 0 4 0 3 0 1 0 1 ...\n",
            " $ HBP            : int  0 2 0 1 1 0 0 0 0 1 ...\n",
            " $ SO             : int  3 1 0 9 10 10 0 0 0 5 ...\n",
            " $ GDP            : int  1 0 0 0 0 0 1 1 0 1 ...\n",
            " $ SLG            : num  0.55 0 NA 0.13 0.281 0.389 0 0 1 0.2 ...\n",
            " $ OBP            : num  0.409 0.5 NA 0.286 0.212 0.282 0 0.5 1 0.278 ...\n",
            " $ E              : int  1 0 0 2 0 1 0 0 0 0 ...\n",
            " $ height.weight  : chr  \"177cm/93kg\" \"180cm/72kg\" \"180cm/72kg\" \"180cm/72kg\" ...\n",
            " $ year_born      : chr  \"1985년 04월 12일\" \"1992년 08월 11일\" \"1992년 08월 11일\" \"1992년 08월 11일\" ...\n",
            " $ position       : chr  \"내야수(우투우타)\" \"내야수(우투좌타)\" \"내야수(우투좌타)\" \"내야수(우투좌타)\" ...\n",
            " $ career         : chr  \"쿠바 Ciego de Avila Maximo Gomez Baez(대)\" \"광주대성초-광주동성중-광주동성고\" \"광주대성초-광주동성중-광주동성고\" \"광주대성초-광주동성중-광주동성고\" ...\n",
            " $ starting_salary: chr  \"\" \"10000만원\" \"10000만원\" \"10000만원\" ...\n",
            " $ OPS            : num  0.959 0.5 NA 0.416 0.493 0.671 0 0.5 2 0.478 ...\n"
          ]
        },
        {
          "output_type": "display_data",
          "data": {
            "text/html": [
              "1393"
            ],
            "text/markdown": "1393",
            "text/latex": "1393",
            "text/plain": [
              "[1] 1393"
            ]
          },
          "metadata": {}
        }
      ]
    },
    {
      "cell_type": "markdown",
      "source": [
        "여기까지 7번 문제였습니다."
      ],
      "metadata": {
        "id": "8idGzFVmFpw6"
      }
    },
    {
      "cell_type": "code",
      "source": [
        "na_slg_count <- sum(is.na(prebatter$SLG))\n",
        "cat(\"장타율(SLG)의 NA 개수:\", na_slg_count, \"\\n\")\n",
        "\n",
        "na_e_count <- sum(is.na(prebatter$E))\n",
        "cat(\"실책(E)의 NA 개수:\", na_e_count, \"\\n\")\n"
      ],
      "metadata": {
        "colab": {
          "base_uri": "https://localhost:8080/"
        },
        "id": "iq_MVGf_FueL",
        "outputId": "4b1d9aa4-e468-4e33-810f-3c19389ebd87"
      },
      "execution_count": 47,
      "outputs": [
        {
          "output_type": "stream",
          "name": "stdout",
          "text": [
            "장타율(SLG)의 NA 개수: 0 \n",
            "실책(E)의 NA 개수: 0 \n"
          ]
        }
      ]
    },
    {
      "cell_type": "markdown",
      "source": [
        "여기까지 8번 문제였습니다."
      ],
      "metadata": {
        "id": "LsiNUbUSGK0m"
      }
    },
    {
      "cell_type": "code",
      "source": [
        "avg_slg <- mean(prebatter$SLG, na.rm = TRUE)\n",
        "cat(\"장타율(SLG)의 평균:\", avg_slg, \"\\n\")\n",
        "\n",
        "avg_e <- mean(prebatter$E, na.rm = TRUE)\n",
        "cat(\"실책(E)의 평균:\", avg_e, \"\\n\")\n"
      ],
      "metadata": {
        "colab": {
          "base_uri": "https://localhost:8080/"
        },
        "id": "riMTVJNXGMbl",
        "outputId": "b69a7a16-7e9a-497c-c16c-3f649ca82564"
      },
      "execution_count": 38,
      "outputs": [
        {
          "output_type": "stream",
          "name": "stdout",
          "text": [
            "장타율(SLG)의 평균: 0.3610125 \n",
            "실책(E)의 평균: 0.3819095 \n"
          ]
        }
      ]
    },
    {
      "cell_type": "markdown",
      "source": [
        "여기까지 9번 문제였습니다."
      ],
      "metadata": {
        "id": "TPmwJ-ByGRgq"
      }
    },
    {
      "cell_type": "code",
      "source": [
        "prebatter$SLG[is.na(prebatter$SLG)] <- 0\n",
        "na_slg_count_after <- sum(is.na(prebatter$SLG))\n",
        "cat(\"장타율(SLG)의 NA 개수 (0으로 바꾼 후):\", na_slg_count_after, \"\\n\")\n"
      ],
      "metadata": {
        "colab": {
          "base_uri": "https://localhost:8080/"
        },
        "id": "z9dC3_YeGTLy",
        "outputId": "4d5ab79f-caf9-44a3-c7b0-3adc60e33da8"
      },
      "execution_count": 39,
      "outputs": [
        {
          "output_type": "stream",
          "name": "stdout",
          "text": [
            "장타율(SLG)의 NA 개수 (0으로 바꾼 후): 0 \n"
          ]
        }
      ]
    },
    {
      "cell_type": "markdown",
      "source": [
        "여기까지 10번 문제였습니다."
      ],
      "metadata": {
        "id": "t8xw9LbDGXBS"
      }
    },
    {
      "cell_type": "code",
      "source": [
        "# A. prebatter의 데이터 개수 출력\n",
        "initial_rows <- nrow(prebatter)\n",
        "cat(\"prebatter의 초기 데이터 개수:\", initial_rows, \"\\n\")"
      ],
      "metadata": {
        "colab": {
          "base_uri": "https://localhost:8080/"
        },
        "id": "YMFMA_6RGZSP",
        "outputId": "a8adc28e-3952-428d-a834-e2cb25ce2c69"
      },
      "execution_count": 40,
      "outputs": [
        {
          "output_type": "stream",
          "name": "stdout",
          "text": [
            "prebatter의 초기 데이터 개수: 1393 \n"
          ]
        }
      ]
    },
    {
      "cell_type": "markdown",
      "source": [
        "11번의 a문제였습니다."
      ],
      "metadata": {
        "id": "63XRcyCZGv7a"
      }
    },
    {
      "cell_type": "code",
      "source": [
        "# B. prebatter에서 NA인 데이터를 모두 제거하여 prebatter_none_na에 저장\n",
        "prebatter_none_na <- na.omit(prebatter)"
      ],
      "metadata": {
        "id": "RccGWs_0GzcE"
      },
      "execution_count": 41,
      "outputs": []
    },
    {
      "cell_type": "markdown",
      "source": [
        "11번의 b문제였습니다."
      ],
      "metadata": {
        "id": "srEkHOw0G6IZ"
      }
    },
    {
      "cell_type": "code",
      "source": [
        "# C. prebatter_none_na의 데이터 개수 출력\n",
        "final_rows <- nrow(prebatter_none_na)\n",
        "cat(\"NA가 제거된 후 prebatter_none_na의 데이터 개수:\", final_rows, \"\\n\")"
      ],
      "metadata": {
        "colab": {
          "base_uri": "https://localhost:8080/"
        },
        "id": "gTx2B49fG29_",
        "outputId": "ee31e6e5-bd17-4f0f-db82-47f054a5a7a5"
      },
      "execution_count": 42,
      "outputs": [
        {
          "output_type": "stream",
          "name": "stdout",
          "text": [
            "NA가 제거된 후 prebatter_none_na의 데이터 개수: 1364 \n"
          ]
        }
      ]
    },
    {
      "cell_type": "markdown",
      "source": [
        "11번의 c문제였습니다."
      ],
      "metadata": {
        "id": "Hshhqw_wG8PW"
      }
    },
    {
      "cell_type": "code",
      "source": [
        "# D. 몇 개의 NA가 제거되었는지 확인\n",
        "removed_rows <- initial_rows - final_rows\n",
        "cat(\"제거된 NA의 개수:\", removed_rows, \"\\n\")"
      ],
      "metadata": {
        "colab": {
          "base_uri": "https://localhost:8080/"
        },
        "id": "kUaThcwyG9f3",
        "outputId": "ff6d7e5d-29d5-4bba-ca82-3adcf6667fee"
      },
      "execution_count": 43,
      "outputs": [
        {
          "output_type": "stream",
          "name": "stdout",
          "text": [
            "제거된 NA의 개수: 29 \n"
          ]
        }
      ]
    },
    {
      "cell_type": "markdown",
      "source": [
        "11번의 D문제였습니다."
      ],
      "metadata": {
        "id": "ToSij-1YHAy2"
      }
    },
    {
      "cell_type": "code",
      "source": [
        "summary(prebatter) #12번 문제\n"
      ],
      "metadata": {
        "colab": {
          "base_uri": "https://localhost:8080/",
          "height": 1000
        },
        "id": "r232kEriHHIH",
        "outputId": "f1344118-6f05-448f-c7ef-1200e7ca1c67"
      },
      "execution_count": 48,
      "outputs": [
        {
          "output_type": "display_data",
          "data": {
            "text/plain": [
              "   batter_id     batter_name             year          team          \n",
              " Min.   :  0.0   Length:1393        Min.   :2002   Length:1393       \n",
              " 1st Qu.: 99.0   Class :character   1st Qu.:2010   Class :character  \n",
              " Median :178.0   Mode  :character   Median :2014   Mode  :character  \n",
              " Mean   :173.4                      Mean   :2013                     \n",
              " 3rd Qu.:254.0                      3rd Qu.:2017                     \n",
              " Max.   :344.0                      Max.   :2018                     \n",
              "                                                                     \n",
              "     avg                  G                 AB              R        \n",
              " Length:1393        Min.   :  1.000   Min.   :  0.0   Min.   : 0.00  \n",
              " Class :character   1st Qu.:  6.000   1st Qu.:  9.0   1st Qu.: 1.00  \n",
              " Mode  :character   Median :  9.000   Median : 18.0   Median : 2.00  \n",
              "                    Mean   :  8.706   Mean   : 19.2   Mean   : 2.68  \n",
              "                    3rd Qu.: 11.000   3rd Qu.: 28.0   3rd Qu.: 4.00  \n",
              "                    Max.   :119.000   Max.   :183.0   Max.   :35.00  \n",
              "                                                                     \n",
              "       H               X2B               X3B               HR       \n",
              " Min.   : 0.000   Min.   : 0.0000   Min.   :0.0000   Min.   :0.000  \n",
              " 1st Qu.: 2.000   1st Qu.: 0.0000   1st Qu.:0.0000   1st Qu.:0.000  \n",
              " Median : 4.000   Median : 1.0000   Median :0.0000   Median :0.000  \n",
              " Mean   : 5.022   Mean   : 0.9548   Mean   :0.1199   Mean   :0.392  \n",
              " 3rd Qu.: 8.000   3rd Qu.: 2.0000   3rd Qu.:0.0000   3rd Qu.:1.000  \n",
              " Max.   :51.000   Max.   :11.0000   Max.   :4.0000   Max.   :5.000  \n",
              "                                                                    \n",
              "       TB              RBI               SB               CS        \n",
              " Min.   : 0.000   Min.   : 0.000   Min.   :0.0000   Min.   :0.0000  \n",
              " 1st Qu.: 2.000   1st Qu.: 0.000   1st Qu.:0.0000   1st Qu.:0.0000  \n",
              " Median : 6.000   Median : 2.000   Median :0.0000   Median :0.0000  \n",
              " Mean   : 7.392   Mean   : 2.431   Mean   :0.6296   Mean   :0.2915  \n",
              " 3rd Qu.:11.000   3rd Qu.: 4.000   3rd Qu.:1.0000   3rd Qu.:0.0000  \n",
              " Max.   :68.000   Max.   :24.000   Max.   :9.0000   Max.   :4.0000  \n",
              "                                                                    \n",
              "       BB              HBP               SO              GDP        \n",
              " Min.   : 0.000   Min.   :0.0000   Min.   : 0.000   Min.   :0.0000  \n",
              " 1st Qu.: 0.000   1st Qu.:0.0000   1st Qu.: 1.000   1st Qu.:0.0000  \n",
              " Median : 1.000   Median :0.0000   Median : 3.000   Median :0.0000  \n",
              " Mean   : 1.878   Mean   :0.3302   Mean   : 3.714   Mean   :0.4472  \n",
              " 3rd Qu.: 3.000   3rd Qu.:1.0000   3rd Qu.: 5.000   3rd Qu.:1.0000  \n",
              " Max.   :21.000   Max.   :4.0000   Max.   :36.000   Max.   :5.0000  \n",
              "                                                                    \n",
              "      SLG              OBP               E          height.weight     \n",
              " Min.   :0.0000   Min.   :0.0000   Min.   :0.0000   Length:1393       \n",
              " 1st Qu.:0.2000   1st Qu.:0.2500   1st Qu.:0.0000   Class :character  \n",
              " Median :0.3330   Median :0.3330   Median :0.0000   Mode  :character  \n",
              " Mean   :0.3535   Mean   :0.3179   Mean   :0.3819                     \n",
              " 3rd Qu.:0.4760   3rd Qu.:0.4000   3rd Qu.:1.0000                     \n",
              " Max.   :4.0000   Max.   :1.0000   Max.   :5.0000                     \n",
              "                  NA's   :25                                          \n",
              "  year_born           position            career          starting_salary   \n",
              " Length:1393        Length:1393        Length:1393        Length:1393       \n",
              " Class :character   Class :character   Class :character   Class :character  \n",
              " Mode  :character   Mode  :character   Mode  :character   Mode  :character  \n",
              "                                                                            \n",
              "                                                                            \n",
              "                                                                            \n",
              "                                                                            \n",
              "      OPS        \n",
              " Min.   :0.0000  \n",
              " 1st Qu.:0.4720  \n",
              " Median :0.6750  \n",
              " Mean   :0.6769  \n",
              " 3rd Qu.:0.8670  \n",
              " Max.   :5.0000  \n",
              " NA's   :29      "
            ]
          },
          "metadata": {}
        }
      ]
    },
    {
      "cell_type": "code",
      "source": [
        "boxplot(prebatter[,1])$stats #13번"
      ],
      "metadata": {
        "colab": {
          "base_uri": "https://localhost:8080/",
          "height": 698
        },
        "id": "t8QV-Z5KIavt",
        "outputId": "fb9ad0a6-eef1-4578-c269-cbb6775bc02a"
      },
      "execution_count": 50,
      "outputs": [
        {
          "output_type": "display_data",
          "data": {
            "text/html": [
              "<table class=\"dataframe\">\n",
              "<caption>A matrix: 5 × 1 of type dbl</caption>\n",
              "<tbody>\n",
              "\t<tr><td>  0</td></tr>\n",
              "\t<tr><td> 99</td></tr>\n",
              "\t<tr><td>178</td></tr>\n",
              "\t<tr><td>254</td></tr>\n",
              "\t<tr><td>344</td></tr>\n",
              "</tbody>\n",
              "</table>\n"
            ],
            "text/markdown": "\nA matrix: 5 × 1 of type dbl\n\n|   0 |\n|  99 |\n| 178 |\n| 254 |\n| 344 |\n\n",
            "text/latex": "A matrix: 5 × 1 of type dbl\n\\begin{tabular}{l}\n\t   0\\\\\n\t  99\\\\\n\t 178\\\\\n\t 254\\\\\n\t 344\\\\\n\\end{tabular}\n",
            "text/plain": [
              "     [,1]\n",
              "[1,]   0 \n",
              "[2,]  99 \n",
              "[3,] 178 \n",
              "[4,] 254 \n",
              "[5,] 344 "
            ]
          },
          "metadata": {}
        },
        {
          "output_type": "display_data",
          "data": {
            "text/plain": [
              "plot without title"
            ],
            "image/png": "[encoded data removed]"
          },
          "metadata": {
            "image/png": {
              "width": 420,
              "height": 420
            }
          }
        }
      ]
    },
    {
      "cell_type": "code",
      "source": [
        "boxplot(prebatter$RBI)$stats\n",
        "summary(prebatter$RBI)"
      ],
      "metadata": {
        "colab": {
          "base_uri": "https://localhost:8080/",
          "height": 734
        },
        "id": "vBWTfWM7Jl1e",
        "outputId": "cc4f7255-2f1e-4bb6-c9b8-fd38b955b207"
      },
      "execution_count": 59,
      "outputs": [
        {
          "output_type": "display_data",
          "data": {
            "text/html": [
              "<table class=\"dataframe\">\n",
              "<caption>A matrix: 5 × 1 of type dbl</caption>\n",
              "<tbody>\n",
              "\t<tr><td> 0</td></tr>\n",
              "\t<tr><td> 0</td></tr>\n",
              "\t<tr><td> 2</td></tr>\n",
              "\t<tr><td> 4</td></tr>\n",
              "\t<tr><td>10</td></tr>\n",
              "</tbody>\n",
              "</table>\n"
            ],
            "text/markdown": "\nA matrix: 5 × 1 of type dbl\n\n|  0 |\n|  0 |\n|  2 |\n|  4 |\n| 10 |\n\n",
            "text/latex": "A matrix: 5 × 1 of type dbl\n\\begin{tabular}{l}\n\t  0\\\\\n\t  0\\\\\n\t  2\\\\\n\t  4\\\\\n\t 10\\\\\n\\end{tabular}\n",
            "text/plain": [
              "     [,1]\n",
              "[1,]  0  \n",
              "[2,]  0  \n",
              "[3,]  2  \n",
              "[4,]  4  \n",
              "[5,] 10  "
            ]
          },
          "metadata": {}
        },
        {
          "output_type": "display_data",
          "data": {
            "text/plain": [
              "   Min. 1st Qu.  Median    Mean 3rd Qu.    Max. \n",
              "  0.000   0.000   2.000   2.431   4.000  24.000 "
            ]
          },
          "metadata": {}
        },
        {
          "output_type": "display_data",
          "data": {
            "text/plain": [
              "plot without title"
            ],
            "image/png": "[encoded data removed]"
          },
          "metadata": {
            "image/png": {
              "width": 420,
              "height": 420
            }
          }
        }
      ]
    },
    {
      "cell_type": "code",
      "source": [
        "boxplot(prebatter[, 6:14 ])$stats"
      ],
      "metadata": {
        "colab": {
          "base_uri": "https://localhost:8080/",
          "height": 611
        },
        "id": "FKFp_AfyJvmy",
        "outputId": "faa71a61-e28c-4c4f-d998-90a28a393596"
      },
      "execution_count": 52,
      "outputs": [
        {
          "output_type": "display_data",
          "data": {
            "text/html": [
              "<table class=\"dataframe\">\n",
              "<caption>A matrix: 5 × 9 of type dbl</caption>\n",
              "<tbody>\n",
              "\t<tr><td> 1</td><td> 0</td><td>0</td><td> 0</td><td>0</td><td>0</td><td>0</td><td> 0</td><td> 0</td></tr>\n",
              "\t<tr><td> 6</td><td> 9</td><td>1</td><td> 2</td><td>0</td><td>0</td><td>0</td><td> 2</td><td> 0</td></tr>\n",
              "\t<tr><td> 9</td><td>18</td><td>2</td><td> 4</td><td>1</td><td>0</td><td>0</td><td> 6</td><td> 2</td></tr>\n",
              "\t<tr><td>11</td><td>28</td><td>4</td><td> 8</td><td>2</td><td>0</td><td>1</td><td>11</td><td> 4</td></tr>\n",
              "\t<tr><td>17</td><td>56</td><td>8</td><td>17</td><td>5</td><td>0</td><td>2</td><td>24</td><td>10</td></tr>\n",
              "</tbody>\n",
              "</table>\n"
            ],
            "text/markdown": "\nA matrix: 5 × 9 of type dbl\n\n|  1 |  0 | 0 |  0 | 0 | 0 | 0 |  0 |  0 |\n|  6 |  9 | 1 |  2 | 0 | 0 | 0 |  2 |  0 |\n|  9 | 18 | 2 |  4 | 1 | 0 | 0 |  6 |  2 |\n| 11 | 28 | 4 |  8 | 2 | 0 | 1 | 11 |  4 |\n| 17 | 56 | 8 | 17 | 5 | 0 | 2 | 24 | 10 |\n\n",
            "text/latex": "A matrix: 5 × 9 of type dbl\n\\begin{tabular}{lllllllll}\n\t  1 &  0 & 0 &  0 & 0 & 0 & 0 &  0 &  0\\\\\n\t  6 &  9 & 1 &  2 & 0 & 0 & 0 &  2 &  0\\\\\n\t  9 & 18 & 2 &  4 & 1 & 0 & 0 &  6 &  2\\\\\n\t 11 & 28 & 4 &  8 & 2 & 0 & 1 & 11 &  4\\\\\n\t 17 & 56 & 8 & 17 & 5 & 0 & 2 & 24 & 10\\\\\n\\end{tabular}\n",
            "text/plain": [
              "     [,1] [,2] [,3] [,4] [,5] [,6] [,7] [,8] [,9]\n",
              "[1,]  1    0   0     0   0    0    0     0    0  \n",
              "[2,]  6    9   1     2   0    0    0     2    0  \n",
              "[3,]  9   18   2     4   1    0    0     6    2  \n",
              "[4,] 11   28   4     8   2    0    1    11    4  \n",
              "[5,] 17   56   8    17   5    0    2    24   10  "
            ]
          },
          "metadata": {}
        },
        {
          "output_type": "display_data",
          "data": {
            "text/plain": [
              "plot without title"
            ],
            "image/png": "[encoded data removed]"
          },
          "metadata": {
            "image/png": {
              "width": 420,
              "height": 420
            }
          }
        }
      ]
    },
    {
      "cell_type": "code",
      "source": [
        "table(is.na(prebatter$H))"
      ],
      "metadata": {
        "colab": {
          "base_uri": "https://localhost:8080/",
          "height": 71
        },
        "id": "PWsgAOmwKBdX",
        "outputId": "01a7c50e-e74f-45f7-9524-0357e0904179"
      },
      "execution_count": 53,
      "outputs": [
        {
          "output_type": "display_data",
          "data": {
            "text/plain": [
              "\n",
              "FALSE \n",
              " 1393 "
            ]
          },
          "metadata": {}
        }
      ]
    },
    {
      "cell_type": "code",
      "source": [
        "boxplot(prebatter$H)"
      ],
      "metadata": {
        "colab": {
          "base_uri": "https://localhost:8080/",
          "height": 437
        },
        "id": "FezxbGb8KGqL",
        "outputId": "cb66e97f-a2d2-4dc2-c2d2-b52155a2f349"
      },
      "execution_count": 54,
      "outputs": [
        {
          "output_type": "display_data",
          "data": {
            "text/plain": [
              "plot without title"
            ],
            "image/png": "[encoded data removed]"
          },
          "metadata": {
            "image/png": {
              "width": 420,
              "height": 420
            }
          }
        }
      ]
    },
    {
      "cell_type": "code",
      "source": [
        "summary(prebatter$H)"
      ],
      "metadata": {
        "colab": {
          "base_uri": "https://localhost:8080/",
          "height": 53
        },
        "id": "vuXZ5mDOKSfF",
        "outputId": "a3402340-7783-4635-c068-3d688f5560b9"
      },
      "execution_count": 55,
      "outputs": [
        {
          "output_type": "display_data",
          "data": {
            "text/plain": [
              "   Min. 1st Qu.  Median    Mean 3rd Qu.    Max. \n",
              "  0.000   2.000   4.000   5.022   8.000  51.000 "
            ]
          },
          "metadata": {}
        }
      ]
    },
    {
      "cell_type": "code",
      "source": [
        "iqr <- IQR(prebatter$H)\n",
        "upperfence <- summary(prebatter$H)[5]+iqr*1.5\n",
        "prebatter$H <-  ifelse(prebatter$H > upperfence,NA, prebatter$H)\n"
      ],
      "metadata": {
        "id": "pVkycXtMKWcF"
      },
      "execution_count": 57,
      "outputs": []
    },
    {
      "cell_type": "code",
      "source": [],
      "metadata": {
        "id": "ndH7W5n2K8MN"
      },
      "execution_count": null,
      "outputs": []
    }
  ]
}