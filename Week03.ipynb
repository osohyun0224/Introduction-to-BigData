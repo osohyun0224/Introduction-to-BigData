{
  "nbformat": 4,
  "nbformat_minor": 0,
  "metadata": {
    "colab": {
      "provenance": [],
      "gpuType": "T4",
      "authorship_tag": "ABX9TyNLMudbDy1G4NJ+LVQZzNMq",
      "include_colab_link": true
    },
    "kernelspec": {
      "name": "ir",
      "display_name": "R"
    },
    "language_info": {
      "name": "R"
    },
    "accelerator": "GPU"
  },
  "cells": [
    {
      "cell_type": "markdown",
      "metadata": {
        "id": "view-in-github",
        "colab_type": "text"
      },
      "source": [
        "<a href=\"https://colab.research.google.com/github/osohyun0224/Introduction-to-BigData/blob/master/Week03.ipynb\" target=\"_parent\"><img src=\"https://colab.research.google.com/assets/colab-badge.svg\" alt=\"Open In Colab\"/></a>"
      ]
    },
    {
      "cell_type": "code",
      "execution_count": null,
      "metadata": {
        "id": "oYwh6z2E0ysE"
      },
      "outputs": [],
      "source": [
        "#/content/sample_data/Pre_Season_Batter_utf.csv\n",
        "#https://drive.google.com/file/d/1lPZ_dyxdZZECfzqmOimWHukmLaRwLggB/view?usp=drive_link"
      ]
    },
    {
      "cell_type": "code",
      "source": [
        "install.packages(\"tidyverse\")"
      ],
      "metadata": {
        "colab": {
          "base_uri": "https://localhost:8080/"
        },
        "id": "F7NeH8Bm2NxU",
        "outputId": "e770f931-678b-4f89-93a6-687260e07343"
      },
      "execution_count": 6,
      "outputs": [
        {
          "output_type": "stream",
          "name": "stderr",
          "text": [
            "Installing package into ‘/usr/local/lib/R/site-library’\n",
            "(as ‘lib’ is unspecified)\n",
            "\n"
          ]
        }
      ]
    },
    {
      "cell_type": "code",
      "source": [
        "library(tidyverse)"
      ],
      "metadata": {
        "colab": {
          "base_uri": "https://localhost:8080/"
        },
        "id": "f91x_3o71jU8",
        "outputId": "b26b36ae-eaa4-46fc-cc56-c981c1253d30"
      },
      "execution_count": 7,
      "outputs": [
        {
          "output_type": "stream",
          "name": "stderr",
          "text": [
            "── \u001b[1mAttaching core tidyverse packages\u001b[22m ──────────────────────── tidyverse 2.0.0 ──\n",
            "\u001b[32m✔\u001b[39m \u001b[34mdplyr    \u001b[39m 1.1.2     \u001b[32m✔\u001b[39m \u001b[34mreadr    \u001b[39m 2.1.4\n",
            "\u001b[32m✔\u001b[39m \u001b[34mforcats  \u001b[39m 1.0.0     \u001b[32m✔\u001b[39m \u001b[34mstringr  \u001b[39m 1.5.0\n",
            "\u001b[32m✔\u001b[39m \u001b[34mggplot2  \u001b[39m 3.4.3     \u001b[32m✔\u001b[39m \u001b[34mtibble   \u001b[39m 3.2.1\n",
            "\u001b[32m✔\u001b[39m \u001b[34mlubridate\u001b[39m 1.9.2     \u001b[32m✔\u001b[39m \u001b[34mtidyr    \u001b[39m 1.3.0\n",
            "\u001b[32m✔\u001b[39m \u001b[34mpurrr    \u001b[39m 1.0.2     \n",
            "── \u001b[1mConflicts\u001b[22m ────────────────────────────────────────── tidyverse_conflicts() ──\n",
            "\u001b[31m✖\u001b[39m \u001b[34mdplyr\u001b[39m::\u001b[32mfilter()\u001b[39m masks \u001b[34mstats\u001b[39m::filter()\n",
            "\u001b[31m✖\u001b[39m \u001b[34mdplyr\u001b[39m::\u001b[32mlag()\u001b[39m    masks \u001b[34mstats\u001b[39m::lag()\n",
            "\u001b[36mℹ\u001b[39m Use the conflicted package (\u001b[3m\u001b[34m<http://conflicted.r-lib.org/>\u001b[39m\u001b[23m) to force all conflicts to become errors\n"
          ]
        }
      ]
    },
    {
      "cell_type": "code",
      "source": [
        "library(data.table)"
      ],
      "metadata": {
        "id": "5A037n9I22nc",
        "colab": {
          "base_uri": "https://localhost:8080/"
        },
        "outputId": "4c091eea-62c7-4581-dd08-19c6370e23e6"
      },
      "execution_count": 8,
      "outputs": [
        {
          "output_type": "stream",
          "name": "stderr",
          "text": [
            "\n",
            "Attaching package: ‘data.table’\n",
            "\n",
            "\n",
            "The following objects are masked from ‘package:lubridate’:\n",
            "\n",
            "    hour, isoweek, mday, minute, month, quarter, second, wday, week,\n",
            "    yday, year\n",
            "\n",
            "\n",
            "The following objects are masked from ‘package:dplyr’:\n",
            "\n",
            "    between, first, last\n",
            "\n",
            "\n",
            "The following object is masked from ‘package:purrr’:\n",
            "\n",
            "    transpose\n",
            "\n",
            "\n"
          ]
        }
      ]
    },
    {
      "cell_type": "code",
      "source": [
        "system(\"gdown --id 1lPZ_dyxdZZECfzqmOimWHukmLaRwLggB\")\n",
        "system(\"ls\", TRUE) #파일확인"
      ],
      "metadata": {
        "colab": {
          "base_uri": "https://localhost:8080/",
          "height": 34
        },
        "id": "NZOkqJxv3BVM",
        "outputId": "cdfe0ac1-4ca9-4b18-b46a-4d1b588413ac"
      },
      "execution_count": 12,
      "outputs": [
        {
          "output_type": "display_data",
          "data": {
            "text/html": [
              "<style>\n",
              ".list-inline {list-style: none; margin:0; padding: 0}\n",
              ".list-inline>li {display: inline-block}\n",
              ".list-inline>li:not(:last-child)::after {content: \"\\00b7\"; padding: 0 .5ex}\n",
              "</style>\n",
              "<ol class=list-inline><li>'Pre_Season_Batter_utf.csv'</li><li>'sample_data'</li></ol>\n"
            ],
            "text/markdown": "1. 'Pre_Season_Batter_utf.csv'\n2. 'sample_data'\n\n\n",
            "text/latex": "\\begin{enumerate*}\n\\item 'Pre\\_Season\\_Batter\\_utf.csv'\n\\item 'sample\\_data'\n\\end{enumerate*}\n",
            "text/plain": [
              "[1] \"Pre_Season_Batter_utf.csv\" \"sample_data\"              "
            ]
          },
          "metadata": {}
        }
      ]
    },
    {
      "cell_type": "code",
      "source": [
        "#4번문제\n",
        "DF <- fread(\"/content/Pre_Season_Batter_utf.csv\", header = T, encoding =\"UTF-8\") %>% as_tibble()"
      ],
      "metadata": {
        "id": "QNExJKBv3F7c"
      },
      "execution_count": 14,
      "outputs": []
    },
    {
      "cell_type": "code",
      "source": [
        "# 5번 문제\n",
        "DF %>% select(batter_name, team) %>% show()"
      ],
      "metadata": {
        "colab": {
          "base_uri": "https://localhost:8080/"
        },
        "id": "xxAI2IJO4rae",
        "outputId": "f5371b39-5cc2-420f-d525-ac301adc7533"
      },
      "execution_count": 15,
      "outputs": [
        {
          "output_type": "stream",
          "name": "stdout",
          "text": [
            "\u001b[90m# A tibble: 1,393 × 2\u001b[39m\n",
            "   batter_name team \n",
            "   \u001b[3m\u001b[90m<chr>\u001b[39m\u001b[23m       \u001b[3m\u001b[90m<chr>\u001b[39m\u001b[23m\n",
            "\u001b[90m 1\u001b[39m 가르시아    LG   \n",
            "\u001b[90m 2\u001b[39m 강경학      한화 \n",
            "\u001b[90m 3\u001b[39m 강경학      한화 \n",
            "\u001b[90m 4\u001b[39m 강경학      한화 \n",
            "\u001b[90m 5\u001b[39m 강경학      한화 \n",
            "\u001b[90m 6\u001b[39m 강경학      한화 \n",
            "\u001b[90m 7\u001b[39m 강구성      NC   \n",
            "\u001b[90m 8\u001b[39m 강구성      NC   \n",
            "\u001b[90m 9\u001b[39m 강구성      NC   \n",
            "\u001b[90m10\u001b[39m 김태완      한화 \n",
            "\u001b[90m# ℹ 1,383 more rows\u001b[39m\n"
          ]
        }
      ]
    },
    {
      "cell_type": "code",
      "source": [
        "# 5번 다른 풀이\n",
        "DF %>% select(.,batter_name, team) %>% show()"
      ],
      "metadata": {
        "colab": {
          "base_uri": "https://localhost:8080/"
        },
        "id": "wMK6BDfL5PcU",
        "outputId": "d35c7b27-ddc5-433e-aaf2-bf85289f046c"
      },
      "execution_count": 16,
      "outputs": [
        {
          "output_type": "stream",
          "name": "stdout",
          "text": [
            "\u001b[90m# A tibble: 1,393 × 2\u001b[39m\n",
            "   batter_name team \n",
            "   \u001b[3m\u001b[90m<chr>\u001b[39m\u001b[23m       \u001b[3m\u001b[90m<chr>\u001b[39m\u001b[23m\n",
            "\u001b[90m 1\u001b[39m 가르시아    LG   \n",
            "\u001b[90m 2\u001b[39m 강경학      한화 \n",
            "\u001b[90m 3\u001b[39m 강경학      한화 \n",
            "\u001b[90m 4\u001b[39m 강경학      한화 \n",
            "\u001b[90m 5\u001b[39m 강경학      한화 \n",
            "\u001b[90m 6\u001b[39m 강경학      한화 \n",
            "\u001b[90m 7\u001b[39m 강구성      NC   \n",
            "\u001b[90m 8\u001b[39m 강구성      NC   \n",
            "\u001b[90m 9\u001b[39m 강구성      NC   \n",
            "\u001b[90m10\u001b[39m 김태완      한화 \n",
            "\u001b[90m# ℹ 1,383 more rows\u001b[39m\n"
          ]
        }
      ]
    },
    {
      "cell_type": "code",
      "source": [
        "# 5번 다른 풀이\n",
        "select(DP,batter_name, team) %>% show()"
      ],
      "metadata": {
        "colab": {
          "base_uri": "https://localhost:8080/",
          "height": 258
        },
        "id": "IJt4yyBY5YDn",
        "outputId": "09145779-eb76-4583-dedc-5b10b9a8b9fb"
      },
      "execution_count": 17,
      "outputs": [
        {
          "output_type": "error",
          "ename": "ERROR",
          "evalue": "ignored",
          "traceback": [
            "Error in h(simpleError(msg, call)): error in evaluating the argument 'object' in selecting a method for function 'show': object 'DP' not found\nTraceback:\n",
            "1. select(DP, batter_name, team) %>% show()",
            "2. show(.)",
            "3. select(DP, batter_name, team)",
            "4. .handleSimpleError(function (cond) \n . .Internal(C_tryCatchHelper(addr, 1L, cond)), \"object 'DP' not found\", \n .     base::quote(eval(expr, envir, enclos)))",
            "5. h(simpleError(msg, call))"
          ]
        }
      ]
    },
    {
      "cell_type": "code",
      "source": [
        "#6번 잘못된 풀이\n",
        " DF1 <- DF  %>%  select(batter_name, team) %>% show()  ## 이렇게 하면 아무것도 안나옴(잘못된 풀이)"
      ],
      "metadata": {
        "id": "sNJ7pu1l5dBE",
        "colab": {
          "base_uri": "https://localhost:8080/"
        },
        "outputId": "df780801-88c4-40e4-9060-c953994e51a4"
      },
      "execution_count": 18,
      "outputs": [
        {
          "output_type": "stream",
          "name": "stdout",
          "text": [
            "\u001b[90m# A tibble: 1,393 × 2\u001b[39m\n",
            "   batter_name team \n",
            "   \u001b[3m\u001b[90m<chr>\u001b[39m\u001b[23m       \u001b[3m\u001b[90m<chr>\u001b[39m\u001b[23m\n",
            "\u001b[90m 1\u001b[39m 가르시아    LG   \n",
            "\u001b[90m 2\u001b[39m 강경학      한화 \n",
            "\u001b[90m 3\u001b[39m 강경학      한화 \n",
            "\u001b[90m 4\u001b[39m 강경학      한화 \n",
            "\u001b[90m 5\u001b[39m 강경학      한화 \n",
            "\u001b[90m 6\u001b[39m 강경학      한화 \n",
            "\u001b[90m 7\u001b[39m 강구성      NC   \n",
            "\u001b[90m 8\u001b[39m 강구성      NC   \n",
            "\u001b[90m 9\u001b[39m 강구성      NC   \n",
            "\u001b[90m10\u001b[39m 김태완      한화 \n",
            "\u001b[90m# ℹ 1,383 more rows\u001b[39m\n"
          ]
        }
      ]
    },
    {
      "cell_type": "code",
      "source": [
        "#6번 올바른 풀이\n",
        " DF1 <- DF  %>%  select(batter_name, team) # 여기에 반드시 show가 있으면 안됨.\n",
        " DF1 %>% show()"
      ],
      "metadata": {
        "id": "xmgvd5EA5zwU",
        "colab": {
          "base_uri": "https://localhost:8080/"
        },
        "outputId": "467e18aa-1d7d-4cea-9a0b-da7bbbabe149"
      },
      "execution_count": 19,
      "outputs": [
        {
          "output_type": "stream",
          "name": "stdout",
          "text": [
            "\u001b[90m# A tibble: 1,393 × 2\u001b[39m\n",
            "   batter_name team \n",
            "   \u001b[3m\u001b[90m<chr>\u001b[39m\u001b[23m       \u001b[3m\u001b[90m<chr>\u001b[39m\u001b[23m\n",
            "\u001b[90m 1\u001b[39m 가르시아    LG   \n",
            "\u001b[90m 2\u001b[39m 강경학      한화 \n",
            "\u001b[90m 3\u001b[39m 강경학      한화 \n",
            "\u001b[90m 4\u001b[39m 강경학      한화 \n",
            "\u001b[90m 5\u001b[39m 강경학      한화 \n",
            "\u001b[90m 6\u001b[39m 강경학      한화 \n",
            "\u001b[90m 7\u001b[39m 강구성      NC   \n",
            "\u001b[90m 8\u001b[39m 강구성      NC   \n",
            "\u001b[90m 9\u001b[39m 강구성      NC   \n",
            "\u001b[90m10\u001b[39m 김태완      한화 \n",
            "\u001b[90m# ℹ 1,383 more rows\u001b[39m\n"
          ]
        }
      ]
    },
    {
      "cell_type": "markdown",
      "source": [],
      "metadata": {
        "id": "6gvj_AJN5u_r"
      }
    }
  ]
}