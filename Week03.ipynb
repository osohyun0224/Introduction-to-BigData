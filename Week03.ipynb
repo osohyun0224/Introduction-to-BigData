{
  "nbformat": 4,
  "nbformat_minor": 0,
  "metadata": {
    "colab": {
      "provenance": [],
      "gpuType": "T4",
      "authorship_tag": "ABX9TyOi169GJY9xIsZ0HbYNRshF",
      "include_colab_link": true
    },
    "kernelspec": {
      "name": "ir",
      "display_name": "R"
    },
    "language_info": {
      "name": "R"
    },
    "accelerator": "GPU"
  },
  "cells": [
    {
      "cell_type": "markdown",
      "metadata": {
        "id": "view-in-github",
        "colab_type": "text"
      },
      "source": [
        "<a href=\"https://colab.research.google.com/github/osohyun0224/Introduction-to-BigData/blob/master/Week03.ipynb\" target=\"_parent\"><img src=\"https://colab.research.google.com/assets/colab-badge.svg\" alt=\"Open In Colab\"/></a>"
      ]
    },
    {
      "cell_type": "code",
      "execution_count": null,
      "metadata": {
        "id": "oYwh6z2E0ysE"
      },
      "outputs": [],
      "source": [
        "#/content/sample_data/Pre_Season_Batter_utf.csv\n",
        "#https://drive.google.com/file/d/1lPZ_dyxdZZECfzqmOimWHukmLaRwLggB/view?usp=drive_link"
      ]
    },
    {
      "cell_type": "code",
      "source": [],
      "metadata": {
        "id": "tFuG2mww95Lm"
      },
      "execution_count": null,
      "outputs": []
    },
    {
      "cell_type": "code",
      "source": [
        "install.packages(\"tidyverse\")"
      ],
      "metadata": {
        "colab": {
          "base_uri": "https://localhost:8080/"
        },
        "id": "F7NeH8Bm2NxU",
        "outputId": "048b7229-48ea-4439-f228-41e53edd3a71"
      },
      "execution_count": null,
      "outputs": [
        {
          "output_type": "stream",
          "name": "stderr",
          "text": [
            "Installing package into ‘/usr/local/lib/R/site-library’\n",
            "(as ‘lib’ is unspecified)\n",
            "\n"
          ]
        }
      ]
    },
    {
      "cell_type": "code",
      "source": [
        "library(tidyverse)"
      ],
      "metadata": {
        "colab": {
          "base_uri": "https://localhost:8080/"
        },
        "id": "f91x_3o71jU8",
        "outputId": "0fc62ab1-0004-428d-f0d6-903fe1547e04"
      },
      "execution_count": null,
      "outputs": [
        {
          "output_type": "stream",
          "name": "stderr",
          "text": [
            "── \u001b[1mAttaching core tidyverse packages\u001b[22m ──────────────────────── tidyverse 2.0.0 ──\n",
            "\u001b[32m✔\u001b[39m \u001b[34mdplyr    \u001b[39m 1.1.2     \u001b[32m✔\u001b[39m \u001b[34mreadr    \u001b[39m 2.1.4\n",
            "\u001b[32m✔\u001b[39m \u001b[34mforcats  \u001b[39m 1.0.0     \u001b[32m✔\u001b[39m \u001b[34mstringr  \u001b[39m 1.5.0\n",
            "\u001b[32m✔\u001b[39m \u001b[34mggplot2  \u001b[39m 3.4.3     \u001b[32m✔\u001b[39m \u001b[34mtibble   \u001b[39m 3.2.1\n",
            "\u001b[32m✔\u001b[39m \u001b[34mlubridate\u001b[39m 1.9.2     \u001b[32m✔\u001b[39m \u001b[34mtidyr    \u001b[39m 1.3.0\n",
            "\u001b[32m✔\u001b[39m \u001b[34mpurrr    \u001b[39m 1.0.2     \n",
            "── \u001b[1mConflicts\u001b[22m ────────────────────────────────────────── tidyverse_conflicts() ──\n",
            "\u001b[31m✖\u001b[39m \u001b[34mdplyr\u001b[39m::\u001b[32mfilter()\u001b[39m masks \u001b[34mstats\u001b[39m::filter()\n",
            "\u001b[31m✖\u001b[39m \u001b[34mdplyr\u001b[39m::\u001b[32mlag()\u001b[39m    masks \u001b[34mstats\u001b[39m::lag()\n",
            "\u001b[36mℹ\u001b[39m Use the conflicted package (\u001b[3m\u001b[34m<http://conflicted.r-lib.org/>\u001b[39m\u001b[23m) to force all conflicts to become errors\n"
          ]
        }
      ]
    },
    {
      "cell_type": "code",
      "source": [
        "library(data.table)"
      ],
      "metadata": {
        "id": "5A037n9I22nc",
        "colab": {
          "base_uri": "https://localhost:8080/"
        },
        "outputId": "77e5a2bb-b50c-4527-b32a-bbf6a0916327"
      },
      "execution_count": null,
      "outputs": [
        {
          "output_type": "stream",
          "name": "stderr",
          "text": [
            "\n",
            "Attaching package: ‘data.table’\n",
            "\n",
            "\n",
            "The following objects are masked from ‘package:lubridate’:\n",
            "\n",
            "    hour, isoweek, mday, minute, month, quarter, second, wday, week,\n",
            "    yday, year\n",
            "\n",
            "\n",
            "The following objects are masked from ‘package:dplyr’:\n",
            "\n",
            "    between, first, last\n",
            "\n",
            "\n",
            "The following object is masked from ‘package:purrr’:\n",
            "\n",
            "    transpose\n",
            "\n",
            "\n"
          ]
        }
      ]
    },
    {
      "cell_type": "code",
      "source": [
        "system(\"gdown --id 1lPZ_dyxdZZECfzqmOimWHukmLaRwLggB\")\n",
        "system(\"ls\", TRUE) #파일확인"
      ],
      "metadata": {
        "colab": {
          "base_uri": "https://localhost:8080/",
          "height": 34
        },
        "id": "NZOkqJxv3BVM",
        "outputId": "45777a97-a45b-4b0d-bc90-685b483d030a"
      },
      "execution_count": null,
      "outputs": [
        {
          "output_type": "display_data",
          "data": {
            "text/html": [
              "<style>\n",
              ".list-inline {list-style: none; margin:0; padding: 0}\n",
              ".list-inline>li {display: inline-block}\n",
              ".list-inline>li:not(:last-child)::after {content: \"\\00b7\"; padding: 0 .5ex}\n",
              "</style>\n",
              "<ol class=list-inline><li>'Pre_Season_Batter_utf.csv'</li><li>'sample_data'</li></ol>\n"
            ],
            "text/markdown": "1. 'Pre_Season_Batter_utf.csv'\n2. 'sample_data'\n\n\n",
            "text/latex": "\\begin{enumerate*}\n\\item 'Pre\\_Season\\_Batter\\_utf.csv'\n\\item 'sample\\_data'\n\\end{enumerate*}\n",
            "text/plain": [
              "[1] \"Pre_Season_Batter_utf.csv\" \"sample_data\"              "
            ]
          },
          "metadata": {}
        }
      ]
    },
    {
      "cell_type": "code",
      "source": [
        "DF %>% show()"
      ],
      "metadata": {
        "colab": {
          "base_uri": "https://localhost:8080/"
        },
        "id": "G6LOx_W5EAug",
        "outputId": "59568507-1155-4266-c905-bf0afa2ff7a7"
      },
      "execution_count": 34,
      "outputs": [
        {
          "output_type": "stream",
          "name": "stdout",
          "text": [
            "\u001b[90m# A tibble: 1,393 × 29\u001b[39m\n",
            "   batter_id batter_name  year team    avg     G    AB     R     H  `2B`  `3B`\n",
            "       \u001b[3m\u001b[90m<int>\u001b[39m\u001b[23m \u001b[3m\u001b[90m<chr>\u001b[39m\u001b[23m       \u001b[3m\u001b[90m<int>\u001b[39m\u001b[23m \u001b[3m\u001b[90m<chr>\u001b[39m\u001b[23m \u001b[3m\u001b[90m<dbl>\u001b[39m\u001b[23m \u001b[3m\u001b[90m<int>\u001b[39m\u001b[23m \u001b[3m\u001b[90m<int>\u001b[39m\u001b[23m \u001b[3m\u001b[90m<int>\u001b[39m\u001b[23m \u001b[3m\u001b[90m<int>\u001b[39m\u001b[23m \u001b[3m\u001b[90m<int>\u001b[39m\u001b[23m \u001b[3m\u001b[90m<int>\u001b[39m\u001b[23m\n",
            "\u001b[90m 1\u001b[39m         0 가르시아     \u001b[4m2\u001b[24m018 LG    0.35      7    20     1     7     1     0\n",
            "\u001b[90m 2\u001b[39m         1 강경학       \u001b[4m2\u001b[24m011 한화  0         4     2     2     0     0     0\n",
            "\u001b[90m 3\u001b[39m         1 강경학       \u001b[4m2\u001b[24m014 한화  0         4     0     2     0     0     0\n",
            "\u001b[90m 4\u001b[39m         1 강경학       \u001b[4m2\u001b[24m015 한화  0.13     10    23     3     3     0     0\n",
            "\u001b[90m 5\u001b[39m         1 강경학       \u001b[4m2\u001b[24m016 한화  0.188    14    32     4     6     1     1\n",
            "\u001b[90m 6\u001b[39m         1 강경학       \u001b[4m2\u001b[24m017 한화  0.222    11    36    10     8     0     0\n",
            "\u001b[90m 7\u001b[39m         2 강구성       \u001b[4m2\u001b[24m013 NC    0         3     4     0     0     0     0\n",
            "\u001b[90m 8\u001b[39m         2 강구성       \u001b[4m2\u001b[24m016 NC    0         3     1     0     0     0     0\n",
            "\u001b[90m 9\u001b[39m         2 강구성       \u001b[4m2\u001b[24m017 NC    1         2     1     0     1     0     0\n",
            "\u001b[90m10\u001b[39m        69 김태완       \u001b[4m2\u001b[24m006 한화  0.2      10    15     0     3     0     0\n",
            "\u001b[90m# ℹ 1,383 more rows\u001b[39m\n",
            "\u001b[90m# ℹ 18 more variables: HR <int>, TB <int>, RBI <int>, SB <int>, CS <int>,\u001b[39m\n",
            "\u001b[90m#   BB <int>, HBP <int>, SO <int>, GDP <int>, SLG <dbl>, OBP <dbl>, E <int>,\u001b[39m\n",
            "\u001b[90m#   `height/weight` <chr>, year_born <chr>, position <chr>, career <chr>,\u001b[39m\n",
            "\u001b[90m#   starting_salary <chr>, OPS <dbl>\u001b[39m\n"
          ]
        }
      ]
    },
    {
      "cell_type": "code",
      "source": [
        "#4번문제\n",
        "DF <- fread(\"/content/Pre_Season_Batter_utf.csv\", header = T, encoding =\"UTF-8\") %>% as_tibble()"
      ],
      "metadata": {
        "id": "QNExJKBv3F7c"
      },
      "execution_count": null,
      "outputs": []
    },
    {
      "cell_type": "code",
      "source": [
        "# 5번 문제\n",
        "DF %>% select(batter_name, team) %>% show()"
      ],
      "metadata": {
        "colab": {
          "base_uri": "https://localhost:8080/"
        },
        "id": "xxAI2IJO4rae",
        "outputId": "a849f51e-0bb7-40cc-ff56-d94233af8f1b"
      },
      "execution_count": null,
      "outputs": [
        {
          "output_type": "stream",
          "name": "stdout",
          "text": [
            "\u001b[90m# A tibble: 1,393 × 2\u001b[39m\n",
            "   batter_name team \n",
            "   \u001b[3m\u001b[90m<chr>\u001b[39m\u001b[23m       \u001b[3m\u001b[90m<chr>\u001b[39m\u001b[23m\n",
            "\u001b[90m 1\u001b[39m 가르시아    LG   \n",
            "\u001b[90m 2\u001b[39m 강경학      한화 \n",
            "\u001b[90m 3\u001b[39m 강경학      한화 \n",
            "\u001b[90m 4\u001b[39m 강경학      한화 \n",
            "\u001b[90m 5\u001b[39m 강경학      한화 \n",
            "\u001b[90m 6\u001b[39m 강경학      한화 \n",
            "\u001b[90m 7\u001b[39m 강구성      NC   \n",
            "\u001b[90m 8\u001b[39m 강구성      NC   \n",
            "\u001b[90m 9\u001b[39m 강구성      NC   \n",
            "\u001b[90m10\u001b[39m 김태완      한화 \n",
            "\u001b[90m# ℹ 1,383 more rows\u001b[39m\n"
          ]
        }
      ]
    },
    {
      "cell_type": "code",
      "source": [
        "# 5번 다른 풀이\n",
        "DF %>% select(.,batter_name, team) %>% show()"
      ],
      "metadata": {
        "colab": {
          "base_uri": "https://localhost:8080/"
        },
        "id": "wMK6BDfL5PcU",
        "outputId": "6e4474b3-eaf4-46ec-d4c5-ff27c6a10060"
      },
      "execution_count": null,
      "outputs": [
        {
          "output_type": "stream",
          "name": "stdout",
          "text": [
            "\u001b[90m# A tibble: 1,393 × 2\u001b[39m\n",
            "   batter_name team \n",
            "   \u001b[3m\u001b[90m<chr>\u001b[39m\u001b[23m       \u001b[3m\u001b[90m<chr>\u001b[39m\u001b[23m\n",
            "\u001b[90m 1\u001b[39m 가르시아    LG   \n",
            "\u001b[90m 2\u001b[39m 강경학      한화 \n",
            "\u001b[90m 3\u001b[39m 강경학      한화 \n",
            "\u001b[90m 4\u001b[39m 강경학      한화 \n",
            "\u001b[90m 5\u001b[39m 강경학      한화 \n",
            "\u001b[90m 6\u001b[39m 강경학      한화 \n",
            "\u001b[90m 7\u001b[39m 강구성      NC   \n",
            "\u001b[90m 8\u001b[39m 강구성      NC   \n",
            "\u001b[90m 9\u001b[39m 강구성      NC   \n",
            "\u001b[90m10\u001b[39m 김태완      한화 \n",
            "\u001b[90m# ℹ 1,383 more rows\u001b[39m\n"
          ]
        }
      ]
    },
    {
      "cell_type": "code",
      "source": [
        "# 5번 다른 풀이\n",
        "select(DP,batter_name, team) %>% show()"
      ],
      "metadata": {
        "colab": {
          "base_uri": "https://localhost:8080/",
          "height": 255
        },
        "id": "IJt4yyBY5YDn",
        "outputId": "c3b7af11-da68-45c6-c648-67da82318939"
      },
      "execution_count": null,
      "outputs": [
        {
          "output_type": "error",
          "ename": "ERROR",
          "evalue": "ignored",
          "traceback": [
            "Error in h(simpleError(msg, call)): error in evaluating the argument 'object' in selecting a method for function 'show': object 'DP' not found\nTraceback:\n",
            "1. select(DP, batter_name, team) %>% show()",
            "2. show(.)",
            "3. select(DP, batter_name, team)",
            "4. .handleSimpleError(function (cond) \n . .Internal(C_tryCatchHelper(addr, 1L, cond)), \"object 'DP' not found\", \n .     base::quote(eval(expr, envir, enclos)))",
            "5. h(simpleError(msg, call))"
          ]
        }
      ]
    },
    {
      "cell_type": "code",
      "source": [
        "#6번 잘못된 풀이\n",
        " DF1 <- DF  %>%  select(batter_name, team) %>% show()  ## 이렇게 하면 아무것도 안나옴(잘못된 풀이)"
      ],
      "metadata": {
        "id": "sNJ7pu1l5dBE",
        "colab": {
          "base_uri": "https://localhost:8080/"
        },
        "outputId": "e1c6fbf0-e4be-4d83-e47d-d374e382798b"
      },
      "execution_count": null,
      "outputs": [
        {
          "output_type": "stream",
          "name": "stdout",
          "text": [
            "\u001b[90m# A tibble: 1,393 × 2\u001b[39m\n",
            "   batter_name team \n",
            "   \u001b[3m\u001b[90m<chr>\u001b[39m\u001b[23m       \u001b[3m\u001b[90m<chr>\u001b[39m\u001b[23m\n",
            "\u001b[90m 1\u001b[39m 가르시아    LG   \n",
            "\u001b[90m 2\u001b[39m 강경학      한화 \n",
            "\u001b[90m 3\u001b[39m 강경학      한화 \n",
            "\u001b[90m 4\u001b[39m 강경학      한화 \n",
            "\u001b[90m 5\u001b[39m 강경학      한화 \n",
            "\u001b[90m 6\u001b[39m 강경학      한화 \n",
            "\u001b[90m 7\u001b[39m 강구성      NC   \n",
            "\u001b[90m 8\u001b[39m 강구성      NC   \n",
            "\u001b[90m 9\u001b[39m 강구성      NC   \n",
            "\u001b[90m10\u001b[39m 김태완      한화 \n",
            "\u001b[90m# ℹ 1,383 more rows\u001b[39m\n"
          ]
        }
      ]
    },
    {
      "cell_type": "code",
      "source": [
        "#6번 올바른 풀이\n",
        " DF1 <- DF  %>%  select(batter_name, team) # 여기에 반드시 show가 있으면 안됨.\n",
        " DF1 %>% show()"
      ],
      "metadata": {
        "id": "xmgvd5EA5zwU",
        "colab": {
          "base_uri": "https://localhost:8080/"
        },
        "outputId": "1f9b5b18-ea1e-45cf-ec12-a6ee2aea4ce7"
      },
      "execution_count": null,
      "outputs": [
        {
          "output_type": "stream",
          "name": "stdout",
          "text": [
            "\u001b[90m# A tibble: 1,393 × 2\u001b[39m\n",
            "   batter_name team \n",
            "   \u001b[3m\u001b[90m<chr>\u001b[39m\u001b[23m       \u001b[3m\u001b[90m<chr>\u001b[39m\u001b[23m\n",
            "\u001b[90m 1\u001b[39m 가르시아    LG   \n",
            "\u001b[90m 2\u001b[39m 강경학      한화 \n",
            "\u001b[90m 3\u001b[39m 강경학      한화 \n",
            "\u001b[90m 4\u001b[39m 강경학      한화 \n",
            "\u001b[90m 5\u001b[39m 강경학      한화 \n",
            "\u001b[90m 6\u001b[39m 강경학      한화 \n",
            "\u001b[90m 7\u001b[39m 강구성      NC   \n",
            "\u001b[90m 8\u001b[39m 강구성      NC   \n",
            "\u001b[90m 9\u001b[39m 강구성      NC   \n",
            "\u001b[90m10\u001b[39m 김태완      한화 \n",
            "\u001b[90m# ℹ 1,383 more rows\u001b[39m\n"
          ]
        }
      ]
    },
    {
      "cell_type": "code",
      "source": [
        "#7번 풀이\n",
        "result <- DF %>%\n",
        "  select(-batter_name, -team)\n",
        "\n",
        "result %>% show()"
      ],
      "metadata": {
        "colab": {
          "base_uri": "https://localhost:8080/"
        },
        "id": "8sZ_S0ASAifv",
        "outputId": "0fd717e5-d9da-4ce8-9e66-ab7261eb53dc"
      },
      "execution_count": null,
      "outputs": [
        {
          "output_type": "stream",
          "name": "stdout",
          "text": [
            "\u001b[90m# A tibble: 1,393 × 27\u001b[39m\n",
            "   batter_id  year   avg     G    AB     R     H  `2B`  `3B`    HR    TB   RBI\n",
            "       \u001b[3m\u001b[90m<int>\u001b[39m\u001b[23m \u001b[3m\u001b[90m<int>\u001b[39m\u001b[23m \u001b[3m\u001b[90m<dbl>\u001b[39m\u001b[23m \u001b[3m\u001b[90m<int>\u001b[39m\u001b[23m \u001b[3m\u001b[90m<int>\u001b[39m\u001b[23m \u001b[3m\u001b[90m<int>\u001b[39m\u001b[23m \u001b[3m\u001b[90m<int>\u001b[39m\u001b[23m \u001b[3m\u001b[90m<int>\u001b[39m\u001b[23m \u001b[3m\u001b[90m<int>\u001b[39m\u001b[23m \u001b[3m\u001b[90m<int>\u001b[39m\u001b[23m \u001b[3m\u001b[90m<int>\u001b[39m\u001b[23m \u001b[3m\u001b[90m<int>\u001b[39m\u001b[23m\n",
            "\u001b[90m 1\u001b[39m         0  \u001b[4m2\u001b[24m018 0.35      7    20     1     7     1     0     1    11     5\n",
            "\u001b[90m 2\u001b[39m         1  \u001b[4m2\u001b[24m011 0         4     2     2     0     0     0     0     0     1\n",
            "\u001b[90m 3\u001b[39m         1  \u001b[4m2\u001b[24m014 0         4     0     2     0     0     0     0     0     0\n",
            "\u001b[90m 4\u001b[39m         1  \u001b[4m2\u001b[24m015 0.13     10    23     3     3     0     0     0     3     1\n",
            "\u001b[90m 5\u001b[39m         1  \u001b[4m2\u001b[24m016 0.188    14    32     4     6     1     1     0     9     2\n",
            "\u001b[90m 6\u001b[39m         1  \u001b[4m2\u001b[24m017 0.222    11    36    10     8     0     0     2    14     4\n",
            "\u001b[90m 7\u001b[39m         2  \u001b[4m2\u001b[24m013 0         3     4     0     0     0     0     0     0     0\n",
            "\u001b[90m 8\u001b[39m         2  \u001b[4m2\u001b[24m016 0         3     1     0     0     0     0     0     0     0\n",
            "\u001b[90m 9\u001b[39m         2  \u001b[4m2\u001b[24m017 1         2     1     0     1     0     0     0     1     0\n",
            "\u001b[90m10\u001b[39m        69  \u001b[4m2\u001b[24m006 0.2      10    15     0     3     0     0     0     3     3\n",
            "\u001b[90m# ℹ 1,383 more rows\u001b[39m\n",
            "\u001b[90m# ℹ 15 more variables: SB <int>, CS <int>, BB <int>, HBP <int>, SO <int>,\u001b[39m\n",
            "\u001b[90m#   GDP <int>, SLG <dbl>, OBP <dbl>, E <int>, `height/weight` <chr>,\u001b[39m\n",
            "\u001b[90m#   year_born <chr>, position <chr>, career <chr>, starting_salary <chr>,\u001b[39m\n",
            "\u001b[90m#   OPS <dbl>\u001b[39m\n"
          ]
        }
      ]
    },
    {
      "cell_type": "code",
      "source": [
        "#7번 다른 풀이\n",
        "DF %>% select(-batter_name , -team)  %>% show()"
      ],
      "metadata": {
        "colab": {
          "base_uri": "https://localhost:8080/"
        },
        "id": "pu3bbQgREI75",
        "outputId": "64bd9909-6d43-4a35-f757-a2c63eb3e208"
      },
      "execution_count": 35,
      "outputs": [
        {
          "output_type": "stream",
          "name": "stdout",
          "text": [
            "\u001b[90m# A tibble: 1,393 × 27\u001b[39m\n",
            "   batter_id  year   avg     G    AB     R     H  `2B`  `3B`    HR    TB   RBI\n",
            "       \u001b[3m\u001b[90m<int>\u001b[39m\u001b[23m \u001b[3m\u001b[90m<int>\u001b[39m\u001b[23m \u001b[3m\u001b[90m<dbl>\u001b[39m\u001b[23m \u001b[3m\u001b[90m<int>\u001b[39m\u001b[23m \u001b[3m\u001b[90m<int>\u001b[39m\u001b[23m \u001b[3m\u001b[90m<int>\u001b[39m\u001b[23m \u001b[3m\u001b[90m<int>\u001b[39m\u001b[23m \u001b[3m\u001b[90m<int>\u001b[39m\u001b[23m \u001b[3m\u001b[90m<int>\u001b[39m\u001b[23m \u001b[3m\u001b[90m<int>\u001b[39m\u001b[23m \u001b[3m\u001b[90m<int>\u001b[39m\u001b[23m \u001b[3m\u001b[90m<int>\u001b[39m\u001b[23m\n",
            "\u001b[90m 1\u001b[39m         0  \u001b[4m2\u001b[24m018 0.35      7    20     1     7     1     0     1    11     5\n",
            "\u001b[90m 2\u001b[39m         1  \u001b[4m2\u001b[24m011 0         4     2     2     0     0     0     0     0     1\n",
            "\u001b[90m 3\u001b[39m         1  \u001b[4m2\u001b[24m014 0         4     0     2     0     0     0     0     0     0\n",
            "\u001b[90m 4\u001b[39m         1  \u001b[4m2\u001b[24m015 0.13     10    23     3     3     0     0     0     3     1\n",
            "\u001b[90m 5\u001b[39m         1  \u001b[4m2\u001b[24m016 0.188    14    32     4     6     1     1     0     9     2\n",
            "\u001b[90m 6\u001b[39m         1  \u001b[4m2\u001b[24m017 0.222    11    36    10     8     0     0     2    14     4\n",
            "\u001b[90m 7\u001b[39m         2  \u001b[4m2\u001b[24m013 0         3     4     0     0     0     0     0     0     0\n",
            "\u001b[90m 8\u001b[39m         2  \u001b[4m2\u001b[24m016 0         3     1     0     0     0     0     0     0     0\n",
            "\u001b[90m 9\u001b[39m         2  \u001b[4m2\u001b[24m017 1         2     1     0     1     0     0     0     1     0\n",
            "\u001b[90m10\u001b[39m        69  \u001b[4m2\u001b[24m006 0.2      10    15     0     3     0     0     0     3     3\n",
            "\u001b[90m# ℹ 1,383 more rows\u001b[39m\n",
            "\u001b[90m# ℹ 15 more variables: SB <int>, CS <int>, BB <int>, HBP <int>, SO <int>,\u001b[39m\n",
            "\u001b[90m#   GDP <int>, SLG <dbl>, OBP <dbl>, E <int>, `height/weight` <chr>,\u001b[39m\n",
            "\u001b[90m#   year_born <chr>, position <chr>, career <chr>, starting_salary <chr>,\u001b[39m\n",
            "\u001b[90m#   OPS <dbl>\u001b[39m\n"
          ]
        }
      ]
    },
    {
      "cell_type": "code",
      "source": [
        "# 8번 문제 풀이\n",
        "result <- DF %>%\n",
        "  rename(\n",
        "    이름 = batter_name,\n",
        "    팀 = team\n",
        "  ) %>%\n",
        "  select(이름, 팀)\n",
        "\n",
        "result %>% show()\n"
      ],
      "metadata": {
        "colab": {
          "base_uri": "https://localhost:8080/"
        },
        "id": "QNWHfDa0BEGn",
        "outputId": "523380ef-1597-47cf-dc83-aaf4a4bb7059"
      },
      "execution_count": null,
      "outputs": [
        {
          "output_type": "stream",
          "name": "stdout",
          "text": [
            "\u001b[90m# A tibble: 1,393 × 2\u001b[39m\n",
            "   이름     팀   \n",
            "   \u001b[3m\u001b[90m<chr>\u001b[39m\u001b[23m    \u001b[3m\u001b[90m<chr>\u001b[39m\u001b[23m\n",
            "\u001b[90m 1\u001b[39m 가르시아 LG   \n",
            "\u001b[90m 2\u001b[39m 강경학   한화 \n",
            "\u001b[90m 3\u001b[39m 강경학   한화 \n",
            "\u001b[90m 4\u001b[39m 강경학   한화 \n",
            "\u001b[90m 5\u001b[39m 강경학   한화 \n",
            "\u001b[90m 6\u001b[39m 강경학   한화 \n",
            "\u001b[90m 7\u001b[39m 강구성   NC   \n",
            "\u001b[90m 8\u001b[39m 강구성   NC   \n",
            "\u001b[90m 9\u001b[39m 강구성   NC   \n",
            "\u001b[90m10\u001b[39m 김태완   한화 \n",
            "\u001b[90m# ℹ 1,383 more rows\u001b[39m\n"
          ]
        }
      ]
    },
    {
      "cell_type": "code",
      "source": [
        "#8번 - 함수를 한번 쓰는 버전\n",
        "DF %>% select(이름 = batter_name ,팀 = team ) %>% show()"
      ],
      "metadata": {
        "colab": {
          "base_uri": "https://localhost:8080/"
        },
        "id": "EwFYHHbZEl0_",
        "outputId": "a79dd5e9-a1b9-42fa-f770-ee967769a9b0"
      },
      "execution_count": 36,
      "outputs": [
        {
          "output_type": "stream",
          "name": "stdout",
          "text": [
            "\u001b[90m# A tibble: 1,393 × 2\u001b[39m\n",
            "   이름     팀   \n",
            "   \u001b[3m\u001b[90m<chr>\u001b[39m\u001b[23m    \u001b[3m\u001b[90m<chr>\u001b[39m\u001b[23m\n",
            "\u001b[90m 1\u001b[39m 가르시아 LG   \n",
            "\u001b[90m 2\u001b[39m 강경학   한화 \n",
            "\u001b[90m 3\u001b[39m 강경학   한화 \n",
            "\u001b[90m 4\u001b[39m 강경학   한화 \n",
            "\u001b[90m 5\u001b[39m 강경학   한화 \n",
            "\u001b[90m 6\u001b[39m 강경학   한화 \n",
            "\u001b[90m 7\u001b[39m 강구성   NC   \n",
            "\u001b[90m 8\u001b[39m 강구성   NC   \n",
            "\u001b[90m 9\u001b[39m 강구성   NC   \n",
            "\u001b[90m10\u001b[39m 김태완   한화 \n",
            "\u001b[90m# ℹ 1,383 more rows\u001b[39m\n"
          ]
        }
      ]
    },
    {
      "cell_type": "code",
      "source": [
        "#9번\n",
        "result<- DF %>%\n",
        "  mutate(\n",
        "    name1 = batter_name,\n",
        "    name2 = batter_name,\n",
        "    name3 = batter_name\n",
        "  ) %>%\n",
        "  select(name1, name2, name3)\n",
        "\n",
        "result%>% show()"
      ],
      "metadata": {
        "colab": {
          "base_uri": "https://localhost:8080/"
        },
        "id": "EXZts0ExBIS6",
        "outputId": "37dffe7c-4388-4a29-e7ac-f5c744b11233"
      },
      "execution_count": null,
      "outputs": [
        {
          "output_type": "stream",
          "name": "stdout",
          "text": [
            "\u001b[90m# A tibble: 1,393 × 3\u001b[39m\n",
            "   name1    name2    name3   \n",
            "   \u001b[3m\u001b[90m<chr>\u001b[39m\u001b[23m    \u001b[3m\u001b[90m<chr>\u001b[39m\u001b[23m    \u001b[3m\u001b[90m<chr>\u001b[39m\u001b[23m   \n",
            "\u001b[90m 1\u001b[39m 가르시아 가르시아 가르시아\n",
            "\u001b[90m 2\u001b[39m 강경학   강경학   강경학  \n",
            "\u001b[90m 3\u001b[39m 강경학   강경학   강경학  \n",
            "\u001b[90m 4\u001b[39m 강경학   강경학   강경학  \n",
            "\u001b[90m 5\u001b[39m 강경학   강경학   강경학  \n",
            "\u001b[90m 6\u001b[39m 강경학   강경학   강경학  \n",
            "\u001b[90m 7\u001b[39m 강구성   강구성   강구성  \n",
            "\u001b[90m 8\u001b[39m 강구성   강구성   강구성  \n",
            "\u001b[90m 9\u001b[39m 강구성   강구성   강구성  \n",
            "\u001b[90m10\u001b[39m 김태완   김태완   김태완  \n",
            "\u001b[90m# ℹ 1,383 more rows\u001b[39m\n"
          ]
        }
      ]
    },
    {
      "cell_type": "code",
      "source": [
        "#9번 다른 풀이\n",
        "DF %>% select (name1 = batter_name, name2 = batter_name, name3 = batter_name ) %>% show()"
      ],
      "metadata": {
        "colab": {
          "base_uri": "https://localhost:8080/"
        },
        "id": "zqLuYftsF6s6",
        "outputId": "bac56134-7295-4357-a3fd-59933ec634b3"
      },
      "execution_count": 40,
      "outputs": [
        {
          "output_type": "stream",
          "name": "stdout",
          "text": [
            "\u001b[90m# A tibble: 1,393 × 3\u001b[39m\n",
            "   name1    name2    name3   \n",
            "   \u001b[3m\u001b[90m<chr>\u001b[39m\u001b[23m    \u001b[3m\u001b[90m<chr>\u001b[39m\u001b[23m    \u001b[3m\u001b[90m<chr>\u001b[39m\u001b[23m   \n",
            "\u001b[90m 1\u001b[39m 가르시아 가르시아 가르시아\n",
            "\u001b[90m 2\u001b[39m 강경학   강경학   강경학  \n",
            "\u001b[90m 3\u001b[39m 강경학   강경학   강경학  \n",
            "\u001b[90m 4\u001b[39m 강경학   강경학   강경학  \n",
            "\u001b[90m 5\u001b[39m 강경학   강경학   강경학  \n",
            "\u001b[90m 6\u001b[39m 강경학   강경학   강경학  \n",
            "\u001b[90m 7\u001b[39m 강구성   강구성   강구성  \n",
            "\u001b[90m 8\u001b[39m 강구성   강구성   강구성  \n",
            "\u001b[90m 9\u001b[39m 강구성   강구성   강구성  \n",
            "\u001b[90m10\u001b[39m 김태완   김태완   김태완  \n",
            "\u001b[90m# ℹ 1,383 more rows\u001b[39m\n"
          ]
        }
      ]
    },
    {
      "cell_type": "code",
      "source": [
        "#10번\n",
        "#result에 저장까지\n",
        "result <- DF %>%\n",
        "  filter(team == \"한화\") %>%\n",
        "  select(team, batter_name) %>%\n",
        "  unique()\n",
        "\n",
        "result %>% show()"
      ],
      "metadata": {
        "colab": {
          "base_uri": "https://localhost:8080/"
        },
        "id": "6x4hVGuQ97vY",
        "outputId": "03370d49-155d-469f-ba19-2752745776ab"
      },
      "execution_count": 43,
      "outputs": [
        {
          "output_type": "stream",
          "name": "stdout",
          "text": [
            "\u001b[90m# A tibble: 33 × 2\u001b[39m\n",
            "   team  batter_name\n",
            "   \u001b[3m\u001b[90m<chr>\u001b[39m\u001b[23m \u001b[3m\u001b[90m<chr>\u001b[39m\u001b[23m      \n",
            "\u001b[90m 1\u001b[39m 한화  강경학     \n",
            "\u001b[90m 2\u001b[39m 한화  김태완     \n",
            "\u001b[90m 3\u001b[39m 한화  강상원     \n",
            "\u001b[90m 4\u001b[39m 한화  신성현     \n",
            "\u001b[90m 5\u001b[39m 한화  김민수     \n",
            "\u001b[90m 6\u001b[39m 한화  김태균     \n",
            "\u001b[90m 7\u001b[39m 한화  김태연     \n",
            "\u001b[90m 8\u001b[39m 한화  김회성     \n",
            "\u001b[90m 9\u001b[39m 한화  백창수     \n",
            "\u001b[90m10\u001b[39m 한화  송광민     \n",
            "\u001b[90m# ℹ 23 more rows\u001b[39m\n"
          ]
        }
      ]
    },
    {
      "cell_type": "code",
      "source": [],
      "metadata": {
        "id": "Zko3LIYlIBye"
      },
      "execution_count": null,
      "outputs": []
    },
    {
      "cell_type": "code",
      "source": [
        "#10번 baseR 방식\n",
        "DF[DF$team == \"한화\", c(\"team\",\"batter_name\")] %>% unique() %>%  show()"
      ],
      "metadata": {
        "colab": {
          "base_uri": "https://localhost:8080/"
        },
        "id": "QNOPVMHvHElT",
        "outputId": "12d49a3b-d32b-4a0f-f69c-8b53d45f63c2"
      },
      "execution_count": 48,
      "outputs": [
        {
          "output_type": "stream",
          "name": "stdout",
          "text": [
            "\u001b[90m# A tibble: 33 × 2\u001b[39m\n",
            "   team  batter_name\n",
            "   \u001b[3m\u001b[90m<chr>\u001b[39m\u001b[23m \u001b[3m\u001b[90m<chr>\u001b[39m\u001b[23m      \n",
            "\u001b[90m 1\u001b[39m 한화  강경학     \n",
            "\u001b[90m 2\u001b[39m 한화  김태완     \n",
            "\u001b[90m 3\u001b[39m 한화  강상원     \n",
            "\u001b[90m 4\u001b[39m 한화  신성현     \n",
            "\u001b[90m 5\u001b[39m 한화  김민수     \n",
            "\u001b[90m 6\u001b[39m 한화  김태균     \n",
            "\u001b[90m 7\u001b[39m 한화  김태연     \n",
            "\u001b[90m 8\u001b[39m 한화  김회성     \n",
            "\u001b[90m 9\u001b[39m 한화  백창수     \n",
            "\u001b[90m10\u001b[39m 한화  송광민     \n",
            "\u001b[90m# ℹ 23 more rows\u001b[39m\n"
          ]
        }
      ]
    },
    {
      "cell_type": "code",
      "source": [
        "#11번\n",
        "result <- DF %>%\n",
        "  filter(team == \"한화\", G >= 5, AB >= 15) %>%\n",
        "  select(team, batter_name, G, AB) %>%\n",
        "  unique()\n",
        "\n",
        "result %>% show()\n"
      ],
      "metadata": {
        "colab": {
          "base_uri": "https://localhost:8080/"
        },
        "id": "1oUygMqJBQ94",
        "outputId": "3dddfaa2-74ab-40ea-b281-789734c621a3"
      },
      "execution_count": 44,
      "outputs": [
        {
          "output_type": "stream",
          "name": "stdout",
          "text": [
            "\u001b[90m# A tibble: 70 × 4\u001b[39m\n",
            "   team  batter_name     G    AB\n",
            "   \u001b[3m\u001b[90m<chr>\u001b[39m\u001b[23m \u001b[3m\u001b[90m<chr>\u001b[39m\u001b[23m       \u001b[3m\u001b[90m<int>\u001b[39m\u001b[23m \u001b[3m\u001b[90m<int>\u001b[39m\u001b[23m\n",
            "\u001b[90m 1\u001b[39m 한화  강경학         10    23\n",
            "\u001b[90m 2\u001b[39m 한화  강경학         14    32\n",
            "\u001b[90m 3\u001b[39m 한화  강경학         11    36\n",
            "\u001b[90m 4\u001b[39m 한화  김태완         10    15\n",
            "\u001b[90m 5\u001b[39m 한화  김태완          8    22\n",
            "\u001b[90m 6\u001b[39m 한화  김태완         10    24\n",
            "\u001b[90m 7\u001b[39m 한화  김태완         10    25\n",
            "\u001b[90m 8\u001b[39m 한화  김태완          9    28\n",
            "\u001b[90m 9\u001b[39m 한화  김태완         10    16\n",
            "\u001b[90m10\u001b[39m 한화  신성현         14    35\n",
            "\u001b[90m# ℹ 60 more rows\u001b[39m\n"
          ]
        }
      ]
    },
    {
      "cell_type": "code",
      "source": [
        "#12번\n",
        "result <- DF %>%\n",
        "  group_by(team) %>%\n",
        "  summarise(\n",
        "    G_AVG = mean(G, na.rm = TRUE),\n",
        "    AB_AVG = mean(AB, na.rm = TRUE),\n",
        "    R_SUM = sum(R, na.rm = TRUE)\n",
        "  )\n",
        "\n",
        "result %>% show()\n"
      ],
      "metadata": {
        "id": "TmnAyM4YCGu4",
        "colab": {
          "base_uri": "https://localhost:8080/"
        },
        "outputId": "7a981291-32a3-4c06-b2c7-d3b0d50feab9"
      },
      "execution_count": 26,
      "outputs": [
        {
          "output_type": "stream",
          "name": "stdout",
          "text": [
            "\u001b[90m# A tibble: 13 × 4\u001b[39m\n",
            "   team     G_AVG AB_AVG R_SUM\n",
            "   \u001b[3m\u001b[90m<chr>\u001b[39m\u001b[23m    \u001b[3m\u001b[90m<dbl>\u001b[39m\u001b[23m  \u001b[3m\u001b[90m<dbl>\u001b[39m\u001b[23m \u001b[3m\u001b[90m<int>\u001b[39m\u001b[23m\n",
            "\u001b[90m 1\u001b[39m KIA       7.87   16.8   321\n",
            "\u001b[90m 2\u001b[39m KT        7.63   16.3   143\n",
            "\u001b[90m 3\u001b[39m LG        8.74   20.3   500\n",
            "\u001b[90m 4\u001b[39m NC        8.49   17     195\n",
            "\u001b[90m 5\u001b[39m SK        8.37   19.9   426\n",
            "\u001b[90m 6\u001b[39m 넥센      9.10   19.0   315\n",
            "\u001b[90m 7\u001b[39m 두산     10.7    22.1   601\n",
            "\u001b[90m 8\u001b[39m 롯데      8.21   17.7   424\n",
            "\u001b[90m 9\u001b[39m 삼성      8.79   20.1   416\n",
            "\u001b[90m10\u001b[39m 우리      7.33   17.3    10\n",
            "\u001b[90m11\u001b[39m 한화      7.76   18.2   335\n",
            "\u001b[90m12\u001b[39m 현대     10.1    25.3    42\n",
            "\u001b[90m13\u001b[39m 히어로즈  8.2    15.6     5\n"
          ]
        }
      ]
    },
    {
      "cell_type": "code",
      "source": [
        "#12번 다른 풀이\n",
        "DF %>% group_by(team) %>% summarise(G = mean(G), AB = mean(AB), R=sum(R)) %>% show()"
      ],
      "metadata": {
        "colab": {
          "base_uri": "https://localhost:8080/"
        },
        "id": "Nj2LPWu0JYnY",
        "outputId": "ffe3b012-fa24-4906-e382-5bf7ac9c3a36"
      },
      "execution_count": 64,
      "outputs": [
        {
          "output_type": "stream",
          "name": "stdout",
          "text": [
            "\u001b[90m# A tibble: 13 × 4\u001b[39m\n",
            "   team         G    AB     R\n",
            "   \u001b[3m\u001b[90m<chr>\u001b[39m\u001b[23m    \u001b[3m\u001b[90m<dbl>\u001b[39m\u001b[23m \u001b[3m\u001b[90m<dbl>\u001b[39m\u001b[23m \u001b[3m\u001b[90m<int>\u001b[39m\u001b[23m\n",
            "\u001b[90m 1\u001b[39m KIA       7.87  16.8   321\n",
            "\u001b[90m 2\u001b[39m KT        7.63  16.3   143\n",
            "\u001b[90m 3\u001b[39m LG        8.74  20.3   500\n",
            "\u001b[90m 4\u001b[39m NC        8.49  17     195\n",
            "\u001b[90m 5\u001b[39m SK        8.37  19.9   426\n",
            "\u001b[90m 6\u001b[39m 넥센      9.10  19.0   315\n",
            "\u001b[90m 7\u001b[39m 두산     10.7   22.1   601\n",
            "\u001b[90m 8\u001b[39m 롯데      8.21  17.7   424\n",
            "\u001b[90m 9\u001b[39m 삼성      8.79  20.1   416\n",
            "\u001b[90m10\u001b[39m 우리      7.33  17.3    10\n",
            "\u001b[90m11\u001b[39m 한화      7.76  18.2   335\n",
            "\u001b[90m12\u001b[39m 현대     10.1   25.3    42\n",
            "\u001b[90m13\u001b[39m 히어로즈  8.2   15.6     5\n"
          ]
        }
      ]
    },
    {
      "cell_type": "code",
      "source": [
        "#13번\n",
        "result <- DF %>%\n",
        "  group_by(team, batter_name) %>%\n",
        "  summarise(\n",
        "    G_AVG = mean(G, na.rm = TRUE),\n",
        "    AB_AVG = mean(AB, na.rm = TRUE),\n",
        "    R_SUM = sum(R, na.rm = TRUE)\n",
        "  )\n",
        "\n",
        "result %>% show()"
      ],
      "metadata": {
        "colab": {
          "base_uri": "https://localhost:8080/"
        },
        "id": "U8FRRyUmDX2x",
        "outputId": "3877c958-d3de-4f47-8022-77d54d92e064"
      },
      "execution_count": 28,
      "outputs": [
        {
          "output_type": "stream",
          "name": "stderr",
          "text": [
            "\u001b[1m\u001b[22m`summarise()` has grouped output by 'team'. You can override using the\n",
            "`.groups` argument.\n"
          ]
        },
        {
          "output_type": "stream",
          "name": "stdout",
          "text": [
            "\u001b[90m# A tibble: 336 × 5\u001b[39m\n",
            "\u001b[90m# Groups:   team [13]\u001b[39m\n",
            "   team  batter_name G_AVG AB_AVG R_SUM\n",
            "   \u001b[3m\u001b[90m<chr>\u001b[39m\u001b[23m \u001b[3m\u001b[90m<chr>\u001b[39m\u001b[23m       \u001b[3m\u001b[90m<dbl>\u001b[39m\u001b[23m  \u001b[3m\u001b[90m<dbl>\u001b[39m\u001b[23m \u001b[3m\u001b[90m<int>\u001b[39m\u001b[23m\n",
            "\u001b[90m 1\u001b[39m KIA   강한울       7.5    19.5     7\n",
            "\u001b[90m 2\u001b[39m KIA   김민식       7.5    12       3\n",
            "\u001b[90m 3\u001b[39m KIA   김선빈      10      22.3    29\n",
            "\u001b[90m 4\u001b[39m KIA   김주찬       8      19      15\n",
            "\u001b[90m 5\u001b[39m KIA   김주형       7.73   17.5    21\n",
            "\u001b[90m 6\u001b[39m KIA   나지완       9.9    27.7    39\n",
            "\u001b[90m 7\u001b[39m KIA   노수광       2.5     3       0\n",
            "\u001b[90m 8\u001b[39m KIA   박준태      12      18.5     7\n",
            "\u001b[90m 9\u001b[39m KIA   백용환       6.6    11.8     7\n",
            "\u001b[90m10\u001b[39m KIA   버나디나     6.5    17.5     7\n",
            "\u001b[90m# ℹ 326 more rows\u001b[39m\n"
          ]
        }
      ]
    },
    {
      "cell_type": "code",
      "source": [
        "#14번문제\n",
        "DF %>%\n",
        "  select(team, batter_name, avg) %>%\n",
        "  arrange(team, desc(avg))%>%\n",
        "  show()\n"
      ],
      "metadata": {
        "colab": {
          "base_uri": "https://localhost:8080/"
        },
        "id": "8E5JqoDnDq6j",
        "outputId": "246ead65-d955-444e-8016-1cb7b77ecef0"
      },
      "execution_count": 65,
      "outputs": [
        {
          "output_type": "stream",
          "name": "stdout",
          "text": [
            "\u001b[90m# A tibble: 1,393 × 3\u001b[39m\n",
            "   team  batter_name   avg\n",
            "   \u001b[3m\u001b[90m<chr>\u001b[39m\u001b[23m \u001b[3m\u001b[90m<chr>\u001b[39m\u001b[23m       \u001b[3m\u001b[90m<dbl>\u001b[39m\u001b[23m\n",
            "\u001b[90m 1\u001b[39m KIA   서동욱      1    \n",
            "\u001b[90m 2\u001b[39m KIA   이용규      1    \n",
            "\u001b[90m 3\u001b[39m KIA   강한울      0.6  \n",
            "\u001b[90m 4\u001b[39m KIA   백용환      0.6  \n",
            "\u001b[90m 5\u001b[39m KIA   이호신      0.5  \n",
            "\u001b[90m 6\u001b[39m KIA   신종길      0.5  \n",
            "\u001b[90m 7\u001b[39m KIA   안치홍      0.5  \n",
            "\u001b[90m 8\u001b[39m KIA   이준호      0.5  \n",
            "\u001b[90m 9\u001b[39m KIA   최형우      0.5  \n",
            "\u001b[90m10\u001b[39m KIA   신범수      0.471\n",
            "\u001b[90m# ℹ 1,383 more rows\u001b[39m\n"
          ]
        }
      ]
    },
    {
      "cell_type": "code",
      "source": [
        "#15번 문제\n",
        "DF %>% distinct(team) %>% arrange(team) %>% show()\n"
      ],
      "metadata": {
        "colab": {
          "base_uri": "https://localhost:8080/"
        },
        "id": "GdMjiex9DwXa",
        "outputId": "d5a5fd55-e013-43b6-c5ac-012bea9f16a5"
      },
      "execution_count": 66,
      "outputs": [
        {
          "output_type": "stream",
          "name": "stdout",
          "text": [
            "\u001b[90m# A tibble: 13 × 1\u001b[39m\n",
            "   team    \n",
            "   \u001b[3m\u001b[90m<chr>\u001b[39m\u001b[23m   \n",
            "\u001b[90m 1\u001b[39m KIA     \n",
            "\u001b[90m 2\u001b[39m KT      \n",
            "\u001b[90m 3\u001b[39m LG      \n",
            "\u001b[90m 4\u001b[39m NC      \n",
            "\u001b[90m 5\u001b[39m SK      \n",
            "\u001b[90m 6\u001b[39m 넥센    \n",
            "\u001b[90m 7\u001b[39m 두산    \n",
            "\u001b[90m 8\u001b[39m 롯데    \n",
            "\u001b[90m 9\u001b[39m 삼성    \n",
            "\u001b[90m10\u001b[39m 우리    \n",
            "\u001b[90m11\u001b[39m 한화    \n",
            "\u001b[90m12\u001b[39m 현대    \n",
            "\u001b[90m13\u001b[39m 히어로즈\n",
            "\u001b[90m# A tibble: 13 × 1\u001b[39m\n",
            "   team    \n",
            "   \u001b[3m\u001b[90m<chr>\u001b[39m\u001b[23m   \n",
            "\u001b[90m 1\u001b[39m KIA     \n",
            "\u001b[90m 2\u001b[39m KT      \n",
            "\u001b[90m 3\u001b[39m LG      \n",
            "\u001b[90m 4\u001b[39m NC      \n",
            "\u001b[90m 5\u001b[39m SK      \n",
            "\u001b[90m 6\u001b[39m 넥센    \n",
            "\u001b[90m 7\u001b[39m 두산    \n",
            "\u001b[90m 8\u001b[39m 롯데    \n",
            "\u001b[90m 9\u001b[39m 삼성    \n",
            "\u001b[90m10\u001b[39m 우리    \n",
            "\u001b[90m11\u001b[39m 한화    \n",
            "\u001b[90m12\u001b[39m 현대    \n",
            "\u001b[90m13\u001b[39m 히어로즈\n"
          ]
        }
      ]
    },
    {
      "cell_type": "code",
      "source": [
        "#15번 다른 문제\n",
        "DF %>% distinct(team) %>% unique %>% arrange(team) %>% show()"
      ],
      "metadata": {
        "id": "pzJy_FK2Mss4"
      },
      "execution_count": null,
      "outputs": []
    },
    {
      "cell_type": "code",
      "source": [
        "#16번 문제\n",
        "result <- DF %>%\n",
        "  filter(team == \"히어로즈\") %>%\n",
        "  arrange(desc(avg)) %>%\n",
        "  distinct(batter_name, .keep_all = TRUE) %>%\n",
        "  select(team, batter_name, avg)\n",
        "\n",
        "result %>% show()"
      ],
      "metadata": {
        "colab": {
          "base_uri": "https://localhost:8080/"
        },
        "id": "2Tkw25xOD2bz",
        "outputId": "a80c675a-2eb7-4641-e0b0-34c40fc13e3a"
      },
      "execution_count": 32,
      "outputs": [
        {
          "output_type": "stream",
          "name": "stdout",
          "text": [
            "\u001b[90m# A tibble: 5 × 3\u001b[39m\n",
            "  team     batter_name   avg\n",
            "  \u001b[3m\u001b[90m<chr>\u001b[39m\u001b[23m    \u001b[3m\u001b[90m<chr>\u001b[39m\u001b[23m       \u001b[3m\u001b[90m<dbl>\u001b[39m\u001b[23m\n",
            "\u001b[90m1\u001b[39m 히어로즈 이택근      0.333\n",
            "\u001b[90m2\u001b[39m 히어로즈 유재신      0.25 \n",
            "\u001b[90m3\u001b[39m 히어로즈 오재일      0.242\n",
            "\u001b[90m4\u001b[39m 히어로즈 황재균      0.194\n",
            "\u001b[90m5\u001b[39m 히어로즈 장영석      0    \n"
          ]
        }
      ]
    },
    {
      "cell_type": "code",
      "source": [
        "#16번 다른 풀이\n",
        "DF %>%\n",
        "  filter(team == \"히어로즈\") %>%\n",
        "  select (team, batter_name, avg) %>% unique() %>% arrange(desc(avg)) %>% show()"
      ],
      "metadata": {
        "colab": {
          "base_uri": "https://localhost:8080/"
        },
        "id": "UpR93_kBM8Xo",
        "outputId": "1e6d2e19-24a9-4edf-89d1-39f441b0f0ce"
      },
      "execution_count": 69,
      "outputs": [
        {
          "output_type": "stream",
          "name": "stdout",
          "text": [
            "\u001b[90m# A tibble: 5 × 3\u001b[39m\n",
            "  team     batter_name   avg\n",
            "  \u001b[3m\u001b[90m<chr>\u001b[39m\u001b[23m    \u001b[3m\u001b[90m<chr>\u001b[39m\u001b[23m       \u001b[3m\u001b[90m<dbl>\u001b[39m\u001b[23m\n",
            "\u001b[90m1\u001b[39m 히어로즈 이택근      0.333\n",
            "\u001b[90m2\u001b[39m 히어로즈 유재신      0.25 \n",
            "\u001b[90m3\u001b[39m 히어로즈 오재일      0.242\n",
            "\u001b[90m4\u001b[39m 히어로즈 황재균      0.194\n",
            "\u001b[90m5\u001b[39m 히어로즈 장영석      0    \n"
          ]
        }
      ]
    },
    {
      "cell_type": "code",
      "source": [
        "#17번\n",
        "DF1 <- DF %>%\n",
        "  rename(ID = batter_id,\n",
        "         이름 = batter_name,\n",
        "         년도 = year)\n",
        "\n",
        "DF1 %>% show()\n",
        "DF %>% show()"
      ],
      "metadata": {
        "colab": {
          "base_uri": "https://localhost:8080/"
        },
        "id": "exmPEsvFFpn6",
        "outputId": "efcf0e82-3ab8-4a52-d43f-6b92b9db2af5"
      },
      "execution_count": 38,
      "outputs": [
        {
          "output_type": "stream",
          "name": "stdout",
          "text": [
            "\u001b[90m# A tibble: 1,393 × 29\u001b[39m\n",
            "      ID 이름   년도 team    avg     G    AB     R     H  `2B`  `3B`    HR    TB\n",
            "   \u001b[3m\u001b[90m<int>\u001b[39m\u001b[23m \u001b[3m\u001b[90m<chr>\u001b[39m\u001b[23m \u001b[3m\u001b[90m<int>\u001b[39m\u001b[23m \u001b[3m\u001b[90m<chr>\u001b[39m\u001b[23m \u001b[3m\u001b[90m<dbl>\u001b[39m\u001b[23m \u001b[3m\u001b[90m<int>\u001b[39m\u001b[23m \u001b[3m\u001b[90m<int>\u001b[39m\u001b[23m \u001b[3m\u001b[90m<int>\u001b[39m\u001b[23m \u001b[3m\u001b[90m<int>\u001b[39m\u001b[23m \u001b[3m\u001b[90m<int>\u001b[39m\u001b[23m \u001b[3m\u001b[90m<int>\u001b[39m\u001b[23m \u001b[3m\u001b[90m<int>\u001b[39m\u001b[23m \u001b[3m\u001b[90m<int>\u001b[39m\u001b[23m\n",
            "\u001b[90m 1\u001b[39m     0 가르…  \u001b[4m2\u001b[24m018 LG    0.35      7    20     1     7     1     0     1    11\n",
            "\u001b[90m 2\u001b[39m     1 강경…  \u001b[4m2\u001b[24m011 한화  0         4     2     2     0     0     0     0     0\n",
            "\u001b[90m 3\u001b[39m     1 강경…  \u001b[4m2\u001b[24m014 한화  0         4     0     2     0     0     0     0     0\n",
            "\u001b[90m 4\u001b[39m     1 강경…  \u001b[4m2\u001b[24m015 한화  0.13     10    23     3     3     0     0     0     3\n",
            "\u001b[90m 5\u001b[39m     1 강경…  \u001b[4m2\u001b[24m016 한화  0.188    14    32     4     6     1     1     0     9\n",
            "\u001b[90m 6\u001b[39m     1 강경…  \u001b[4m2\u001b[24m017 한화  0.222    11    36    10     8     0     0     2    14\n",
            "\u001b[90m 7\u001b[39m     2 강구…  \u001b[4m2\u001b[24m013 NC    0         3     4     0     0     0     0     0     0\n",
            "\u001b[90m 8\u001b[39m     2 강구…  \u001b[4m2\u001b[24m016 NC    0         3     1     0     0     0     0     0     0\n",
            "\u001b[90m 9\u001b[39m     2 강구…  \u001b[4m2\u001b[24m017 NC    1         2     1     0     1     0     0     0     1\n",
            "\u001b[90m10\u001b[39m    69 김태…  \u001b[4m2\u001b[24m006 한화  0.2      10    15     0     3     0     0     0     3\n",
            "\u001b[90m# ℹ 1,383 more rows\u001b[39m\n",
            "\u001b[90m# ℹ 16 more variables: RBI <int>, SB <int>, CS <int>, BB <int>, HBP <int>,\u001b[39m\n",
            "\u001b[90m#   SO <int>, GDP <int>, SLG <dbl>, OBP <dbl>, E <int>, `height/weight` <chr>,\u001b[39m\n",
            "\u001b[90m#   year_born <chr>, position <chr>, career <chr>, starting_salary <chr>,\u001b[39m\n",
            "\u001b[90m#   OPS <dbl>\u001b[39m\n",
            "\u001b[90m# A tibble: 1,393 × 29\u001b[39m\n",
            "   batter_id batter_name  year team    avg     G    AB     R     H  `2B`  `3B`\n",
            "       \u001b[3m\u001b[90m<int>\u001b[39m\u001b[23m \u001b[3m\u001b[90m<chr>\u001b[39m\u001b[23m       \u001b[3m\u001b[90m<int>\u001b[39m\u001b[23m \u001b[3m\u001b[90m<chr>\u001b[39m\u001b[23m \u001b[3m\u001b[90m<dbl>\u001b[39m\u001b[23m \u001b[3m\u001b[90m<int>\u001b[39m\u001b[23m \u001b[3m\u001b[90m<int>\u001b[39m\u001b[23m \u001b[3m\u001b[90m<int>\u001b[39m\u001b[23m \u001b[3m\u001b[90m<int>\u001b[39m\u001b[23m \u001b[3m\u001b[90m<int>\u001b[39m\u001b[23m \u001b[3m\u001b[90m<int>\u001b[39m\u001b[23m\n",
            "\u001b[90m 1\u001b[39m         0 가르시아     \u001b[4m2\u001b[24m018 LG    0.35      7    20     1     7     1     0\n",
            "\u001b[90m 2\u001b[39m         1 강경학       \u001b[4m2\u001b[24m011 한화  0         4     2     2     0     0     0\n",
            "\u001b[90m 3\u001b[39m         1 강경학       \u001b[4m2\u001b[24m014 한화  0         4     0     2     0     0     0\n",
            "\u001b[90m 4\u001b[39m         1 강경학       \u001b[4m2\u001b[24m015 한화  0.13     10    23     3     3     0     0\n",
            "\u001b[90m 5\u001b[39m         1 강경학       \u001b[4m2\u001b[24m016 한화  0.188    14    32     4     6     1     1\n",
            "\u001b[90m 6\u001b[39m         1 강경학       \u001b[4m2\u001b[24m017 한화  0.222    11    36    10     8     0     0\n",
            "\u001b[90m 7\u001b[39m         2 강구성       \u001b[4m2\u001b[24m013 NC    0         3     4     0     0     0     0\n",
            "\u001b[90m 8\u001b[39m         2 강구성       \u001b[4m2\u001b[24m016 NC    0         3     1     0     0     0     0\n",
            "\u001b[90m 9\u001b[39m         2 강구성       \u001b[4m2\u001b[24m017 NC    1         2     1     0     1     0     0\n",
            "\u001b[90m10\u001b[39m        69 김태완       \u001b[4m2\u001b[24m006 한화  0.2      10    15     0     3     0     0\n",
            "\u001b[90m# ℹ 1,383 more rows\u001b[39m\n",
            "\u001b[90m# ℹ 18 more variables: HR <int>, TB <int>, RBI <int>, SB <int>, CS <int>,\u001b[39m\n",
            "\u001b[90m#   BB <int>, HBP <int>, SO <int>, GDP <int>, SLG <dbl>, OBP <dbl>, E <int>,\u001b[39m\n",
            "\u001b[90m#   `height/weight` <chr>, year_born <chr>, position <chr>, career <chr>,\u001b[39m\n",
            "\u001b[90m#   starting_salary <chr>, OPS <dbl>\u001b[39m\n"
          ]
        }
      ]
    },
    {
      "cell_type": "code",
      "source": [
        "#18번\n",
        "DF1 <- DF %>%\n",
        "  mutate(batter_id = batter_id + 100)\n",
        "\n",
        "DF1 %>% show()\n",
        "DF %>% show()"
      ],
      "metadata": {
        "colab": {
          "base_uri": "https://localhost:8080/"
        },
        "id": "CUeD89FAGUsc",
        "outputId": "b1c69b56-faa2-4575-c545-1cd23dcc30de"
      },
      "execution_count": 41,
      "outputs": [
        {
          "output_type": "stream",
          "name": "stdout",
          "text": [
            "\u001b[90m# A tibble: 1,393 × 29\u001b[39m\n",
            "   batter_id batter_name  year team    avg     G    AB     R     H  `2B`  `3B`\n",
            "       \u001b[3m\u001b[90m<dbl>\u001b[39m\u001b[23m \u001b[3m\u001b[90m<chr>\u001b[39m\u001b[23m       \u001b[3m\u001b[90m<int>\u001b[39m\u001b[23m \u001b[3m\u001b[90m<chr>\u001b[39m\u001b[23m \u001b[3m\u001b[90m<dbl>\u001b[39m\u001b[23m \u001b[3m\u001b[90m<int>\u001b[39m\u001b[23m \u001b[3m\u001b[90m<int>\u001b[39m\u001b[23m \u001b[3m\u001b[90m<int>\u001b[39m\u001b[23m \u001b[3m\u001b[90m<int>\u001b[39m\u001b[23m \u001b[3m\u001b[90m<int>\u001b[39m\u001b[23m \u001b[3m\u001b[90m<int>\u001b[39m\u001b[23m\n",
            "\u001b[90m 1\u001b[39m       100 가르시아     \u001b[4m2\u001b[24m018 LG    0.35      7    20     1     7     1     0\n",
            "\u001b[90m 2\u001b[39m       101 강경학       \u001b[4m2\u001b[24m011 한화  0         4     2     2     0     0     0\n",
            "\u001b[90m 3\u001b[39m       101 강경학       \u001b[4m2\u001b[24m014 한화  0         4     0     2     0     0     0\n",
            "\u001b[90m 4\u001b[39m       101 강경학       \u001b[4m2\u001b[24m015 한화  0.13     10    23     3     3     0     0\n",
            "\u001b[90m 5\u001b[39m       101 강경학       \u001b[4m2\u001b[24m016 한화  0.188    14    32     4     6     1     1\n",
            "\u001b[90m 6\u001b[39m       101 강경학       \u001b[4m2\u001b[24m017 한화  0.222    11    36    10     8     0     0\n",
            "\u001b[90m 7\u001b[39m       102 강구성       \u001b[4m2\u001b[24m013 NC    0         3     4     0     0     0     0\n",
            "\u001b[90m 8\u001b[39m       102 강구성       \u001b[4m2\u001b[24m016 NC    0         3     1     0     0     0     0\n",
            "\u001b[90m 9\u001b[39m       102 강구성       \u001b[4m2\u001b[24m017 NC    1         2     1     0     1     0     0\n",
            "\u001b[90m10\u001b[39m       169 김태완       \u001b[4m2\u001b[24m006 한화  0.2      10    15     0     3     0     0\n",
            "\u001b[90m# ℹ 1,383 more rows\u001b[39m\n",
            "\u001b[90m# ℹ 18 more variables: HR <int>, TB <int>, RBI <int>, SB <int>, CS <int>,\u001b[39m\n",
            "\u001b[90m#   BB <int>, HBP <int>, SO <int>, GDP <int>, SLG <dbl>, OBP <dbl>, E <int>,\u001b[39m\n",
            "\u001b[90m#   `height/weight` <chr>, year_born <chr>, position <chr>, career <chr>,\u001b[39m\n",
            "\u001b[90m#   starting_salary <chr>, OPS <dbl>\u001b[39m\n",
            "\u001b[90m# A tibble: 1,393 × 29\u001b[39m\n",
            "   batter_id batter_name  year team    avg     G    AB     R     H  `2B`  `3B`\n",
            "       \u001b[3m\u001b[90m<int>\u001b[39m\u001b[23m \u001b[3m\u001b[90m<chr>\u001b[39m\u001b[23m       \u001b[3m\u001b[90m<int>\u001b[39m\u001b[23m \u001b[3m\u001b[90m<chr>\u001b[39m\u001b[23m \u001b[3m\u001b[90m<dbl>\u001b[39m\u001b[23m \u001b[3m\u001b[90m<int>\u001b[39m\u001b[23m \u001b[3m\u001b[90m<int>\u001b[39m\u001b[23m \u001b[3m\u001b[90m<int>\u001b[39m\u001b[23m \u001b[3m\u001b[90m<int>\u001b[39m\u001b[23m \u001b[3m\u001b[90m<int>\u001b[39m\u001b[23m \u001b[3m\u001b[90m<int>\u001b[39m\u001b[23m\n",
            "\u001b[90m 1\u001b[39m         0 가르시아     \u001b[4m2\u001b[24m018 LG    0.35      7    20     1     7     1     0\n",
            "\u001b[90m 2\u001b[39m         1 강경학       \u001b[4m2\u001b[24m011 한화  0         4     2     2     0     0     0\n",
            "\u001b[90m 3\u001b[39m         1 강경학       \u001b[4m2\u001b[24m014 한화  0         4     0     2     0     0     0\n",
            "\u001b[90m 4\u001b[39m         1 강경학       \u001b[4m2\u001b[24m015 한화  0.13     10    23     3     3     0     0\n",
            "\u001b[90m 5\u001b[39m         1 강경학       \u001b[4m2\u001b[24m016 한화  0.188    14    32     4     6     1     1\n",
            "\u001b[90m 6\u001b[39m         1 강경학       \u001b[4m2\u001b[24m017 한화  0.222    11    36    10     8     0     0\n",
            "\u001b[90m 7\u001b[39m         2 강구성       \u001b[4m2\u001b[24m013 NC    0         3     4     0     0     0     0\n",
            "\u001b[90m 8\u001b[39m         2 강구성       \u001b[4m2\u001b[24m016 NC    0         3     1     0     0     0     0\n",
            "\u001b[90m 9\u001b[39m         2 강구성       \u001b[4m2\u001b[24m017 NC    1         2     1     0     1     0     0\n",
            "\u001b[90m10\u001b[39m        69 김태완       \u001b[4m2\u001b[24m006 한화  0.2      10    15     0     3     0     0\n",
            "\u001b[90m# ℹ 1,383 more rows\u001b[39m\n",
            "\u001b[90m# ℹ 18 more variables: HR <int>, TB <int>, RBI <int>, SB <int>, CS <int>,\u001b[39m\n",
            "\u001b[90m#   BB <int>, HBP <int>, SO <int>, GDP <int>, SLG <dbl>, OBP <dbl>, E <int>,\u001b[39m\n",
            "\u001b[90m#   `height/weight` <chr>, year_born <chr>, position <chr>, career <chr>,\u001b[39m\n",
            "\u001b[90m#   starting_salary <chr>, OPS <dbl>\u001b[39m\n"
          ]
        }
      ]
    },
    {
      "cell_type": "code",
      "source": [
        "#19번\n",
        "result <- DF %>%\n",
        "  mutate(batter_id = paste0(batter_id, \"_\", batter_name)) %>%\n",
        "  select(-batter_name)\n",
        "\n",
        "result %>% show()"
      ],
      "metadata": {
        "colab": {
          "base_uri": "https://localhost:8080/"
        },
        "id": "w0dYP8c3GZ0T",
        "outputId": "ef6a51fc-3d29-4da3-a00e-b0f5670ea8a8"
      },
      "execution_count": 42,
      "outputs": [
        {
          "output_type": "stream",
          "name": "stdout",
          "text": [
            "\u001b[90m# A tibble: 1,393 × 28\u001b[39m\n",
            "   batter_id   year team    avg     G    AB     R     H  `2B`  `3B`    HR    TB\n",
            "   \u001b[3m\u001b[90m<chr>\u001b[39m\u001b[23m      \u001b[3m\u001b[90m<int>\u001b[39m\u001b[23m \u001b[3m\u001b[90m<chr>\u001b[39m\u001b[23m \u001b[3m\u001b[90m<dbl>\u001b[39m\u001b[23m \u001b[3m\u001b[90m<int>\u001b[39m\u001b[23m \u001b[3m\u001b[90m<int>\u001b[39m\u001b[23m \u001b[3m\u001b[90m<int>\u001b[39m\u001b[23m \u001b[3m\u001b[90m<int>\u001b[39m\u001b[23m \u001b[3m\u001b[90m<int>\u001b[39m\u001b[23m \u001b[3m\u001b[90m<int>\u001b[39m\u001b[23m \u001b[3m\u001b[90m<int>\u001b[39m\u001b[23m \u001b[3m\u001b[90m<int>\u001b[39m\u001b[23m\n",
            "\u001b[90m 1\u001b[39m 0_가르시아  \u001b[4m2\u001b[24m018 LG    0.35      7    20     1     7     1     0     1    11\n",
            "\u001b[90m 2\u001b[39m 1_강경학    \u001b[4m2\u001b[24m011 한화  0         4     2     2     0     0     0     0     0\n",
            "\u001b[90m 3\u001b[39m 1_강경학    \u001b[4m2\u001b[24m014 한화  0         4     0     2     0     0     0     0     0\n",
            "\u001b[90m 4\u001b[39m 1_강경학    \u001b[4m2\u001b[24m015 한화  0.13     10    23     3     3     0     0     0     3\n",
            "\u001b[90m 5\u001b[39m 1_강경학    \u001b[4m2\u001b[24m016 한화  0.188    14    32     4     6     1     1     0     9\n",
            "\u001b[90m 6\u001b[39m 1_강경학    \u001b[4m2\u001b[24m017 한화  0.222    11    36    10     8     0     0     2    14\n",
            "\u001b[90m 7\u001b[39m 2_강구성    \u001b[4m2\u001b[24m013 NC    0         3     4     0     0     0     0     0     0\n",
            "\u001b[90m 8\u001b[39m 2_강구성    \u001b[4m2\u001b[24m016 NC    0         3     1     0     0     0     0     0     0\n",
            "\u001b[90m 9\u001b[39m 2_강구성    \u001b[4m2\u001b[24m017 NC    1         2     1     0     1     0     0     0     1\n",
            "\u001b[90m10\u001b[39m 69_김태완   \u001b[4m2\u001b[24m006 한화  0.2      10    15     0     3     0     0     0     3\n",
            "\u001b[90m# ℹ 1,383 more rows\u001b[39m\n",
            "\u001b[90m# ℹ 16 more variables: RBI <int>, SB <int>, CS <int>, BB <int>, HBP <int>,\u001b[39m\n",
            "\u001b[90m#   SO <int>, GDP <int>, SLG <dbl>, OBP <dbl>, E <int>, `height/weight` <chr>,\u001b[39m\n",
            "\u001b[90m#   year_born <chr>, position <chr>, career <chr>, starting_salary <chr>,\u001b[39m\n",
            "\u001b[90m#   OPS <dbl>\u001b[39m\n"
          ]
        }
      ]
    },
    {
      "cell_type": "code",
      "source": [
        "#20번\n",
        "result <- DF %>%\n",
        "  mutate(G_R = R/G) %>%\n",
        "  select(batter_name, G, R, G_R)\n",
        "\n",
        "result%>% show()\n"
      ],
      "metadata": {
        "colab": {
          "base_uri": "https://localhost:8080/"
        },
        "id": "Sgu2XiByIC7T",
        "outputId": "3d0e2eac-e8d3-4f3e-d17f-cc41e094564e"
      },
      "execution_count": 50,
      "outputs": [
        {
          "output_type": "stream",
          "name": "stdout",
          "text": [
            "\u001b[90m# A tibble: 1,393 × 4\u001b[39m\n",
            "   batter_name     G     R   G_R\n",
            "   \u001b[3m\u001b[90m<chr>\u001b[39m\u001b[23m       \u001b[3m\u001b[90m<int>\u001b[39m\u001b[23m \u001b[3m\u001b[90m<int>\u001b[39m\u001b[23m \u001b[3m\u001b[90m<dbl>\u001b[39m\u001b[23m\n",
            "\u001b[90m 1\u001b[39m 가르시아        7     1 0.143\n",
            "\u001b[90m 2\u001b[39m 강경학          4     2 0.5  \n",
            "\u001b[90m 3\u001b[39m 강경학          4     2 0.5  \n",
            "\u001b[90m 4\u001b[39m 강경학         10     3 0.3  \n",
            "\u001b[90m 5\u001b[39m 강경학         14     4 0.286\n",
            "\u001b[90m 6\u001b[39m 강경학         11    10 0.909\n",
            "\u001b[90m 7\u001b[39m 강구성          3     0 0    \n",
            "\u001b[90m 8\u001b[39m 강구성          3     0 0    \n",
            "\u001b[90m 9\u001b[39m 강구성          2     0 0    \n",
            "\u001b[90m10\u001b[39m 김태완         10     0 0    \n",
            "\u001b[90m# ℹ 1,383 more rows\u001b[39m\n"
          ]
        }
      ]
    },
    {
      "cell_type": "code",
      "source": [
        "#21번\n",
        "train_set_21 <- DF %>%\n",
        "  sample_n(30, replace = F)\n",
        "\n",
        "train_set_21%>% show()\n"
      ],
      "metadata": {
        "colab": {
          "base_uri": "https://localhost:8080/"
        },
        "id": "qGUSIbrDIL5J",
        "outputId": "2d5a78ff-6df8-4a03-9cf2-f10a8ba02fd0"
      },
      "execution_count": 63,
      "outputs": [
        {
          "output_type": "stream",
          "name": "stdout",
          "text": [
            "\u001b[90m# A tibble: 30 × 29\u001b[39m\n",
            "   batter_id batter_name  year team    avg     G    AB     R     H  `2B`  `3B`\n",
            "       \u001b[3m\u001b[90m<int>\u001b[39m\u001b[23m \u001b[3m\u001b[90m<chr>\u001b[39m\u001b[23m       \u001b[3m\u001b[90m<int>\u001b[39m\u001b[23m \u001b[3m\u001b[90m<chr>\u001b[39m\u001b[23m \u001b[3m\u001b[90m<dbl>\u001b[39m\u001b[23m \u001b[3m\u001b[90m<int>\u001b[39m\u001b[23m \u001b[3m\u001b[90m<int>\u001b[39m\u001b[23m \u001b[3m\u001b[90m<int>\u001b[39m\u001b[23m \u001b[3m\u001b[90m<int>\u001b[39m\u001b[23m \u001b[3m\u001b[90m<int>\u001b[39m\u001b[23m \u001b[3m\u001b[90m<int>\u001b[39m\u001b[23m\n",
            "\u001b[90m 1\u001b[39m       326 한동민       \u001b[4m2\u001b[24m014 SK    0.286     7     7     3     2     0     0\n",
            "\u001b[90m 2\u001b[39m       163 신종길       \u001b[4m2\u001b[24m014 KIA   0.286     9    14     3     4     0     0\n",
            "\u001b[90m 3\u001b[39m        83 나주환       \u001b[4m2\u001b[24m015 SK    0.24     11    25     3     6     1     0\n",
            "\u001b[90m 4\u001b[39m        35 김문호       \u001b[4m2\u001b[24m017 롯데  0.304    10    23     4     7     1     2\n",
            "\u001b[90m 5\u001b[39m        73 김현수       \u001b[4m2\u001b[24m018 LG    0.429     7    21     4     9     3     0\n",
            "\u001b[90m 6\u001b[39m       313 최정         \u001b[4m2\u001b[24m015 SK    0.067     5    15     2     1     1     0\n",
            "\u001b[90m 7\u001b[39m       270 정성훈       \u001b[4m2\u001b[24m006 현대  0.303     9    33     5    10     0     0\n",
            "\u001b[90m 8\u001b[39m       103 민병헌       \u001b[4m2\u001b[24m018 롯데  0.182     4    11     1     2     1     0\n",
            "\u001b[90m 9\u001b[39m        86 노수광       \u001b[4m2\u001b[24m016 KIA   0.333     1     3     0     1     0     0\n",
            "\u001b[90m10\u001b[39m       313 최정         \u001b[4m2\u001b[24m009 SK    0         2     7     0     0     0     0\n",
            "\u001b[90m# ℹ 20 more rows\u001b[39m\n",
            "\u001b[90m# ℹ 18 more variables: HR <int>, TB <int>, RBI <int>, SB <int>, CS <int>,\u001b[39m\n",
            "\u001b[90m#   BB <int>, HBP <int>, SO <int>, GDP <int>, SLG <dbl>, OBP <dbl>, E <int>,\u001b[39m\n",
            "\u001b[90m#   `height/weight` <chr>, year_born <chr>, position <chr>, career <chr>,\u001b[39m\n",
            "\u001b[90m#   starting_salary <chr>, OPS <dbl>\u001b[39m\n"
          ]
        }
      ]
    },
    {
      "cell_type": "code",
      "source": [
        "#22번\n",
        "train_set_22 <- DF %>%\n",
        "  sample_frac(0.7)\n",
        "\n",
        "train_set_22 %>% show()\n"
      ],
      "metadata": {
        "colab": {
          "base_uri": "https://localhost:8080/"
        },
        "id": "-zXjBrrxIewj",
        "outputId": "7dae3f64-cf61-408e-a793-fdb1bf8429aa"
      },
      "execution_count": 61,
      "outputs": [
        {
          "output_type": "stream",
          "name": "stdout",
          "text": [
            "\u001b[90m# A tibble: 975 × 29\u001b[39m\n",
            "   batter_id batter_name  year team    avg     G    AB     R     H  `2B`  `3B`\n",
            "       \u001b[3m\u001b[90m<int>\u001b[39m\u001b[23m \u001b[3m\u001b[90m<chr>\u001b[39m\u001b[23m       \u001b[3m\u001b[90m<int>\u001b[39m\u001b[23m \u001b[3m\u001b[90m<chr>\u001b[39m\u001b[23m \u001b[3m\u001b[90m<dbl>\u001b[39m\u001b[23m \u001b[3m\u001b[90m<int>\u001b[39m\u001b[23m \u001b[3m\u001b[90m<int>\u001b[39m\u001b[23m \u001b[3m\u001b[90m<int>\u001b[39m\u001b[23m \u001b[3m\u001b[90m<int>\u001b[39m\u001b[23m \u001b[3m\u001b[90m<int>\u001b[39m\u001b[23m \u001b[3m\u001b[90m<int>\u001b[39m\u001b[23m\n",
            "\u001b[90m 1\u001b[39m       123 박정권       \u001b[4m2\u001b[24m007 SK    0.15      9    20     1     3     1     0\n",
            "\u001b[90m 2\u001b[39m       105 박경수       \u001b[4m2\u001b[24m008 LG    0.304    12    23     6     7     2     0\n",
            "\u001b[90m 3\u001b[39m        63 김주형       \u001b[4m2\u001b[24m014 KIA   0.353    12    34     2    12     5     0\n",
            "\u001b[90m 4\u001b[39m        85 남태혁       \u001b[4m2\u001b[24m016 KT    0         4    10     0     0     0     0\n",
            "\u001b[90m 5\u001b[39m       172 양성우       \u001b[4m2\u001b[24m018 한화  0.333     6    12     2     4     0     0\n",
            "\u001b[90m 6\u001b[39m        99 모창민       \u001b[4m2\u001b[24m017 NC    0.385    11    39     5    15     2     0\n",
            "\u001b[90m 7\u001b[39m       182 오정복       \u001b[4m2\u001b[24m016 KT    0.429     2     7     0     3     1     0\n",
            "\u001b[90m 8\u001b[39m        85 남태혁       \u001b[4m2\u001b[24m017 KT    0.2       8    10     1     2     0     0\n",
            "\u001b[90m 9\u001b[39m       148 손시헌       \u001b[4m2\u001b[24m006 두산  0.382    11    34     6    13     2     0\n",
            "\u001b[90m10\u001b[39m       311 최윤석       \u001b[4m2\u001b[24m018 한화  0         2     1     0     0     0     0\n",
            "\u001b[90m# ℹ 965 more rows\u001b[39m\n",
            "\u001b[90m# ℹ 18 more variables: HR <int>, TB <int>, RBI <int>, SB <int>, CS <int>,\u001b[39m\n",
            "\u001b[90m#   BB <int>, HBP <int>, SO <int>, GDP <int>, SLG <dbl>, OBP <dbl>, E <int>,\u001b[39m\n",
            "\u001b[90m#   `height/weight` <chr>, year_born <chr>, position <chr>, career <chr>,\u001b[39m\n",
            "\u001b[90m#   starting_salary <chr>, OPS <dbl>\u001b[39m\n"
          ]
        }
      ]
    },
    {
      "cell_type": "code",
      "source": [
        "#23번\n",
        "test_set <- setdiff(DF, train_set_22)\n",
        "\n",
        "test_set %>% show()"
      ],
      "metadata": {
        "colab": {
          "base_uri": "https://localhost:8080/"
        },
        "id": "0XfyWovTIfCx",
        "outputId": "4dac74ba-8334-4a7c-df30-dbaa8e610650"
      },
      "execution_count": 62,
      "outputs": [
        {
          "output_type": "stream",
          "name": "stdout",
          "text": [
            "\u001b[90m# A tibble: 418 × 29\u001b[39m\n",
            "   batter_id batter_name  year team    avg     G    AB     R     H  `2B`  `3B`\n",
            "       \u001b[3m\u001b[90m<int>\u001b[39m\u001b[23m \u001b[3m\u001b[90m<chr>\u001b[39m\u001b[23m       \u001b[3m\u001b[90m<int>\u001b[39m\u001b[23m \u001b[3m\u001b[90m<chr>\u001b[39m\u001b[23m \u001b[3m\u001b[90m<dbl>\u001b[39m\u001b[23m \u001b[3m\u001b[90m<int>\u001b[39m\u001b[23m \u001b[3m\u001b[90m<int>\u001b[39m\u001b[23m \u001b[3m\u001b[90m<int>\u001b[39m\u001b[23m \u001b[3m\u001b[90m<int>\u001b[39m\u001b[23m \u001b[3m\u001b[90m<int>\u001b[39m\u001b[23m \u001b[3m\u001b[90m<int>\u001b[39m\u001b[23m\n",
            "\u001b[90m 1\u001b[39m         1 강경학       \u001b[4m2\u001b[24m016 한화  0.188    14    32     4     6     1     1\n",
            "\u001b[90m 2\u001b[39m         1 강경학       \u001b[4m2\u001b[24m017 한화  0.222    11    36    10     8     0     0\n",
            "\u001b[90m 3\u001b[39m         2 강구성       \u001b[4m2\u001b[24m013 NC    0         3     4     0     0     0     0\n",
            "\u001b[90m 4\u001b[39m         2 강구성       \u001b[4m2\u001b[24m017 NC    1         2     1     0     1     0     0\n",
            "\u001b[90m 5\u001b[39m        69 김태완       \u001b[4m2\u001b[24m006 한화  0.2      10    15     0     3     0     0\n",
            "\u001b[90m 6\u001b[39m        69 김태완       \u001b[4m2\u001b[24m008 한화  0.375    10    24     3     9     1     0\n",
            "\u001b[90m 7\u001b[39m        69 김태완       \u001b[4m2\u001b[24m009 한화  0.32     10    25     5     8     3     0\n",
            "\u001b[90m 8\u001b[39m        69 김태완       \u001b[4m2\u001b[24m010 한화  0.4       2     5     2     2     0     1\n",
            "\u001b[90m 9\u001b[39m        69 김태완       \u001b[4m2\u001b[24m013 한화  0.25      9    28     3     7     0     0\n",
            "\u001b[90m10\u001b[39m        69 김태완       \u001b[4m2\u001b[24m014 한화  0.125    10    16     1     2     0     0\n",
            "\u001b[90m# ℹ 408 more rows\u001b[39m\n",
            "\u001b[90m# ℹ 18 more variables: HR <int>, TB <int>, RBI <int>, SB <int>, CS <int>,\u001b[39m\n",
            "\u001b[90m#   BB <int>, HBP <int>, SO <int>, GDP <int>, SLG <dbl>, OBP <dbl>, E <int>,\u001b[39m\n",
            "\u001b[90m#   `height/weight` <chr>, year_born <chr>, position <chr>, career <chr>,\u001b[39m\n",
            "\u001b[90m#   starting_salary <chr>, OPS <dbl>\u001b[39m\n"
          ]
        }
      ]
    },
    {
      "cell_type": "code",
      "source": [],
      "metadata": {
        "id": "xwCTi06sIfLn"
      },
      "execution_count": null,
      "outputs": []
    },
    {
      "cell_type": "markdown",
      "source": [],
      "metadata": {
        "id": "6gvj_AJN5u_r"
      }
    }
  ]
}