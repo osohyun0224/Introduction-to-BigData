{
  "nbformat": 4,
  "nbformat_minor": 0,
  "metadata": {
    "colab": {
      "provenance": [],
      "gpuType": "T4",
      "authorship_tag": "ABX9TyMXQ2jqMW2SuTdjKdbCR+Rv",
      "include_colab_link": true
    },
    "kernelspec": {
      "name": "ir",
      "display_name": "R"
    },
    "language_info": {
      "name": "R"
    },
    "accelerator": "GPU"
  },
  "cells": [
    {
      "cell_type": "markdown",
      "metadata": {
        "id": "view-in-github",
        "colab_type": "text"
      },
      "source": [
        "<a href=\"https://colab.research.google.com/github/osohyun0224/R-Baisc/blob/master/bigd_01_20205205_%EC%98%A4%EC%86%8C%ED%98%84.ipynb\" target=\"_parent\"><img src=\"https://colab.research.google.com/assets/colab-badge.svg\" alt=\"Open In Colab\"/></a>"
      ]
    },
    {
      "cell_type": "code",
      "execution_count": 1,
      "metadata": {
        "colab": {
          "base_uri": "https://localhost:8080/",
          "height": 34
        },
        "id": "_lTHLRyM8d80",
        "outputId": "25bb7a59-d895-496c-83f8-8828d7d629e6"
      },
      "outputs": [
        {
          "output_type": "display_data",
          "data": {
            "text/html": [
              "'/content'"
            ],
            "text/markdown": "'/content'",
            "text/latex": "'/content'",
            "text/plain": [
              "[1] \"/content\""
            ]
          },
          "metadata": {}
        }
      ],
      "source": [
        "getwd()"
      ]
    },
    {
      "cell_type": "code",
      "source": [
        "install.packages(\"tidyverse\")"
      ],
      "metadata": {
        "colab": {
          "base_uri": "https://localhost:8080/"
        },
        "id": "dM1b72JR9JmH",
        "outputId": "96037f22-e667-43fb-afac-e596f86fa47a"
      },
      "execution_count": 1,
      "outputs": [
        {
          "output_type": "stream",
          "name": "stderr",
          "text": [
            "Installing package into ‘/usr/local/lib/R/site-library’\n",
            "(as ‘lib’ is unspecified)\n",
            "\n"
          ]
        }
      ]
    },
    {
      "cell_type": "code",
      "source": [
        "library(tidyverse)\n",
        "search()"
      ],
      "metadata": {
        "colab": {
          "base_uri": "https://localhost:8080/",
          "height": 86
        },
        "id": "quBtQxrE9pEn",
        "outputId": "5e3b44b5-ca2e-4348-ed70-b78cd0dffe42"
      },
      "execution_count": 5,
      "outputs": [
        {
          "output_type": "display_data",
          "data": {
            "text/html": [
              "<style>\n",
              ".list-inline {list-style: none; margin:0; padding: 0}\n",
              ".list-inline>li {display: inline-block}\n",
              ".list-inline>li:not(:last-child)::after {content: \"\\00b7\"; padding: 0 .5ex}\n",
              "</style>\n",
              "<ol class=list-inline><li>'.GlobalEnv'</li><li>'package:lubridate'</li><li>'package:forcats'</li><li>'package:stringr'</li><li>'package:dplyr'</li><li>'package:purrr'</li><li>'package:readr'</li><li>'package:tidyr'</li><li>'package:tibble'</li><li>'package:ggplot2'</li><li>'package:tidyverse'</li><li>'jupyter:irkernel'</li><li>'package:stats'</li><li>'package:graphics'</li><li>'package:grDevices'</li><li>'package:utils'</li><li>'package:datasets'</li><li>'package:methods'</li><li>'Autoloads'</li><li>'package:base'</li></ol>\n"
            ],
            "text/markdown": "1. '.GlobalEnv'\n2. 'package:lubridate'\n3. 'package:forcats'\n4. 'package:stringr'\n5. 'package:dplyr'\n6. 'package:purrr'\n7. 'package:readr'\n8. 'package:tidyr'\n9. 'package:tibble'\n10. 'package:ggplot2'\n11. 'package:tidyverse'\n12. 'jupyter:irkernel'\n13. 'package:stats'\n14. 'package:graphics'\n15. 'package:grDevices'\n16. 'package:utils'\n17. 'package:datasets'\n18. 'package:methods'\n19. 'Autoloads'\n20. 'package:base'\n\n\n",
            "text/latex": "\\begin{enumerate*}\n\\item '.GlobalEnv'\n\\item 'package:lubridate'\n\\item 'package:forcats'\n\\item 'package:stringr'\n\\item 'package:dplyr'\n\\item 'package:purrr'\n\\item 'package:readr'\n\\item 'package:tidyr'\n\\item 'package:tibble'\n\\item 'package:ggplot2'\n\\item 'package:tidyverse'\n\\item 'jupyter:irkernel'\n\\item 'package:stats'\n\\item 'package:graphics'\n\\item 'package:grDevices'\n\\item 'package:utils'\n\\item 'package:datasets'\n\\item 'package:methods'\n\\item 'Autoloads'\n\\item 'package:base'\n\\end{enumerate*}\n",
            "text/plain": [
              " [1] \".GlobalEnv\"        \"package:lubridate\" \"package:forcats\"  \n",
              " [4] \"package:stringr\"   \"package:dplyr\"     \"package:purrr\"    \n",
              " [7] \"package:readr\"     \"package:tidyr\"     \"package:tibble\"   \n",
              "[10] \"package:ggplot2\"   \"package:tidyverse\" \"jupyter:irkernel\" \n",
              "[13] \"package:stats\"     \"package:graphics\"  \"package:grDevices\"\n",
              "[16] \"package:utils\"     \"package:datasets\"  \"package:methods\"  \n",
              "[19] \"Autoloads\"         \"package:base\"     "
            ]
          },
          "metadata": {}
        }
      ]
    },
    {
      "cell_type": "code",
      "source": [
        "install.packages(\"gapminder\")"
      ],
      "metadata": {
        "colab": {
          "base_uri": "https://localhost:8080/"
        },
        "id": "Xm1H4sH7-pE5",
        "outputId": "6f03d251-6e07-4f83-f0a7-e4e824025c5c"
      },
      "execution_count": 7,
      "outputs": [
        {
          "output_type": "stream",
          "name": "stderr",
          "text": [
            "Installing package into ‘/usr/local/lib/R/site-library’\n",
            "(as ‘lib’ is unspecified)\n",
            "\n"
          ]
        }
      ]
    },
    {
      "cell_type": "code",
      "source": [
        "library(gapminder)\n",
        "library(dplyr)\n",
        "glimpse(gapminder)"
      ],
      "metadata": {
        "colab": {
          "base_uri": "https://localhost:8080/"
        },
        "id": "Ibm68VJG_APe",
        "outputId": "51034a22-a032-4eea-b3df-cb22d5f02d7d"
      },
      "execution_count": 10,
      "outputs": [
        {
          "output_type": "stream",
          "name": "stdout",
          "text": [
            "Rows: 1,704\n",
            "Columns: 6\n",
            "$ country   \u001b[3m\u001b[90m<fct>\u001b[39m\u001b[23m \"Afghanistan\", \"Afghanistan\", \"Afghanistan\", \"Afghanistan\", …\n",
            "$ continent \u001b[3m\u001b[90m<fct>\u001b[39m\u001b[23m Asia, Asia, Asia, Asia, Asia, Asia, Asia, Asia, Asia, Asia, …\n",
            "$ year      \u001b[3m\u001b[90m<int>\u001b[39m\u001b[23m 1952, 1957, 1962, 1967, 1972, 1977, 1982, 1987, 1992, 1997, …\n",
            "$ lifeExp   \u001b[3m\u001b[90m<dbl>\u001b[39m\u001b[23m 28.801, 30.332, 31.997, 34.020, 36.088, 38.438, 39.854, 40.8…\n",
            "$ pop       \u001b[3m\u001b[90m<int>\u001b[39m\u001b[23m 8425333, 9240934, 10267083, 11537966, 13079460, 14880372, 12…\n",
            "$ gdpPercap \u001b[3m\u001b[90m<dbl>\u001b[39m\u001b[23m 779.4453, 820.8530, 853.1007, 836.1971, 739.9811, 786.1134, …\n"
          ]
        }
      ]
    },
    {
      "cell_type": "code",
      "source": [
        "gapminder[1:15, ]"
      ],
      "metadata": {
        "colab": {
          "base_uri": "https://localhost:8080/",
          "height": 568
        },
        "id": "SQO04_FB_Eg0",
        "outputId": "ceae913b-cfcf-44d7-86ae-9bd8e5d9abe2"
      },
      "execution_count": 11,
      "outputs": [
        {
          "output_type": "display_data",
          "data": {
            "text/html": [
              "<table class=\"dataframe\">\n",
              "<caption>A tibble: 15 × 6</caption>\n",
              "<thead>\n",
              "\t<tr><th scope=col>country</th><th scope=col>continent</th><th scope=col>year</th><th scope=col>lifeExp</th><th scope=col>pop</th><th scope=col>gdpPercap</th></tr>\n",
              "\t<tr><th scope=col>&lt;fct&gt;</th><th scope=col>&lt;fct&gt;</th><th scope=col>&lt;int&gt;</th><th scope=col>&lt;dbl&gt;</th><th scope=col>&lt;int&gt;</th><th scope=col>&lt;dbl&gt;</th></tr>\n",
              "</thead>\n",
              "<tbody>\n",
              "\t<tr><td>Afghanistan</td><td>Asia  </td><td>1952</td><td>28.801</td><td> 8425333</td><td> 779.4453</td></tr>\n",
              "\t<tr><td>Afghanistan</td><td>Asia  </td><td>1957</td><td>30.332</td><td> 9240934</td><td> 820.8530</td></tr>\n",
              "\t<tr><td>Afghanistan</td><td>Asia  </td><td>1962</td><td>31.997</td><td>10267083</td><td> 853.1007</td></tr>\n",
              "\t<tr><td>Afghanistan</td><td>Asia  </td><td>1967</td><td>34.020</td><td>11537966</td><td> 836.1971</td></tr>\n",
              "\t<tr><td>Afghanistan</td><td>Asia  </td><td>1972</td><td>36.088</td><td>13079460</td><td> 739.9811</td></tr>\n",
              "\t<tr><td>Afghanistan</td><td>Asia  </td><td>1977</td><td>38.438</td><td>14880372</td><td> 786.1134</td></tr>\n",
              "\t<tr><td>Afghanistan</td><td>Asia  </td><td>1982</td><td>39.854</td><td>12881816</td><td> 978.0114</td></tr>\n",
              "\t<tr><td>Afghanistan</td><td>Asia  </td><td>1987</td><td>40.822</td><td>13867957</td><td> 852.3959</td></tr>\n",
              "\t<tr><td>Afghanistan</td><td>Asia  </td><td>1992</td><td>41.674</td><td>16317921</td><td> 649.3414</td></tr>\n",
              "\t<tr><td>Afghanistan</td><td>Asia  </td><td>1997</td><td>41.763</td><td>22227415</td><td> 635.3414</td></tr>\n",
              "\t<tr><td>Afghanistan</td><td>Asia  </td><td>2002</td><td>42.129</td><td>25268405</td><td> 726.7341</td></tr>\n",
              "\t<tr><td>Afghanistan</td><td>Asia  </td><td>2007</td><td>43.828</td><td>31889923</td><td> 974.5803</td></tr>\n",
              "\t<tr><td>Albania    </td><td>Europe</td><td>1952</td><td>55.230</td><td> 1282697</td><td>1601.0561</td></tr>\n",
              "\t<tr><td>Albania    </td><td>Europe</td><td>1957</td><td>59.280</td><td> 1476505</td><td>1942.2842</td></tr>\n",
              "\t<tr><td>Albania    </td><td>Europe</td><td>1962</td><td>64.820</td><td> 1728137</td><td>2312.8890</td></tr>\n",
              "</tbody>\n",
              "</table>\n"
            ],
            "text/markdown": "\nA tibble: 15 × 6\n\n| country &lt;fct&gt; | continent &lt;fct&gt; | year &lt;int&gt; | lifeExp &lt;dbl&gt; | pop &lt;int&gt; | gdpPercap &lt;dbl&gt; |\n|---|---|---|---|---|---|\n| Afghanistan | Asia   | 1952 | 28.801 |  8425333 |  779.4453 |\n| Afghanistan | Asia   | 1957 | 30.332 |  9240934 |  820.8530 |\n| Afghanistan | Asia   | 1962 | 31.997 | 10267083 |  853.1007 |\n| Afghanistan | Asia   | 1967 | 34.020 | 11537966 |  836.1971 |\n| Afghanistan | Asia   | 1972 | 36.088 | 13079460 |  739.9811 |\n| Afghanistan | Asia   | 1977 | 38.438 | 14880372 |  786.1134 |\n| Afghanistan | Asia   | 1982 | 39.854 | 12881816 |  978.0114 |\n| Afghanistan | Asia   | 1987 | 40.822 | 13867957 |  852.3959 |\n| Afghanistan | Asia   | 1992 | 41.674 | 16317921 |  649.3414 |\n| Afghanistan | Asia   | 1997 | 41.763 | 22227415 |  635.3414 |\n| Afghanistan | Asia   | 2002 | 42.129 | 25268405 |  726.7341 |\n| Afghanistan | Asia   | 2007 | 43.828 | 31889923 |  974.5803 |\n| Albania     | Europe | 1952 | 55.230 |  1282697 | 1601.0561 |\n| Albania     | Europe | 1957 | 59.280 |  1476505 | 1942.2842 |\n| Albania     | Europe | 1962 | 64.820 |  1728137 | 2312.8890 |\n\n",
            "text/latex": "A tibble: 15 × 6\n\\begin{tabular}{llllll}\n country & continent & year & lifeExp & pop & gdpPercap\\\\\n <fct> & <fct> & <int> & <dbl> & <int> & <dbl>\\\\\n\\hline\n\t Afghanistan & Asia   & 1952 & 28.801 &  8425333 &  779.4453\\\\\n\t Afghanistan & Asia   & 1957 & 30.332 &  9240934 &  820.8530\\\\\n\t Afghanistan & Asia   & 1962 & 31.997 & 10267083 &  853.1007\\\\\n\t Afghanistan & Asia   & 1967 & 34.020 & 11537966 &  836.1971\\\\\n\t Afghanistan & Asia   & 1972 & 36.088 & 13079460 &  739.9811\\\\\n\t Afghanistan & Asia   & 1977 & 38.438 & 14880372 &  786.1134\\\\\n\t Afghanistan & Asia   & 1982 & 39.854 & 12881816 &  978.0114\\\\\n\t Afghanistan & Asia   & 1987 & 40.822 & 13867957 &  852.3959\\\\\n\t Afghanistan & Asia   & 1992 & 41.674 & 16317921 &  649.3414\\\\\n\t Afghanistan & Asia   & 1997 & 41.763 & 22227415 &  635.3414\\\\\n\t Afghanistan & Asia   & 2002 & 42.129 & 25268405 &  726.7341\\\\\n\t Afghanistan & Asia   & 2007 & 43.828 & 31889923 &  974.5803\\\\\n\t Albania     & Europe & 1952 & 55.230 &  1282697 & 1601.0561\\\\\n\t Albania     & Europe & 1957 & 59.280 &  1476505 & 1942.2842\\\\\n\t Albania     & Europe & 1962 & 64.820 &  1728137 & 2312.8890\\\\\n\\end{tabular}\n",
            "text/plain": [
              "   country     continent year lifeExp pop      gdpPercap\n",
              "1  Afghanistan Asia      1952 28.801   8425333  779.4453\n",
              "2  Afghanistan Asia      1957 30.332   9240934  820.8530\n",
              "3  Afghanistan Asia      1962 31.997  10267083  853.1007\n",
              "4  Afghanistan Asia      1967 34.020  11537966  836.1971\n",
              "5  Afghanistan Asia      1972 36.088  13079460  739.9811\n",
              "6  Afghanistan Asia      1977 38.438  14880372  786.1134\n",
              "7  Afghanistan Asia      1982 39.854  12881816  978.0114\n",
              "8  Afghanistan Asia      1987 40.822  13867957  852.3959\n",
              "9  Afghanistan Asia      1992 41.674  16317921  649.3414\n",
              "10 Afghanistan Asia      1997 41.763  22227415  635.3414\n",
              "11 Afghanistan Asia      2002 42.129  25268405  726.7341\n",
              "12 Afghanistan Asia      2007 43.828  31889923  974.5803\n",
              "13 Albania     Europe    1952 55.230   1282697 1601.0561\n",
              "14 Albania     Europe    1957 59.280   1476505 1942.2842\n",
              "15 Albania     Europe    1962 64.820   1728137 2312.8890"
            ]
          },
          "metadata": {}
        }
      ]
    },
    {
      "cell_type": "code",
      "source": [
        "gapminder[gapminder$country == \"Croatia\",  ]"
      ],
      "metadata": {
        "colab": {
          "base_uri": "https://localhost:8080/",
          "height": 474
        },
        "id": "94pTGc7z_Xun",
        "outputId": "c4e6c76f-9c2d-4895-ab57-61f8870309eb"
      },
      "execution_count": 12,
      "outputs": [
        {
          "output_type": "display_data",
          "data": {
            "text/html": [
              "<table class=\"dataframe\">\n",
              "<caption>A tibble: 12 × 6</caption>\n",
              "<thead>\n",
              "\t<tr><th scope=col>country</th><th scope=col>continent</th><th scope=col>year</th><th scope=col>lifeExp</th><th scope=col>pop</th><th scope=col>gdpPercap</th></tr>\n",
              "\t<tr><th scope=col>&lt;fct&gt;</th><th scope=col>&lt;fct&gt;</th><th scope=col>&lt;int&gt;</th><th scope=col>&lt;dbl&gt;</th><th scope=col>&lt;int&gt;</th><th scope=col>&lt;dbl&gt;</th></tr>\n",
              "</thead>\n",
              "<tbody>\n",
              "\t<tr><td>Croatia</td><td>Europe</td><td>1952</td><td>61.210</td><td>3882229</td><td> 3119.237</td></tr>\n",
              "\t<tr><td>Croatia</td><td>Europe</td><td>1957</td><td>64.770</td><td>3991242</td><td> 4338.232</td></tr>\n",
              "\t<tr><td>Croatia</td><td>Europe</td><td>1962</td><td>67.130</td><td>4076557</td><td> 5477.890</td></tr>\n",
              "\t<tr><td>Croatia</td><td>Europe</td><td>1967</td><td>68.500</td><td>4174366</td><td> 6960.298</td></tr>\n",
              "\t<tr><td>Croatia</td><td>Europe</td><td>1972</td><td>69.610</td><td>4225310</td><td> 9164.090</td></tr>\n",
              "\t<tr><td>Croatia</td><td>Europe</td><td>1977</td><td>70.640</td><td>4318673</td><td>11305.385</td></tr>\n",
              "\t<tr><td>Croatia</td><td>Europe</td><td>1982</td><td>70.460</td><td>4413368</td><td>13221.822</td></tr>\n",
              "\t<tr><td>Croatia</td><td>Europe</td><td>1987</td><td>71.520</td><td>4484310</td><td>13822.584</td></tr>\n",
              "\t<tr><td>Croatia</td><td>Europe</td><td>1992</td><td>72.527</td><td>4494013</td><td> 8447.795</td></tr>\n",
              "\t<tr><td>Croatia</td><td>Europe</td><td>1997</td><td>73.680</td><td>4444595</td><td> 9875.605</td></tr>\n",
              "\t<tr><td>Croatia</td><td>Europe</td><td>2002</td><td>74.876</td><td>4481020</td><td>11628.389</td></tr>\n",
              "\t<tr><td>Croatia</td><td>Europe</td><td>2007</td><td>75.748</td><td>4493312</td><td>14619.223</td></tr>\n",
              "</tbody>\n",
              "</table>\n"
            ],
            "text/markdown": "\nA tibble: 12 × 6\n\n| country &lt;fct&gt; | continent &lt;fct&gt; | year &lt;int&gt; | lifeExp &lt;dbl&gt; | pop &lt;int&gt; | gdpPercap &lt;dbl&gt; |\n|---|---|---|---|---|---|\n| Croatia | Europe | 1952 | 61.210 | 3882229 |  3119.237 |\n| Croatia | Europe | 1957 | 64.770 | 3991242 |  4338.232 |\n| Croatia | Europe | 1962 | 67.130 | 4076557 |  5477.890 |\n| Croatia | Europe | 1967 | 68.500 | 4174366 |  6960.298 |\n| Croatia | Europe | 1972 | 69.610 | 4225310 |  9164.090 |\n| Croatia | Europe | 1977 | 70.640 | 4318673 | 11305.385 |\n| Croatia | Europe | 1982 | 70.460 | 4413368 | 13221.822 |\n| Croatia | Europe | 1987 | 71.520 | 4484310 | 13822.584 |\n| Croatia | Europe | 1992 | 72.527 | 4494013 |  8447.795 |\n| Croatia | Europe | 1997 | 73.680 | 4444595 |  9875.605 |\n| Croatia | Europe | 2002 | 74.876 | 4481020 | 11628.389 |\n| Croatia | Europe | 2007 | 75.748 | 4493312 | 14619.223 |\n\n",
            "text/latex": "A tibble: 12 × 6\n\\begin{tabular}{llllll}\n country & continent & year & lifeExp & pop & gdpPercap\\\\\n <fct> & <fct> & <int> & <dbl> & <int> & <dbl>\\\\\n\\hline\n\t Croatia & Europe & 1952 & 61.210 & 3882229 &  3119.237\\\\\n\t Croatia & Europe & 1957 & 64.770 & 3991242 &  4338.232\\\\\n\t Croatia & Europe & 1962 & 67.130 & 4076557 &  5477.890\\\\\n\t Croatia & Europe & 1967 & 68.500 & 4174366 &  6960.298\\\\\n\t Croatia & Europe & 1972 & 69.610 & 4225310 &  9164.090\\\\\n\t Croatia & Europe & 1977 & 70.640 & 4318673 & 11305.385\\\\\n\t Croatia & Europe & 1982 & 70.460 & 4413368 & 13221.822\\\\\n\t Croatia & Europe & 1987 & 71.520 & 4484310 & 13822.584\\\\\n\t Croatia & Europe & 1992 & 72.527 & 4494013 &  8447.795\\\\\n\t Croatia & Europe & 1997 & 73.680 & 4444595 &  9875.605\\\\\n\t Croatia & Europe & 2002 & 74.876 & 4481020 & 11628.389\\\\\n\t Croatia & Europe & 2007 & 75.748 & 4493312 & 14619.223\\\\\n\\end{tabular}\n",
            "text/plain": [
              "   country continent year lifeExp pop     gdpPercap\n",
              "1  Croatia Europe    1952 61.210  3882229  3119.237\n",
              "2  Croatia Europe    1957 64.770  3991242  4338.232\n",
              "3  Croatia Europe    1962 67.130  4076557  5477.890\n",
              "4  Croatia Europe    1967 68.500  4174366  6960.298\n",
              "5  Croatia Europe    1972 69.610  4225310  9164.090\n",
              "6  Croatia Europe    1977 70.640  4318673 11305.385\n",
              "7  Croatia Europe    1982 70.460  4413368 13221.822\n",
              "8  Croatia Europe    1987 71.520  4484310 13822.584\n",
              "9  Croatia Europe    1992 72.527  4494013  8447.795\n",
              "10 Croatia Europe    1997 73.680  4444595  9875.605\n",
              "11 Croatia Europe    2002 74.876  4481020 11628.389\n",
              "12 Croatia Europe    2007 75.748  4493312 14619.223"
            ]
          },
          "metadata": {}
        }
      ]
    },
    {
      "cell_type": "code",
      "source": [
        "gapminder[gapminder$country == \"Croatia\", \"pop\" ]"
      ],
      "metadata": {
        "colab": {
          "base_uri": "https://localhost:8080/",
          "height": 491
        },
        "id": "x7qNGVU6_hjW",
        "outputId": "7f455ccf-5174-47ca-8f03-7f839831aefb"
      },
      "execution_count": 13,
      "outputs": [
        {
          "output_type": "display_data",
          "data": {
            "text/html": [
              "<table class=\"dataframe\">\n",
              "<caption>A tibble: 12 × 1</caption>\n",
              "<thead>\n",
              "\t<tr><th scope=col>pop</th></tr>\n",
              "\t<tr><th scope=col>&lt;int&gt;</th></tr>\n",
              "</thead>\n",
              "<tbody>\n",
              "\t<tr><td>3882229</td></tr>\n",
              "\t<tr><td>3991242</td></tr>\n",
              "\t<tr><td>4076557</td></tr>\n",
              "\t<tr><td>4174366</td></tr>\n",
              "\t<tr><td>4225310</td></tr>\n",
              "\t<tr><td>4318673</td></tr>\n",
              "\t<tr><td>4413368</td></tr>\n",
              "\t<tr><td>4484310</td></tr>\n",
              "\t<tr><td>4494013</td></tr>\n",
              "\t<tr><td>4444595</td></tr>\n",
              "\t<tr><td>4481020</td></tr>\n",
              "\t<tr><td>4493312</td></tr>\n",
              "</tbody>\n",
              "</table>\n"
            ],
            "text/markdown": "\nA tibble: 12 × 1\n\n| pop &lt;int&gt; |\n|---|\n| 3882229 |\n| 3991242 |\n| 4076557 |\n| 4174366 |\n| 4225310 |\n| 4318673 |\n| 4413368 |\n| 4484310 |\n| 4494013 |\n| 4444595 |\n| 4481020 |\n| 4493312 |\n\n",
            "text/latex": "A tibble: 12 × 1\n\\begin{tabular}{l}\n pop\\\\\n <int>\\\\\n\\hline\n\t 3882229\\\\\n\t 3991242\\\\\n\t 4076557\\\\\n\t 4174366\\\\\n\t 4225310\\\\\n\t 4318673\\\\\n\t 4413368\\\\\n\t 4484310\\\\\n\t 4494013\\\\\n\t 4444595\\\\\n\t 4481020\\\\\n\t 4493312\\\\\n\\end{tabular}\n",
            "text/plain": [
              "   pop    \n",
              "1  3882229\n",
              "2  3991242\n",
              "3  4076557\n",
              "4  4174366\n",
              "5  4225310\n",
              "6  4318673\n",
              "7  4413368\n",
              "8  4484310\n",
              "9  4494013\n",
              "10 4444595\n",
              "11 4481020\n",
              "12 4493312"
            ]
          },
          "metadata": {}
        }
      ]
    },
    {
      "cell_type": "code",
      "source": [
        "gapminder[gapminder$country == \"Croatia\"&gapminder$year>1900,c(\"lifeExp\",\"pop\") ]"
      ],
      "metadata": {
        "colab": {
          "base_uri": "https://localhost:8080/",
          "height": 474
        },
        "id": "DEy-IM2m_mcy",
        "outputId": "6b957580-28e2-44fb-dfa3-55de7c235970"
      },
      "execution_count": 14,
      "outputs": [
        {
          "output_type": "display_data",
          "data": {
            "text/html": [
              "<table class=\"dataframe\">\n",
              "<caption>A tibble: 12 × 2</caption>\n",
              "<thead>\n",
              "\t<tr><th scope=col>lifeExp</th><th scope=col>pop</th></tr>\n",
              "\t<tr><th scope=col>&lt;dbl&gt;</th><th scope=col>&lt;int&gt;</th></tr>\n",
              "</thead>\n",
              "<tbody>\n",
              "\t<tr><td>61.210</td><td>3882229</td></tr>\n",
              "\t<tr><td>64.770</td><td>3991242</td></tr>\n",
              "\t<tr><td>67.130</td><td>4076557</td></tr>\n",
              "\t<tr><td>68.500</td><td>4174366</td></tr>\n",
              "\t<tr><td>69.610</td><td>4225310</td></tr>\n",
              "\t<tr><td>70.640</td><td>4318673</td></tr>\n",
              "\t<tr><td>70.460</td><td>4413368</td></tr>\n",
              "\t<tr><td>71.520</td><td>4484310</td></tr>\n",
              "\t<tr><td>72.527</td><td>4494013</td></tr>\n",
              "\t<tr><td>73.680</td><td>4444595</td></tr>\n",
              "\t<tr><td>74.876</td><td>4481020</td></tr>\n",
              "\t<tr><td>75.748</td><td>4493312</td></tr>\n",
              "</tbody>\n",
              "</table>\n"
            ],
            "text/markdown": "\nA tibble: 12 × 2\n\n| lifeExp &lt;dbl&gt; | pop &lt;int&gt; |\n|---|---|\n| 61.210 | 3882229 |\n| 64.770 | 3991242 |\n| 67.130 | 4076557 |\n| 68.500 | 4174366 |\n| 69.610 | 4225310 |\n| 70.640 | 4318673 |\n| 70.460 | 4413368 |\n| 71.520 | 4484310 |\n| 72.527 | 4494013 |\n| 73.680 | 4444595 |\n| 74.876 | 4481020 |\n| 75.748 | 4493312 |\n\n",
            "text/latex": "A tibble: 12 × 2\n\\begin{tabular}{ll}\n lifeExp & pop\\\\\n <dbl> & <int>\\\\\n\\hline\n\t 61.210 & 3882229\\\\\n\t 64.770 & 3991242\\\\\n\t 67.130 & 4076557\\\\\n\t 68.500 & 4174366\\\\\n\t 69.610 & 4225310\\\\\n\t 70.640 & 4318673\\\\\n\t 70.460 & 4413368\\\\\n\t 71.520 & 4484310\\\\\n\t 72.527 & 4494013\\\\\n\t 73.680 & 4444595\\\\\n\t 74.876 & 4481020\\\\\n\t 75.748 & 4493312\\\\\n\\end{tabular}\n",
            "text/plain": [
              "   lifeExp pop    \n",
              "1  61.210  3882229\n",
              "2  64.770  3991242\n",
              "3  67.130  4076557\n",
              "4  68.500  4174366\n",
              "5  69.610  4225310\n",
              "6  70.640  4318673\n",
              "7  70.460  4413368\n",
              "8  71.520  4484310\n",
              "9  72.527  4494013\n",
              "10 73.680  4444595\n",
              "11 74.876  4481020\n",
              "12 75.748  4493312"
            ]
          },
          "metadata": {}
        }
      ]
    },
    {
      "cell_type": "code",
      "source": [
        "apply(gapminder[gapminder$country == \"Croatia\"&gapminder$year>1900,c(\"lifeExp\",\"pop\") ],2,mean)"
      ],
      "metadata": {
        "colab": {
          "base_uri": "https://localhost:8080/",
          "height": 34
        },
        "id": "N_eTcLCX_oBV",
        "outputId": "577393ac-de72-4781-a2be-2a9d6222d2b6"
      },
      "execution_count": 15,
      "outputs": [
        {
          "output_type": "display_data",
          "data": {
            "text/html": [
              "<style>\n",
              ".dl-inline {width: auto; margin:0; padding: 0}\n",
              ".dl-inline>dt, .dl-inline>dd {float: none; width: auto; display: inline-block}\n",
              ".dl-inline>dt::after {content: \":\\0020\"; padding-right: .5ex}\n",
              ".dl-inline>dt:not(:first-of-type) {padding-left: .5ex}\n",
              "</style><dl class=dl-inline><dt>lifeExp</dt><dd>70.0559166666667</dd><dt>pop</dt><dd>4289916.25</dd></dl>\n"
            ],
            "text/markdown": "lifeExp\n:   70.0559166666667pop\n:   4289916.25\n\n",
            "text/latex": "\\begin{description*}\n\\item[lifeExp] 70.0559166666667\n\\item[pop] 4289916.25\n\\end{description*}\n",
            "text/plain": [
              "     lifeExp          pop \n",
              "7.005592e+01 4.289916e+06 "
            ]
          },
          "metadata": {}
        }
      ]
    },
    {
      "cell_type": "code",
      "source": [
        "getwd()"
      ],
      "metadata": {
        "colab": {
          "base_uri": "https://localhost:8080/",
          "height": 34
        },
        "id": "272Xmq-YAG2H",
        "outputId": "5a9b094a-6884-4534-9c3a-b657db35fc17"
      },
      "execution_count": 16,
      "outputs": [
        {
          "output_type": "display_data",
          "data": {
            "text/html": [
              "'/content'"
            ],
            "text/markdown": "'/content'",
            "text/latex": "'/content'",
            "text/plain": [
              "[1] \"/content\""
            ]
          },
          "metadata": {}
        }
      ]
    },
    {
      "cell_type": "code",
      "source": [
        "va <- c(1:3, 4, 5)\n",
        "vb <- 6:9\n",
        "vc <- rep(\"c\", times=6)\n",
        "vd <- seq(1, 10, by=2)"
      ],
      "metadata": {
        "id": "UnrV7MlQARvo"
      },
      "execution_count": 17,
      "outputs": []
    },
    {
      "cell_type": "code",
      "source": [
        "va //이렇게 해야 보임\n",
        "vb\n",
        "vc\n",
        "vd"
      ],
      "metadata": {
        "colab": {
          "base_uri": "https://localhost:8080/",
          "height": 86
        },
        "id": "CIIH4ZSsAg8Z",
        "outputId": "02ab7d84-8c64-452e-c4e1-000cf255b876"
      },
      "execution_count": 19,
      "outputs": [
        {
          "output_type": "display_data",
          "data": {
            "text/html": [
              "<style>\n",
              ".list-inline {list-style: none; margin:0; padding: 0}\n",
              ".list-inline>li {display: inline-block}\n",
              ".list-inline>li:not(:last-child)::after {content: \"\\00b7\"; padding: 0 .5ex}\n",
              "</style>\n",
              "<ol class=list-inline><li>1</li><li>2</li><li>3</li><li>4</li><li>5</li></ol>\n"
            ],
            "text/markdown": "1. 1\n2. 2\n3. 3\n4. 4\n5. 5\n\n\n",
            "text/latex": "\\begin{enumerate*}\n\\item 1\n\\item 2\n\\item 3\n\\item 4\n\\item 5\n\\end{enumerate*}\n",
            "text/plain": [
              "[1] 1 2 3 4 5"
            ]
          },
          "metadata": {}
        },
        {
          "output_type": "display_data",
          "data": {
            "text/html": [
              "<style>\n",
              ".list-inline {list-style: none; margin:0; padding: 0}\n",
              ".list-inline>li {display: inline-block}\n",
              ".list-inline>li:not(:last-child)::after {content: \"\\00b7\"; padding: 0 .5ex}\n",
              "</style>\n",
              "<ol class=list-inline><li>6</li><li>7</li><li>8</li><li>9</li></ol>\n"
            ],
            "text/markdown": "1. 6\n2. 7\n3. 8\n4. 9\n\n\n",
            "text/latex": "\\begin{enumerate*}\n\\item 6\n\\item 7\n\\item 8\n\\item 9\n\\end{enumerate*}\n",
            "text/plain": [
              "[1] 6 7 8 9"
            ]
          },
          "metadata": {}
        },
        {
          "output_type": "display_data",
          "data": {
            "text/html": [
              "<style>\n",
              ".list-inline {list-style: none; margin:0; padding: 0}\n",
              ".list-inline>li {display: inline-block}\n",
              ".list-inline>li:not(:last-child)::after {content: \"\\00b7\"; padding: 0 .5ex}\n",
              "</style>\n",
              "<ol class=list-inline><li>'c'</li><li>'c'</li><li>'c'</li><li>'c'</li><li>'c'</li><li>'c'</li></ol>\n"
            ],
            "text/markdown": "1. 'c'\n2. 'c'\n3. 'c'\n4. 'c'\n5. 'c'\n6. 'c'\n\n\n",
            "text/latex": "\\begin{enumerate*}\n\\item 'c'\n\\item 'c'\n\\item 'c'\n\\item 'c'\n\\item 'c'\n\\item 'c'\n\\end{enumerate*}\n",
            "text/plain": [
              "[1] \"c\" \"c\" \"c\" \"c\" \"c\" \"c\""
            ]
          },
          "metadata": {}
        },
        {
          "output_type": "display_data",
          "data": {
            "text/html": [
              "<style>\n",
              ".list-inline {list-style: none; margin:0; padding: 0}\n",
              ".list-inline>li {display: inline-block}\n",
              ".list-inline>li:not(:last-child)::after {content: \"\\00b7\"; padding: 0 .5ex}\n",
              "</style>\n",
              "<ol class=list-inline><li>1</li><li>3</li><li>5</li><li>7</li><li>9</li></ol>\n"
            ],
            "text/markdown": "1. 1\n2. 3\n3. 5\n4. 7\n5. 9\n\n\n",
            "text/latex": "\\begin{enumerate*}\n\\item 1\n\\item 3\n\\item 5\n\\item 7\n\\item 9\n\\end{enumerate*}\n",
            "text/plain": [
              "[1] 1 3 5 7 9"
            ]
          },
          "metadata": {}
        }
      ]
    },
    {
      "cell_type": "code",
      "source": [
        "rbind_abcd <- rbind(va,vb,vc,vd)\n",
        "rbind_abcd //문제 7번"
      ],
      "metadata": {
        "colab": {
          "base_uri": "https://localhost:8080/",
          "height": 213
        },
        "id": "OXn6_TSHAidd",
        "outputId": "04470726-5250-4e02-9b7d-a78a34637e71"
      },
      "execution_count": 21,
      "outputs": [
        {
          "output_type": "stream",
          "name": "stderr",
          "text": [
            "Warning message in rbind(va, vb, vc, vd):\n",
            "“number of columns of result is not a multiple of vector length (arg 1)”\n"
          ]
        },
        {
          "output_type": "display_data",
          "data": {
            "text/html": [
              "<table class=\"dataframe\">\n",
              "<caption>A matrix: 4 × 6 of type chr</caption>\n",
              "<tbody>\n",
              "\t<tr><th scope=row>va</th><td>1</td><td>2</td><td>3</td><td>4</td><td>5</td><td>1</td></tr>\n",
              "\t<tr><th scope=row>vb</th><td>6</td><td>7</td><td>8</td><td>9</td><td>6</td><td>7</td></tr>\n",
              "\t<tr><th scope=row>vc</th><td>c</td><td>c</td><td>c</td><td>c</td><td>c</td><td>c</td></tr>\n",
              "\t<tr><th scope=row>vd</th><td>1</td><td>3</td><td>5</td><td>7</td><td>9</td><td>1</td></tr>\n",
              "</tbody>\n",
              "</table>\n"
            ],
            "text/markdown": "\nA matrix: 4 × 6 of type chr\n\n| va | 1 | 2 | 3 | 4 | 5 | 1 |\n| vb | 6 | 7 | 8 | 9 | 6 | 7 |\n| vc | c | c | c | c | c | c |\n| vd | 1 | 3 | 5 | 7 | 9 | 1 |\n\n",
            "text/latex": "A matrix: 4 × 6 of type chr\n\\begin{tabular}{r|llllll}\n\tva & 1 & 2 & 3 & 4 & 5 & 1\\\\\n\tvb & 6 & 7 & 8 & 9 & 6 & 7\\\\\n\tvc & c & c & c & c & c & c\\\\\n\tvd & 1 & 3 & 5 & 7 & 9 & 1\\\\\n\\end{tabular}\n",
            "text/plain": [
              "   [,1] [,2] [,3] [,4] [,5] [,6]\n",
              "va 1    2    3    4    5    1   \n",
              "vb 6    7    8    9    6    7   \n",
              "vc c    c    c    c    c    c   \n",
              "vd 1    3    5    7    9    1   "
            ]
          },
          "metadata": {}
        }
      ]
    },
    {
      "cell_type": "code",
      "source": [
        "cbind_abcd <- cbind(va,vb,vc,vd)\n",
        "cbind_abcd #문제 8번 열합침"
      ],
      "metadata": {
        "colab": {
          "base_uri": "https://localhost:8080/",
          "height": 308
        },
        "id": "8_PZnRneBY88",
        "outputId": "66588530-17ac-4c52-acea-b454cb8e58d5"
      },
      "execution_count": 23,
      "outputs": [
        {
          "output_type": "stream",
          "name": "stderr",
          "text": [
            "Warning message in cbind(va, vb, vc, vd):\n",
            "“number of rows of result is not a multiple of vector length (arg 1)”\n"
          ]
        },
        {
          "output_type": "display_data",
          "data": {
            "text/html": [
              "<table class=\"dataframe\">\n",
              "<caption>A matrix: 6 × 4 of type chr</caption>\n",
              "<thead>\n",
              "\t<tr><th scope=col>va</th><th scope=col>vb</th><th scope=col>vc</th><th scope=col>vd</th></tr>\n",
              "</thead>\n",
              "<tbody>\n",
              "\t<tr><td>1</td><td>6</td><td>c</td><td>1</td></tr>\n",
              "\t<tr><td>2</td><td>7</td><td>c</td><td>3</td></tr>\n",
              "\t<tr><td>3</td><td>8</td><td>c</td><td>5</td></tr>\n",
              "\t<tr><td>4</td><td>9</td><td>c</td><td>7</td></tr>\n",
              "\t<tr><td>5</td><td>6</td><td>c</td><td>9</td></tr>\n",
              "\t<tr><td>1</td><td>7</td><td>c</td><td>1</td></tr>\n",
              "</tbody>\n",
              "</table>\n"
            ],
            "text/markdown": "\nA matrix: 6 × 4 of type chr\n\n| va | vb | vc | vd |\n|---|---|---|---|\n| 1 | 6 | c | 1 |\n| 2 | 7 | c | 3 |\n| 3 | 8 | c | 5 |\n| 4 | 9 | c | 7 |\n| 5 | 6 | c | 9 |\n| 1 | 7 | c | 1 |\n\n",
            "text/latex": "A matrix: 6 × 4 of type chr\n\\begin{tabular}{llll}\n va & vb & vc & vd\\\\\n\\hline\n\t 1 & 6 & c & 1\\\\\n\t 2 & 7 & c & 3\\\\\n\t 3 & 8 & c & 5\\\\\n\t 4 & 9 & c & 7\\\\\n\t 5 & 6 & c & 9\\\\\n\t 1 & 7 & c & 1\\\\\n\\end{tabular}\n",
            "text/plain": [
              "     va vb vc vd\n",
              "[1,] 1  6  c  1 \n",
              "[2,] 2  7  c  3 \n",
              "[3,] 3  8  c  5 \n",
              "[4,] 4  9  c  7 \n",
              "[5,] 5  6  c  9 \n",
              "[6,] 1  7  c  1 "
            ]
          },
          "metadata": {}
        }
      ]
    },
    {
      "cell_type": "code",
      "source": [
        "cbind_ab <- cbind(va,vb)\n",
        "cbind_ab"
      ],
      "metadata": {
        "colab": {
          "base_uri": "https://localhost:8080/",
          "height": 294
        },
        "id": "bv1jhY0TBugb",
        "outputId": "53eb68d9-92bf-4124-c9a7-65389be39372"
      },
      "execution_count": 25,
      "outputs": [
        {
          "output_type": "stream",
          "name": "stderr",
          "text": [
            "Warning message in cbind(va, vb):\n",
            "“number of rows of result is not a multiple of vector length (arg 2)”\n"
          ]
        },
        {
          "output_type": "display_data",
          "data": {
            "text/html": [
              "<table class=\"dataframe\">\n",
              "<caption>A matrix: 5 × 2 of type dbl</caption>\n",
              "<thead>\n",
              "\t<tr><th scope=col>va</th><th scope=col>vb</th></tr>\n",
              "</thead>\n",
              "<tbody>\n",
              "\t<tr><td>1</td><td>6</td></tr>\n",
              "\t<tr><td>2</td><td>7</td></tr>\n",
              "\t<tr><td>3</td><td>8</td></tr>\n",
              "\t<tr><td>4</td><td>9</td></tr>\n",
              "\t<tr><td>5</td><td>6</td></tr>\n",
              "</tbody>\n",
              "</table>\n"
            ],
            "text/markdown": "\nA matrix: 5 × 2 of type dbl\n\n| va | vb |\n|---|---|\n| 1 | 6 |\n| 2 | 7 |\n| 3 | 8 |\n| 4 | 9 |\n| 5 | 6 |\n\n",
            "text/latex": "A matrix: 5 × 2 of type dbl\n\\begin{tabular}{ll}\n va & vb\\\\\n\\hline\n\t 1 & 6\\\\\n\t 2 & 7\\\\\n\t 3 & 8\\\\\n\t 4 & 9\\\\\n\t 5 & 6\\\\\n\\end{tabular}\n",
            "text/plain": [
              "     va vb\n",
              "[1,] 1  6 \n",
              "[2,] 2  7 \n",
              "[3,] 3  8 \n",
              "[4,] 4  9 \n",
              "[5,] 5  6 "
            ]
          },
          "metadata": {}
        }
      ]
    },
    {
      "cell_type": "code",
      "source": [
        "head(cbind_ab, 2) # 9번의 b,c번 헤드는 앞에서 부터 출력이고 테일은 뒤에서 부터 출력 뒤에 숫자는 몇개 출력하는 지를 의미함\n",
        "tail(cbind_ab, 2)"
      ],
      "metadata": {
        "colab": {
          "base_uri": "https://localhost:8080/",
          "height": 293
        },
        "id": "D2H62zwCCuYb",
        "outputId": "540a05e1-b5cb-468a-9909-4231c872eaf8"
      },
      "execution_count": 27,
      "outputs": [
        {
          "output_type": "display_data",
          "data": {
            "text/html": [
              "<table class=\"dataframe\">\n",
              "<caption>A matrix: 2 × 2 of type dbl</caption>\n",
              "<thead>\n",
              "\t<tr><th scope=col>va</th><th scope=col>vb</th></tr>\n",
              "</thead>\n",
              "<tbody>\n",
              "\t<tr><td>1</td><td>6</td></tr>\n",
              "\t<tr><td>2</td><td>7</td></tr>\n",
              "</tbody>\n",
              "</table>\n"
            ],
            "text/markdown": "\nA matrix: 2 × 2 of type dbl\n\n| va | vb |\n|---|---|\n| 1 | 6 |\n| 2 | 7 |\n\n",
            "text/latex": "A matrix: 2 × 2 of type dbl\n\\begin{tabular}{ll}\n va & vb\\\\\n\\hline\n\t 1 & 6\\\\\n\t 2 & 7\\\\\n\\end{tabular}\n",
            "text/plain": [
              "     va vb\n",
              "[1,] 1  6 \n",
              "[2,] 2  7 "
            ]
          },
          "metadata": {}
        },
        {
          "output_type": "display_data",
          "data": {
            "text/html": [
              "<table class=\"dataframe\">\n",
              "<caption>A matrix: 2 × 2 of type dbl</caption>\n",
              "<thead>\n",
              "\t<tr><th></th><th scope=col>va</th><th scope=col>vb</th></tr>\n",
              "</thead>\n",
              "<tbody>\n",
              "\t<tr><th scope=row>[4,]</th><td>4</td><td>9</td></tr>\n",
              "\t<tr><th scope=row>[5,]</th><td>5</td><td>6</td></tr>\n",
              "</tbody>\n",
              "</table>\n"
            ],
            "text/markdown": "\nA matrix: 2 × 2 of type dbl\n\n| <!--/--> | va | vb |\n|---|---|---|\n| [4,] | 4 | 9 |\n| [5,] | 5 | 6 |\n\n",
            "text/latex": "A matrix: 2 × 2 of type dbl\n\\begin{tabular}{r|ll}\n  & va & vb\\\\\n\\hline\n\t{[}4,{]} & 4 & 9\\\\\n\t{[}5,{]} & 5 & 6\\\\\n\\end{tabular}\n",
            "text/plain": [
              "     va vb\n",
              "[4,] 4  9 \n",
              "[5,] 5  6 "
            ]
          },
          "metadata": {}
        }
      ]
    },
    {
      "cell_type": "code",
      "source": [
        "print(apply(cbind_ab,1,sum))#d"
      ],
      "metadata": {
        "colab": {
          "base_uri": "https://localhost:8080/"
        },
        "id": "iUnZ1astC5Qy",
        "outputId": "9a76b988-908d-4a3d-92d2-ee1c15b62d29"
      },
      "execution_count": 28,
      "outputs": [
        {
          "output_type": "stream",
          "name": "stdout",
          "text": [
            "[1]  7  9 11 13 11\n"
          ]
        }
      ]
    },
    {
      "cell_type": "code",
      "source": [],
      "metadata": {
        "id": "Bk49NCMkElyG"
      },
      "execution_count": null,
      "outputs": []
    },
    {
      "cell_type": "code",
      "source": [
        "print(apply(cbind_ab,2,sum))#e"
      ],
      "metadata": {
        "colab": {
          "base_uri": "https://localhost:8080/"
        },
        "id": "Kx5eZQBJDTUf",
        "outputId": "64cd5a01-b909-448d-bfe3-a265b7b722c0"
      },
      "execution_count": 29,
      "outputs": [
        {
          "output_type": "stream",
          "name": "stdout",
          "text": [
            "va vb \n",
            "15 36 \n"
          ]
        }
      ]
    },
    {
      "cell_type": "code",
      "source": [
        "print(apply(cbind_ab,1,mean))#f"
      ],
      "metadata": {
        "colab": {
          "base_uri": "https://localhost:8080/"
        },
        "id": "PXH0fdlNDXE2",
        "outputId": "3ff68f9c-1b30-4b6c-bfde-93c046206043"
      },
      "execution_count": 30,
      "outputs": [
        {
          "output_type": "stream",
          "name": "stdout",
          "text": [
            "[1] 3.5 4.5 5.5 6.5 5.5\n"
          ]
        }
      ]
    },
    {
      "cell_type": "code",
      "source": [
        "print(apply(cbind_ab,2,mean))#g"
      ],
      "metadata": {
        "colab": {
          "base_uri": "https://localhost:8080/"
        },
        "id": "d-8FJSiyDann",
        "outputId": "b62c429c-2b50-40c6-c90f-e23b7726a704"
      },
      "execution_count": 31,
      "outputs": [
        {
          "output_type": "stream",
          "name": "stdout",
          "text": [
            " va  vb \n",
            "3.0 7.2 \n"
          ]
        }
      ]
    },
    {
      "cell_type": "code",
      "source": [
        "temp <- sample(1:1000, 100, replace= T) #replace= T, 복원 추출(중복여부를 결정)\n",
        "temp"
      ],
      "metadata": {
        "colab": {
          "base_uri": "https://localhost:8080/",
          "height": 121
        },
        "id": "U4d0keGzDknl",
        "outputId": "22b29b1e-69dd-450a-9d40-d7b65b057070"
      },
      "execution_count": 33,
      "outputs": [
        {
          "output_type": "display_data",
          "data": {
            "text/html": [
              "<style>\n",
              ".list-inline {list-style: none; margin:0; padding: 0}\n",
              ".list-inline>li {display: inline-block}\n",
              ".list-inline>li:not(:last-child)::after {content: \"\\00b7\"; padding: 0 .5ex}\n",
              "</style>\n",
              "<ol class=list-inline><li>34</li><li>349</li><li>432</li><li>102</li><li>206</li><li>943</li><li>299</li><li>279</li><li>377</li><li>959</li><li>203</li><li>289</li><li>720</li><li>621</li><li>387</li><li>49</li><li>963</li><li>888</li><li>11</li><li>401</li><li>88</li><li>70</li><li>585</li><li>508</li><li>821</li><li>778</li><li>581</li><li>68</li><li>201</li><li>353</li><li>504</li><li>329</li><li>210</li><li>112</li><li>376</li><li>181</li><li>233</li><li>39</li><li>825</li><li>586</li><li>997</li><li>227</li><li>885</li><li>825</li><li>344</li><li>590</li><li>812</li><li>883</li><li>154</li><li>671</li><li>392</li><li>430</li><li>835</li><li>204</li><li>312</li><li>708</li><li>368</li><li>767</li><li>342</li><li>877</li><li>243</li><li>900</li><li>117</li><li>859</li><li>269</li><li>824</li><li>750</li><li>732</li><li>888</li><li>3</li><li>220</li><li>912</li><li>822</li><li>900</li><li>763</li><li>705</li><li>81</li><li>897</li><li>708</li><li>768</li><li>571</li><li>221</li><li>993</li><li>91</li><li>526</li><li>30</li><li>641</li><li>650</li><li>385</li><li>172</li><li>153</li><li>798</li><li>285</li><li>738</li><li>222</li><li>893</li><li>945</li><li>899</li><li>127</li><li>723</li></ol>\n"
            ],
            "text/markdown": "1. 34\n2. 349\n3. 432\n4. 102\n5. 206\n6. 943\n7. 299\n8. 279\n9. 377\n10. 959\n11. 203\n12. 289\n13. 720\n14. 621\n15. 387\n16. 49\n17. 963\n18. 888\n19. 11\n20. 401\n21. 88\n22. 70\n23. 585\n24. 508\n25. 821\n26. 778\n27. 581\n28. 68\n29. 201\n30. 353\n31. 504\n32. 329\n33. 210\n34. 112\n35. 376\n36. 181\n37. 233\n38. 39\n39. 825\n40. 586\n41. 997\n42. 227\n43. 885\n44. 825\n45. 344\n46. 590\n47. 812\n48. 883\n49. 154\n50. 671\n51. 392\n52. 430\n53. 835\n54. 204\n55. 312\n56. 708\n57. 368\n58. 767\n59. 342\n60. 877\n61. 243\n62. 900\n63. 117\n64. 859\n65. 269\n66. 824\n67. 750\n68. 732\n69. 888\n70. 3\n71. 220\n72. 912\n73. 822\n74. 900\n75. 763\n76. 705\n77. 81\n78. 897\n79. 708\n80. 768\n81. 571\n82. 221\n83. 993\n84. 91\n85. 526\n86. 30\n87. 641\n88. 650\n89. 385\n90. 172\n91. 153\n92. 798\n93. 285\n94. 738\n95. 222\n96. 893\n97. 945\n98. 899\n99. 127\n100. 723\n\n\n",
            "text/latex": "\\begin{enumerate*}\n\\item 34\n\\item 349\n\\item 432\n\\item 102\n\\item 206\n\\item 943\n\\item 299\n\\item 279\n\\item 377\n\\item 959\n\\item 203\n\\item 289\n\\item 720\n\\item 621\n\\item 387\n\\item 49\n\\item 963\n\\item 888\n\\item 11\n\\item 401\n\\item 88\n\\item 70\n\\item 585\n\\item 508\n\\item 821\n\\item 778\n\\item 581\n\\item 68\n\\item 201\n\\item 353\n\\item 504\n\\item 329\n\\item 210\n\\item 112\n\\item 376\n\\item 181\n\\item 233\n\\item 39\n\\item 825\n\\item 586\n\\item 997\n\\item 227\n\\item 885\n\\item 825\n\\item 344\n\\item 590\n\\item 812\n\\item 883\n\\item 154\n\\item 671\n\\item 392\n\\item 430\n\\item 835\n\\item 204\n\\item 312\n\\item 708\n\\item 368\n\\item 767\n\\item 342\n\\item 877\n\\item 243\n\\item 900\n\\item 117\n\\item 859\n\\item 269\n\\item 824\n\\item 750\n\\item 732\n\\item 888\n\\item 3\n\\item 220\n\\item 912\n\\item 822\n\\item 900\n\\item 763\n\\item 705\n\\item 81\n\\item 897\n\\item 708\n\\item 768\n\\item 571\n\\item 221\n\\item 993\n\\item 91\n\\item 526\n\\item 30\n\\item 641\n\\item 650\n\\item 385\n\\item 172\n\\item 153\n\\item 798\n\\item 285\n\\item 738\n\\item 222\n\\item 893\n\\item 945\n\\item 899\n\\item 127\n\\item 723\n\\end{enumerate*}\n",
            "text/plain": [
              "  [1]  34 349 432 102 206 943 299 279 377 959 203 289 720 621 387  49 963 888\n",
              " [19]  11 401  88  70 585 508 821 778 581  68 201 353 504 329 210 112 376 181\n",
              " [37] 233  39 825 586 997 227 885 825 344 590 812 883 154 671 392 430 835 204\n",
              " [55] 312 708 368 767 342 877 243 900 117 859 269 824 750 732 888   3 220 912\n",
              " [73] 822 900 763 705  81 897 708 768 571 221 993  91 526  30 641 650 385 172\n",
              " [91] 153 798 285 738 222 893 945 899 127 723"
            ]
          },
          "metadata": {}
        }
      ]
    },
    {
      "cell_type": "code",
      "source": [
        "length(temp) # 원소 수 를 출력"
      ],
      "metadata": {
        "colab": {
          "base_uri": "https://localhost:8080/",
          "height": 34
        },
        "id": "cH_Hvi0lEbQC",
        "outputId": "c6c6f7a6-5573-417e-943a-12f678cd6cda"
      },
      "execution_count": 34,
      "outputs": [
        {
          "output_type": "display_data",
          "data": {
            "text/html": [
              "100"
            ],
            "text/markdown": "100",
            "text/latex": "100",
            "text/plain": [
              "[1] 100"
            ]
          },
          "metadata": {}
        }
      ]
    },
    {
      "cell_type": "code",
      "source": [
        "str(temp) #구조확인"
      ],
      "metadata": {
        "colab": {
          "base_uri": "https://localhost:8080/"
        },
        "id": "m-5dxobqEwfj",
        "outputId": "948d6021-6124-4149-8ba9-efcc248841a2"
      },
      "execution_count": 35,
      "outputs": [
        {
          "output_type": "stream",
          "name": "stdout",
          "text": [
            " int [1:100] 34 349 432 102 206 943 299 279 377 959 ...\n"
          ]
        }
      ]
    },
    {
      "cell_type": "code",
      "source": [
        "# 1,2,3번째 값을 추출\n",
        "temp[c(1,2,3)]"
      ],
      "metadata": {
        "colab": {
          "base_uri": "https://localhost:8080/",
          "height": 34
        },
        "id": "FYRZbPvtE6s-",
        "outputId": "f19c744a-8223-4ec1-a259-198b9c990ed3"
      },
      "execution_count": 36,
      "outputs": [
        {
          "output_type": "display_data",
          "data": {
            "text/html": [
              "<style>\n",
              ".list-inline {list-style: none; margin:0; padding: 0}\n",
              ".list-inline>li {display: inline-block}\n",
              ".list-inline>li:not(:last-child)::after {content: \"\\00b7\"; padding: 0 .5ex}\n",
              "</style>\n",
              "<ol class=list-inline><li>34</li><li>349</li><li>432</li></ol>\n"
            ],
            "text/markdown": "1. 34\n2. 349\n3. 432\n\n\n",
            "text/latex": "\\begin{enumerate*}\n\\item 34\n\\item 349\n\\item 432\n\\end{enumerate*}\n",
            "text/plain": [
              "[1]  34 349 432"
            ]
          },
          "metadata": {}
        }
      ]
    },
    {
      "cell_type": "code",
      "source": [
        "# 1부터 5번째 값을 추출\n",
        "temp[c(1:5)]"
      ],
      "metadata": {
        "colab": {
          "base_uri": "https://localhost:8080/",
          "height": 34
        },
        "id": "FfcENMTrFHTI",
        "outputId": "2a872133-ff93-45a6-c170-9f104a9d95d1"
      },
      "execution_count": 38,
      "outputs": [
        {
          "output_type": "display_data",
          "data": {
            "text/html": [
              "<style>\n",
              ".list-inline {list-style: none; margin:0; padding: 0}\n",
              ".list-inline>li {display: inline-block}\n",
              ".list-inline>li:not(:last-child)::after {content: \"\\00b7\"; padding: 0 .5ex}\n",
              "</style>\n",
              "<ol class=list-inline><li>34</li><li>349</li><li>432</li><li>102</li><li>206</li></ol>\n"
            ],
            "text/markdown": "1. 34\n2. 349\n3. 432\n4. 102\n5. 206\n\n\n",
            "text/latex": "\\begin{enumerate*}\n\\item 34\n\\item 349\n\\item 432\n\\item 102\n\\item 206\n\\end{enumerate*}\n",
            "text/plain": [
              "[1]  34 349 432 102 206"
            ]
          },
          "metadata": {}
        }
      ]
    },
    {
      "cell_type": "code",
      "source": [
        "# 1부터 98번째 값을 제외한 추출 99,100번째가 추출됨 -를 붙이면 범위가 제외된다.\n",
        "temp[-c(1:98)]"
      ],
      "metadata": {
        "colab": {
          "base_uri": "https://localhost:8080/",
          "height": 34
        },
        "id": "FM_zmPrTFMZB",
        "outputId": "2cf6b32f-3955-4da2-dd7e-6f0eba37c684"
      },
      "execution_count": 39,
      "outputs": [
        {
          "output_type": "display_data",
          "data": {
            "text/html": [
              "<style>\n",
              ".list-inline {list-style: none; margin:0; padding: 0}\n",
              ".list-inline>li {display: inline-block}\n",
              ".list-inline>li:not(:last-child)::after {content: \"\\00b7\"; padding: 0 .5ex}\n",
              "</style>\n",
              "<ol class=list-inline><li>127</li><li>723</li></ol>\n"
            ],
            "text/markdown": "1. 127\n2. 723\n\n\n",
            "text/latex": "\\begin{enumerate*}\n\\item 127\n\\item 723\n\\end{enumerate*}\n",
            "text/plain": [
              "[1] 127 723"
            ]
          },
          "metadata": {}
        }
      ]
    },
    {
      "cell_type": "code",
      "source": [
        "#처음 6개의 값 숫자를 안주면 기본이 6개임\n",
        "head(temp)"
      ],
      "metadata": {
        "colab": {
          "base_uri": "https://localhost:8080/",
          "height": 34
        },
        "id": "dfpBZmaJFYuT",
        "outputId": "0737a958-e9a7-4399-c1ae-54e51a7d4597"
      },
      "execution_count": 40,
      "outputs": [
        {
          "output_type": "display_data",
          "data": {
            "text/html": [
              "<style>\n",
              ".list-inline {list-style: none; margin:0; padding: 0}\n",
              ".list-inline>li {display: inline-block}\n",
              ".list-inline>li:not(:last-child)::after {content: \"\\00b7\"; padding: 0 .5ex}\n",
              "</style>\n",
              "<ol class=list-inline><li>34</li><li>349</li><li>432</li><li>102</li><li>206</li><li>943</li></ol>\n"
            ],
            "text/markdown": "1. 34\n2. 349\n3. 432\n4. 102\n5. 206\n6. 943\n\n\n",
            "text/latex": "\\begin{enumerate*}\n\\item 34\n\\item 349\n\\item 432\n\\item 102\n\\item 206\n\\item 943\n\\end{enumerate*}\n",
            "text/plain": [
              "[1]  34 349 432 102 206 943"
            ]
          },
          "metadata": {}
        }
      ]
    },
    {
      "cell_type": "code",
      "source": [
        "#끝 6개의 값 숫자를 안주면 기본이 6개임\n",
        "tail(temp)"
      ],
      "metadata": {
        "colab": {
          "base_uri": "https://localhost:8080/",
          "height": 34
        },
        "id": "zQIaZA87FzD0",
        "outputId": "3b77a5c4-bcdf-456a-a17e-9f018145c3cb"
      },
      "execution_count": 41,
      "outputs": [
        {
          "output_type": "display_data",
          "data": {
            "text/html": [
              "<style>\n",
              ".list-inline {list-style: none; margin:0; padding: 0}\n",
              ".list-inline>li {display: inline-block}\n",
              ".list-inline>li:not(:last-child)::after {content: \"\\00b7\"; padding: 0 .5ex}\n",
              "</style>\n",
              "<ol class=list-inline><li>222</li><li>893</li><li>945</li><li>899</li><li>127</li><li>723</li></ol>\n"
            ],
            "text/markdown": "1. 222\n2. 893\n3. 945\n4. 899\n5. 127\n6. 723\n\n\n",
            "text/latex": "\\begin{enumerate*}\n\\item 222\n\\item 893\n\\item 945\n\\item 899\n\\item 127\n\\item 723\n\\end{enumerate*}\n",
            "text/plain": [
              "[1] 222 893 945 899 127 723"
            ]
          },
          "metadata": {}
        }
      ]
    }
  ]
}