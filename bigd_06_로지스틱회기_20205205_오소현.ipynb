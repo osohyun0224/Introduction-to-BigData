{
  "nbformat": 4,
  "nbformat_minor": 0,
  "metadata": {
    "colab": {
      "provenance": [],
      "gpuType": "T4",
      "authorship_tag": "ABX9TyPBxf4+nqDI44K4CNpRickN",
      "include_colab_link": true
    },
    "kernelspec": {
      "name": "ir",
      "display_name": "R"
    },
    "language_info": {
      "name": "R"
    },
    "accelerator": "GPU"
  },
  "cells": [
    {
      "cell_type": "markdown",
      "metadata": {
        "id": "view-in-github",
        "colab_type": "text"
      },
      "source": [
        "<a href=\"https://colab.research.google.com/github/osohyun0224/Introduction-to-BigData/blob/master/bigd_06_%EB%A1%9C%EC%A7%80%EC%8A%A4%ED%8B%B1%ED%9A%8C%EA%B8%B0_20205205_%EC%98%A4%EC%86%8C%ED%98%84.ipynb\" target=\"_parent\"><img src=\"https://colab.research.google.com/assets/colab-badge.svg\" alt=\"Open In Colab\"/></a>"
      ]
    },
    {
      "cell_type": "markdown",
      "source": [
        "# 1번문제"
      ],
      "metadata": {
        "id": "vWmXVAfm86f9"
      }
    },
    {
      "cell_type": "code",
      "execution_count": 2,
      "metadata": {
        "colab": {
          "base_uri": "https://localhost:8080/"
        },
        "id": "6r3TF4-Z8u14",
        "outputId": "440fbe79-0787-4a0c-bc85-0eb3395586c0"
      },
      "outputs": [
        {
          "output_type": "stream",
          "name": "stderr",
          "text": [
            "Installing packages into ‘/usr/local/lib/R/site-library’\n",
            "(as ‘lib’ is unspecified)\n",
            "\n"
          ]
        }
      ],
      "source": [
        "install.packages(c(\"tidyverse\",\"data.table\",\"caret\",\"e1071\", \"Hmisc\"))\n",
        "library(tidyverse)\n",
        "library(data.table)\n",
        "options(repr.plot.width=10, repr.plot.height=10)"
      ]
    },
    {
      "cell_type": "code",
      "source": [
        "#https://drive.google.com/file/d/1jiS08cId0B2VbILeku_YZqSrVhvc2bEM/view?usp=share_link\n",
        "\n",
        "system(\"gdown --id 1jiS08cId0B2VbILeku_YZqSrVhvc2bEM\")\n",
        "system(\"ls\", TRUE)\n"
      ],
      "metadata": {
        "colab": {
          "base_uri": "https://localhost:8080/",
          "height": 34
        },
        "id": "gttATDk0B68I",
        "outputId": "e09c0a0a-164c-4876-ddc1-4f83b682e26b"
      },
      "execution_count": 3,
      "outputs": [
        {
          "output_type": "display_data",
          "data": {
            "text/html": [
              "<style>\n",
              ".list-inline {list-style: none; margin:0; padding: 0}\n",
              ".list-inline>li {display: inline-block}\n",
              ".list-inline>li:not(:last-child)::after {content: \"\\00b7\"; padding: 0 .5ex}\n",
              "</style>\n",
              "<ol class=list-inline><li>'sample_data'</li><li>'titanic_train.csv'</li></ol>\n"
            ],
            "text/markdown": "1. 'sample_data'\n2. 'titanic_train.csv'\n\n\n",
            "text/latex": "\\begin{enumerate*}\n\\item 'sample\\_data'\n\\item 'titanic\\_train.csv'\n\\end{enumerate*}\n",
            "text/plain": [
              "[1] \"sample_data\"       \"titanic_train.csv\""
            ]
          },
          "metadata": {}
        }
      ]
    },
    {
      "cell_type": "markdown",
      "source": [
        "# 2번문제"
      ],
      "metadata": {
        "id": "ikDsZPVmC-lA"
      }
    },
    {
      "cell_type": "code",
      "source": [
        "DF <- fread(\"/content/titanic_train.csv\", header =T, encoding =\"UTF-8\") %>% as_tibble\n",
        "DF %>% show()"
      ],
      "metadata": {
        "colab": {
          "base_uri": "https://localhost:8080/"
        },
        "id": "KrKPp8BuCX0c",
        "outputId": "a8f4eb81-1eb8-47a8-d11e-45e09af726cd"
      },
      "execution_count": 4,
      "outputs": [
        {
          "output_type": "stream",
          "name": "stdout",
          "text": [
            "\u001b[90m# A tibble: 891 × 12\u001b[39m\n",
            "   PassengerId Survived Pclass Name   Sex     Age SibSp Parch Ticket  Fare Cabin\n",
            "         \u001b[3m\u001b[90m<int>\u001b[39m\u001b[23m    \u001b[3m\u001b[90m<int>\u001b[39m\u001b[23m  \u001b[3m\u001b[90m<int>\u001b[39m\u001b[23m \u001b[3m\u001b[90m<chr>\u001b[39m\u001b[23m  \u001b[3m\u001b[90m<chr>\u001b[39m\u001b[23m \u001b[3m\u001b[90m<dbl>\u001b[39m\u001b[23m \u001b[3m\u001b[90m<int>\u001b[39m\u001b[23m \u001b[3m\u001b[90m<int>\u001b[39m\u001b[23m \u001b[3m\u001b[90m<chr>\u001b[39m\u001b[23m  \u001b[3m\u001b[90m<dbl>\u001b[39m\u001b[23m \u001b[3m\u001b[90m<chr>\u001b[39m\u001b[23m\n",
            "\u001b[90m 1\u001b[39m           1        0      3 Braun… male     22     1     0 A/5 2…  7.25 \u001b[90m\"\u001b[39m\u001b[90m\"\u001b[39m   \n",
            "\u001b[90m 2\u001b[39m           2        1      1 Cumin… fema…    38     1     0 PC 17… 71.3  \u001b[90m\"\u001b[39mC85\u001b[90m\"\u001b[39m\n",
            "\u001b[90m 3\u001b[39m           3        1      3 Heikk… fema…    26     0     0 STON/…  7.92 \u001b[90m\"\u001b[39m\u001b[90m\"\u001b[39m   \n",
            "\u001b[90m 4\u001b[39m           4        1      1 Futre… fema…    35     1     0 113803 53.1  \u001b[90m\"\u001b[39mC12…\n",
            "\u001b[90m 5\u001b[39m           5        0      3 Allen… male     35     0     0 373450  8.05 \u001b[90m\"\u001b[39m\u001b[90m\"\u001b[39m   \n",
            "\u001b[90m 6\u001b[39m           6        0      3 Moran… male     \u001b[31mNA\u001b[39m     0     0 330877  8.46 \u001b[90m\"\u001b[39m\u001b[90m\"\u001b[39m   \n",
            "\u001b[90m 7\u001b[39m           7        0      1 McCar… male     54     0     0 17463  51.9  \u001b[90m\"\u001b[39mE46\u001b[90m\"\u001b[39m\n",
            "\u001b[90m 8\u001b[39m           8        0      3 Palss… male      2     3     1 349909 21.1  \u001b[90m\"\u001b[39m\u001b[90m\"\u001b[39m   \n",
            "\u001b[90m 9\u001b[39m           9        1      3 Johns… fema…    27     0     2 347742 11.1  \u001b[90m\"\u001b[39m\u001b[90m\"\u001b[39m   \n",
            "\u001b[90m10\u001b[39m          10        1      2 Nasse… fema…    14     1     0 237736 30.1  \u001b[90m\"\u001b[39m\u001b[90m\"\u001b[39m   \n",
            "\u001b[90m# ℹ 881 more rows\u001b[39m\n",
            "\u001b[90m# ℹ 1 more variable: Embarked <chr>\u001b[39m\n"
          ]
        }
      ]
    },
    {
      "cell_type": "code",
      "source": [
        "DF %>% str()"
      ],
      "metadata": {
        "colab": {
          "base_uri": "https://localhost:8080/"
        },
        "id": "TWhm15upDFhe",
        "outputId": "1754796f-3dd0-43b5-bd39-cdbf05261347"
      },
      "execution_count": 5,
      "outputs": [
        {
          "output_type": "stream",
          "name": "stdout",
          "text": [
            "tibble [891 × 12] (S3: tbl_df/tbl/data.frame)\n",
            " $ PassengerId: int [1:891] 1 2 3 4 5 6 7 8 9 10 ...\n",
            " $ Survived   : int [1:891] 0 1 1 1 0 0 0 0 1 1 ...\n",
            " $ Pclass     : int [1:891] 3 1 3 1 3 3 1 3 3 2 ...\n",
            " $ Name       : chr [1:891] \"Braund, Mr. Owen Harris\" \"Cumings, Mrs. John Bradley (Florence Briggs Thayer)\" \"Heikkinen, Miss. Laina\" \"Futrelle, Mrs. Jacques Heath (Lily May Peel)\" ...\n",
            " $ Sex        : chr [1:891] \"male\" \"female\" \"female\" \"female\" ...\n",
            " $ Age        : num [1:891] 22 38 26 35 35 NA 54 2 27 14 ...\n",
            " $ SibSp      : int [1:891] 1 1 0 1 0 0 0 3 0 1 ...\n",
            " $ Parch      : int [1:891] 0 0 0 0 0 0 0 1 2 0 ...\n",
            " $ Ticket     : chr [1:891] \"A/5 21171\" \"PC 17599\" \"STON/O2. 3101282\" \"113803\" ...\n",
            " $ Fare       : num [1:891] 7.25 71.28 7.92 53.1 8.05 ...\n",
            " $ Cabin      : chr [1:891] \"\" \"C85\" \"\" \"C123\" ...\n",
            " $ Embarked   : chr [1:891] \"S\" \"C\" \"S\" \"S\" ...\n",
            " - attr(*, \".internal.selfref\")=<externalptr> \n"
          ]
        }
      ]
    },
    {
      "cell_type": "code",
      "source": [
        "#범주형 변수 확인\n",
        "DF$Survived %>% unique() #Survived : 생존=1, 죽음=0\n",
        "DF$Pclass %>% unique() #Pclass : 승객 등급. 1등급=1, 2등급=2, 3등급=3\n",
        "DF$Sex %>% unique() #Sex : \"male\" \"female\"\n",
        "DF$Ticket %>% unique() #Ticket : 티켓 번호\n",
        "DF$Embarked %>% unique() #탑승장소 S=Southhampton, C=Cherbourg, Q=Queenstown"
      ],
      "metadata": {
        "colab": {
          "base_uri": "https://localhost:8080/",
          "height": 468
        },
        "id": "7X37YqvMDKsD",
        "outputId": "9c4ce89a-884c-46b5-97bb-38b71419effe"
      },
      "execution_count": 6,
      "outputs": [
        {
          "output_type": "display_data",
          "data": {
            "text/html": [
              "<style>\n",
              ".list-inline {list-style: none; margin:0; padding: 0}\n",
              ".list-inline>li {display: inline-block}\n",
              ".list-inline>li:not(:last-child)::after {content: \"\\00b7\"; padding: 0 .5ex}\n",
              "</style>\n",
              "<ol class=list-inline><li>0</li><li>1</li></ol>\n"
            ],
            "text/markdown": "1. 0\n2. 1\n\n\n",
            "text/latex": "\\begin{enumerate*}\n\\item 0\n\\item 1\n\\end{enumerate*}\n",
            "text/plain": [
              "[1] 0 1"
            ]
          },
          "metadata": {}
        },
        {
          "output_type": "display_data",
          "data": {
            "text/html": [
              "<style>\n",
              ".list-inline {list-style: none; margin:0; padding: 0}\n",
              ".list-inline>li {display: inline-block}\n",
              ".list-inline>li:not(:last-child)::after {content: \"\\00b7\"; padding: 0 .5ex}\n",
              "</style>\n",
              "<ol class=list-inline><li>3</li><li>1</li><li>2</li></ol>\n"
            ],
            "text/markdown": "1. 3\n2. 1\n3. 2\n\n\n",
            "text/latex": "\\begin{enumerate*}\n\\item 3\n\\item 1\n\\item 2\n\\end{enumerate*}\n",
            "text/plain": [
              "[1] 3 1 2"
            ]
          },
          "metadata": {}
        },
        {
          "output_type": "display_data",
          "data": {
            "text/html": [
              "<style>\n",
              ".list-inline {list-style: none; margin:0; padding: 0}\n",
              ".list-inline>li {display: inline-block}\n",
              ".list-inline>li:not(:last-child)::after {content: \"\\00b7\"; padding: 0 .5ex}\n",
              "</style>\n",
              "<ol class=list-inline><li>'male'</li><li>'female'</li></ol>\n"
            ],
            "text/markdown": "1. 'male'\n2. 'female'\n\n\n",
            "text/latex": "\\begin{enumerate*}\n\\item 'male'\n\\item 'female'\n\\end{enumerate*}\n",
            "text/plain": [
              "[1] \"male\"   \"female\""
            ]
          },
          "metadata": {}
        },
        {
          "output_type": "display_data",
          "data": {
            "text/html": [
              "<style>\n",
              ".list-inline {list-style: none; margin:0; padding: 0}\n",
              ".list-inline>li {display: inline-block}\n",
              ".list-inline>li:not(:last-child)::after {content: \"\\00b7\"; padding: 0 .5ex}\n",
              "</style>\n",
              "<ol class=list-inline><li>'A/5 21171'</li><li>'PC 17599'</li><li>'STON/O2. 3101282'</li><li>'113803'</li><li>'373450'</li><li>'330877'</li><li>'17463'</li><li>'349909'</li><li>'347742'</li><li>'237736'</li><li>'PP 9549'</li><li>'113783'</li><li>'A/5. 2151'</li><li>'347082'</li><li>'350406'</li><li>'248706'</li><li>'382652'</li><li>'244373'</li><li>'345763'</li><li>'2649'</li><li>'239865'</li><li>'248698'</li><li>'330923'</li><li>'113788'</li><li>'347077'</li><li>'2631'</li><li>'19950'</li><li>'330959'</li><li>'349216'</li><li>'PC 17601'</li><li>'PC 17569'</li><li>'335677'</li><li>'C.A. 24579'</li><li>'PC 17604'</li><li>'113789'</li><li>'2677'</li><li>'A./5. 2152'</li><li>'345764'</li><li>'2651'</li><li>'7546'</li><li>'11668'</li><li>'349253'</li><li>'SC/Paris 2123'</li><li>'330958'</li><li>'S.C./A.4. 23567'</li><li>'370371'</li><li>'14311'</li><li>'2662'</li><li>'349237'</li><li>'3101295'</li><li>'A/4. 39886'</li><li>'PC 17572'</li><li>'2926'</li><li>'113509'</li><li>'19947'</li><li>'C.A. 31026'</li><li>'2697'</li><li>'C.A. 34651'</li><li>'CA 2144'</li><li>'2669'</li><li>'113572'</li><li>'36973'</li><li>'347088'</li><li>'PC 17605'</li><li>'2661'</li><li>'C.A. 29395'</li><li>'S.P. 3464'</li><li>'3101281'</li><li>'315151'</li><li>'C.A. 33111'</li><li>'S.O.C. 14879'</li><li>'2680'</li><li>'1601'</li><li>'348123'</li><li>'349208'</li><li>'374746'</li><li>'248738'</li><li>'364516'</li><li>'345767'</li><li>'345779'</li><li>'330932'</li><li>'113059'</li><li>'SO/C 14885'</li><li>'3101278'</li><li>'W./C. 6608'</li><li>'SOTON/OQ 392086'</li><li>'343275'</li><li>'343276'</li><li>'347466'</li><li>'W.E.P. 5734'</li><li>'C.A. 2315'</li><li>'364500'</li><li>'374910'</li><li>'PC 17754'</li><li>'PC 17759'</li><li>'231919'</li><li>'244367'</li><li>'349245'</li><li>'349215'</li><li>'35281'</li><li>'7540'</li><li>'3101276'</li><li>'349207'</li><li>'343120'</li><li>'312991'</li><li>'349249'</li><li>'371110'</li><li>'110465'</li><li>'2665'</li><li>'324669'</li><li>'4136'</li><li>'2627'</li><li>'STON/O 2. 3101294'</li><li>'370369'</li><li>'PC 17558'</li><li>'A4. 54510'</li><li>'27267'</li><li>'370372'</li><li>'C 17369'</li><li>'2668'</li><li>'347061'</li><li>'349241'</li><li>'SOTON/O.Q. 3101307'</li><li>'A/5. 3337'</li><li>'228414'</li><li>'C.A. 29178'</li><li>'SC/PARIS 2133'</li><li>'11752'</li><li>'7534'</li><li>'PC 17593'</li><li>'2678'</li><li>'347081'</li><li>'STON/O2. 3101279'</li><li>'365222'</li><li>'231945'</li><li>'C.A. 33112'</li><li>'350043'</li><li>'230080'</li><li>'244310'</li><li>'S.O.P. 1166'</li><li>'113776'</li><li>'A.5. 11206'</li><li>'A/5. 851'</li><li>'Fa 265302'</li><li>'PC 17597'</li><li>'35851'</li><li>'SOTON/OQ 392090'</li><li>'315037'</li><li>'CA. 2343'</li><li>'371362'</li><li>'C.A. 33595'</li><li>'347068'</li><li>'315093'</li><li>'363291'</li><li>'113505'</li><li>'PC 17318'</li><li>'111240'</li><li>'STON/O 2. 3101280'</li><li>'17764'</li><li>'350404'</li><li>'4133'</li><li>'PC 17595'</li><li>'250653'</li><li>'LINE'</li><li>'SC/PARIS 2131'</li><li>'230136'</li><li>'315153'</li><li>'113767'</li><li>'370365'</li><li>'111428'</li><li>'364849'</li><li>'349247'</li><li>'234604'</li><li>'28424'</li><li>'350046'</li><li>'PC 17610'</li><li>'368703'</li><li>'4579'</li><li>'370370'</li><li>'248747'</li><li>'345770'</li><li>'3101264'</li><li>'2628'</li><li>'A/5 3540'</li><li>'347054'</li><li>'2699'</li><li>'367231'</li><li>'112277'</li><li>'SOTON/O.Q. 3101311'</li><li>'F.C.C. 13528'</li><li>'A/5 21174'</li><li>'250646'</li><li>'367229'</li><li>'35273'</li><li>'STON/O2. 3101283'</li><li>'243847'</li><li>'11813'</li><li>'W/C 14208'</li><li>'SOTON/OQ 392089'</li><li>'220367'</li><li>⋯</li><li>'13049'</li><li>'3411'</li><li>'237565'</li><li>'13567'</li><li>'14973'</li><li>'A./5. 3235'</li><li>'STON/O 2. 3101273'</li><li>'A/5 3902'</li><li>'364848'</li><li>'SC/AH 29037'</li><li>'248727'</li><li>'2664'</li><li>'349214'</li><li>'113796'</li><li>'364511'</li><li>'111426'</li><li>'349910'</li><li>'349246'</li><li>'113804'</li><li>'SOTON/O.Q. 3101305'</li><li>'370377'</li><li>'364512'</li><li>'220845'</li><li>'31028'</li><li>'2659'</li><li>'11753'</li><li>'350029'</li><li>'54636'</li><li>'36963'</li><li>'219533'</li><li>'349224'</li><li>'334912'</li><li>'27042'</li><li>'347743'</li><li>'13214'</li><li>'112052'</li><li>'237668'</li><li>'STON/O 2. 3101292'</li><li>'350050'</li><li>'349231'</li><li>'13213'</li><li>'S.O./P.P. 751'</li><li>'CA. 2314'</li><li>'349221'</li><li>'8475'</li><li>'330919'</li><li>'365226'</li><li>'349223'</li><li>'29751'</li><li>'2623'</li><li>'5727'</li><li>'349210'</li><li>'STON/O 2. 3101285'</li><li>'234686'</li><li>'312993'</li><li>'A/5 3536'</li><li>'19996'</li><li>'29750'</li><li>'F.C. 12750'</li><li>'C.A. 24580'</li><li>'244270'</li><li>'239856'</li><li>'349912'</li><li>'342826'</li><li>'4138'</li><li>'330935'</li><li>'6563'</li><li>'349228'</li><li>'350036'</li><li>'24160'</li><li>'17474'</li><li>'349256'</li><li>'2672'</li><li>'113800'</li><li>'248731'</li><li>'363592'</li><li>'35852'</li><li>'348121'</li><li>'PC 17475'</li><li>'36864'</li><li>'350025'</li><li>'223596'</li><li>'PC 17476'</li><li>'PC 17482'</li><li>'113028'</li><li>'7545'</li><li>'250647'</li><li>'348124'</li><li>'34218'</li><li>'36568'</li><li>'347062'</li><li>'350048'</li><li>'12233'</li><li>'250643'</li><li>'113806'</li><li>'315094'</li><li>'36866'</li><li>'236853'</li><li>'STON/O2. 3101271'</li><li>'239855'</li><li>'28425'</li><li>'233639'</li><li>'349201'</li><li>'349218'</li><li>'16988'</li><li>'376566'</li><li>'STON/O 2. 3101288'</li><li>'250648'</li><li>'113773'</li><li>'335097'</li><li>'29103'</li><li>'392096'</li><li>'345780'</li><li>'349204'</li><li>'350042'</li><li>'29108'</li><li>'363294'</li><li>'SOTON/O2 3101272'</li><li>'2663'</li><li>'347074'</li><li>'112379'</li><li>'364850'</li><li>'8471'</li><li>'345781'</li><li>'350047'</li><li>'S.O./P.P. 3'</li><li>'2674'</li><li>'29105'</li><li>'347078'</li><li>'383121'</li><li>'36865'</li><li>'2687'</li><li>'113501'</li><li>'W./C. 6607'</li><li>'SOTON/O.Q. 3101312'</li><li>'374887'</li><li>'3101265'</li><li>'12460'</li><li>'PC 17600'</li><li>'349203'</li><li>'28213'</li><li>'17465'</li><li>'349244'</li><li>'2685'</li><li>'2625'</li><li>'347089'</li><li>'347063'</li><li>'112050'</li><li>'347087'</li><li>'248723'</li><li>'3474'</li><li>'28206'</li><li>'364499'</li><li>'112058'</li><li>'STON/O2. 3101290'</li><li>'S.C./PARIS 2079'</li><li>'C 7075'</li><li>'315098'</li><li>'19972'</li><li>'368323'</li><li>'367228'</li><li>'2671'</li><li>'347468'</li><li>'2223'</li><li>'PC 17756'</li><li>'315097'</li><li>'392092'</li><li>'11774'</li><li>'SOTON/O2 3101287'</li><li>'2683'</li><li>'315090'</li><li>'C.A. 5547'</li><li>'349213'</li><li>'347060'</li><li>'PC 17592'</li><li>'392091'</li><li>'113055'</li><li>'2629'</li><li>'350026'</li><li>'28134'</li><li>'17466'</li><li>'233866'</li><li>'236852'</li><li>'SC/PARIS 2149'</li><li>'PC 17590'</li><li>'345777'</li><li>'349248'</li><li>'695'</li><li>'345765'</li><li>'2667'</li><li>'349212'</li><li>'349217'</li><li>'349257'</li><li>'7552'</li><li>'C.A./SOTON 34068'</li><li>'SOTON/OQ 392076'</li><li>'211536'</li><li>'112053'</li><li>'111369'</li><li>'370376'</li></ol>\n"
            ],
            "text/markdown": "1. 'A/5 21171'\n2. 'PC 17599'\n3. 'STON/O2. 3101282'\n4. '113803'\n5. '373450'\n6. '330877'\n7. '17463'\n8. '349909'\n9. '347742'\n10. '237736'\n11. 'PP 9549'\n12. '113783'\n13. 'A/5. 2151'\n14. '347082'\n15. '350406'\n16. '248706'\n17. '382652'\n18. '244373'\n19. '345763'\n20. '2649'\n21. '239865'\n22. '248698'\n23. '330923'\n24. '113788'\n25. '347077'\n26. '2631'\n27. '19950'\n28. '330959'\n29. '349216'\n30. 'PC 17601'\n31. 'PC 17569'\n32. '335677'\n33. 'C.A. 24579'\n34. 'PC 17604'\n35. '113789'\n36. '2677'\n37. 'A./5. 2152'\n38. '345764'\n39. '2651'\n40. '7546'\n41. '11668'\n42. '349253'\n43. 'SC/Paris 2123'\n44. '330958'\n45. 'S.C./A.4. 23567'\n46. '370371'\n47. '14311'\n48. '2662'\n49. '349237'\n50. '3101295'\n51. 'A/4. 39886'\n52. 'PC 17572'\n53. '2926'\n54. '113509'\n55. '19947'\n56. 'C.A. 31026'\n57. '2697'\n58. 'C.A. 34651'\n59. 'CA 2144'\n60. '2669'\n61. '113572'\n62. '36973'\n63. '347088'\n64. 'PC 17605'\n65. '2661'\n66. 'C.A. 29395'\n67. 'S.P. 3464'\n68. '3101281'\n69. '315151'\n70. 'C.A. 33111'\n71. 'S.O.C. 14879'\n72. '2680'\n73. '1601'\n74. '348123'\n75. '349208'\n76. '374746'\n77. '248738'\n78. '364516'\n79. '345767'\n80. '345779'\n81. '330932'\n82. '113059'\n83. 'SO/C 14885'\n84. '3101278'\n85. 'W./C. 6608'\n86. 'SOTON/OQ 392086'\n87. '343275'\n88. '343276'\n89. '347466'\n90. 'W.E.P. 5734'\n91. 'C.A. 2315'\n92. '364500'\n93. '374910'\n94. 'PC 17754'\n95. 'PC 17759'\n96. '231919'\n97. '244367'\n98. '349245'\n99. '349215'\n100. '35281'\n101. '7540'\n102. '3101276'\n103. '349207'\n104. '343120'\n105. '312991'\n106. '349249'\n107. '371110'\n108. '110465'\n109. '2665'\n110. '324669'\n111. '4136'\n112. '2627'\n113. 'STON/O 2. 3101294'\n114. '370369'\n115. 'PC 17558'\n116. 'A4. 54510'\n117. '27267'\n118. '370372'\n119. 'C 17369'\n120. '2668'\n121. '347061'\n122. '349241'\n123. 'SOTON/O.Q. 3101307'\n124. 'A/5. 3337'\n125. '228414'\n126. 'C.A. 29178'\n127. 'SC/PARIS 2133'\n128. '11752'\n129. '7534'\n130. 'PC 17593'\n131. '2678'\n132. '347081'\n133. 'STON/O2. 3101279'\n134. '365222'\n135. '231945'\n136. 'C.A. 33112'\n137. '350043'\n138. '230080'\n139. '244310'\n140. 'S.O.P. 1166'\n141. '113776'\n142. 'A.5. 11206'\n143. 'A/5. 851'\n144. 'Fa 265302'\n145. 'PC 17597'\n146. '35851'\n147. 'SOTON/OQ 392090'\n148. '315037'\n149. 'CA. 2343'\n150. '371362'\n151. 'C.A. 33595'\n152. '347068'\n153. '315093'\n154. '363291'\n155. '113505'\n156. 'PC 17318'\n157. '111240'\n158. 'STON/O 2. 3101280'\n159. '17764'\n160. '350404'\n161. '4133'\n162. 'PC 17595'\n163. '250653'\n164. 'LINE'\n165. 'SC/PARIS 2131'\n166. '230136'\n167. '315153'\n168. '113767'\n169. '370365'\n170. '111428'\n171. '364849'\n172. '349247'\n173. '234604'\n174. '28424'\n175. '350046'\n176. 'PC 17610'\n177. '368703'\n178. '4579'\n179. '370370'\n180. '248747'\n181. '345770'\n182. '3101264'\n183. '2628'\n184. 'A/5 3540'\n185. '347054'\n186. '2699'\n187. '367231'\n188. '112277'\n189. 'SOTON/O.Q. 3101311'\n190. 'F.C.C. 13528'\n191. 'A/5 21174'\n192. '250646'\n193. '367229'\n194. '35273'\n195. 'STON/O2. 3101283'\n196. '243847'\n197. '11813'\n198. 'W/C 14208'\n199. 'SOTON/OQ 392089'\n200. '220367'\n201. ⋯\n202. '13049'\n203. '3411'\n204. '237565'\n205. '13567'\n206. '14973'\n207. 'A./5. 3235'\n208. 'STON/O 2. 3101273'\n209. 'A/5 3902'\n210. '364848'\n211. 'SC/AH 29037'\n212. '248727'\n213. '2664'\n214. '349214'\n215. '113796'\n216. '364511'\n217. '111426'\n218. '349910'\n219. '349246'\n220. '113804'\n221. 'SOTON/O.Q. 3101305'\n222. '370377'\n223. '364512'\n224. '220845'\n225. '31028'\n226. '2659'\n227. '11753'\n228. '350029'\n229. '54636'\n230. '36963'\n231. '219533'\n232. '349224'\n233. '334912'\n234. '27042'\n235. '347743'\n236. '13214'\n237. '112052'\n238. '237668'\n239. 'STON/O 2. 3101292'\n240. '350050'\n241. '349231'\n242. '13213'\n243. 'S.O./P.P. 751'\n244. 'CA. 2314'\n245. '349221'\n246. '8475'\n247. '330919'\n248. '365226'\n249. '349223'\n250. '29751'\n251. '2623'\n252. '5727'\n253. '349210'\n254. 'STON/O 2. 3101285'\n255. '234686'\n256. '312993'\n257. 'A/5 3536'\n258. '19996'\n259. '29750'\n260. 'F.C. 12750'\n261. 'C.A. 24580'\n262. '244270'\n263. '239856'\n264. '349912'\n265. '342826'\n266. '4138'\n267. '330935'\n268. '6563'\n269. '349228'\n270. '350036'\n271. '24160'\n272. '17474'\n273. '349256'\n274. '2672'\n275. '113800'\n276. '248731'\n277. '363592'\n278. '35852'\n279. '348121'\n280. 'PC 17475'\n281. '36864'\n282. '350025'\n283. '223596'\n284. 'PC 17476'\n285. 'PC 17482'\n286. '113028'\n287. '7545'\n288. '250647'\n289. '348124'\n290. '34218'\n291. '36568'\n292. '347062'\n293. '350048'\n294. '12233'\n295. '250643'\n296. '113806'\n297. '315094'\n298. '36866'\n299. '236853'\n300. 'STON/O2. 3101271'\n301. '239855'\n302. '28425'\n303. '233639'\n304. '349201'\n305. '349218'\n306. '16988'\n307. '376566'\n308. 'STON/O 2. 3101288'\n309. '250648'\n310. '113773'\n311. '335097'\n312. '29103'\n313. '392096'\n314. '345780'\n315. '349204'\n316. '350042'\n317. '29108'\n318. '363294'\n319. 'SOTON/O2 3101272'\n320. '2663'\n321. '347074'\n322. '112379'\n323. '364850'\n324. '8471'\n325. '345781'\n326. '350047'\n327. 'S.O./P.P. 3'\n328. '2674'\n329. '29105'\n330. '347078'\n331. '383121'\n332. '36865'\n333. '2687'\n334. '113501'\n335. 'W./C. 6607'\n336. 'SOTON/O.Q. 3101312'\n337. '374887'\n338. '3101265'\n339. '12460'\n340. 'PC 17600'\n341. '349203'\n342. '28213'\n343. '17465'\n344. '349244'\n345. '2685'\n346. '2625'\n347. '347089'\n348. '347063'\n349. '112050'\n350. '347087'\n351. '248723'\n352. '3474'\n353. '28206'\n354. '364499'\n355. '112058'\n356. 'STON/O2. 3101290'\n357. 'S.C./PARIS 2079'\n358. 'C 7075'\n359. '315098'\n360. '19972'\n361. '368323'\n362. '367228'\n363. '2671'\n364. '347468'\n365. '2223'\n366. 'PC 17756'\n367. '315097'\n368. '392092'\n369. '11774'\n370. 'SOTON/O2 3101287'\n371. '2683'\n372. '315090'\n373. 'C.A. 5547'\n374. '349213'\n375. '347060'\n376. 'PC 17592'\n377. '392091'\n378. '113055'\n379. '2629'\n380. '350026'\n381. '28134'\n382. '17466'\n383. '233866'\n384. '236852'\n385. 'SC/PARIS 2149'\n386. 'PC 17590'\n387. '345777'\n388. '349248'\n389. '695'\n390. '345765'\n391. '2667'\n392. '349212'\n393. '349217'\n394. '349257'\n395. '7552'\n396. 'C.A./SOTON 34068'\n397. 'SOTON/OQ 392076'\n398. '211536'\n399. '112053'\n400. '111369'\n401. '370376'\n\n\n",
            "text/latex": "\\begin{enumerate*}\n\\item 'A/5 21171'\n\\item 'PC 17599'\n\\item 'STON/O2. 3101282'\n\\item '113803'\n\\item '373450'\n\\item '330877'\n\\item '17463'\n\\item '349909'\n\\item '347742'\n\\item '237736'\n\\item 'PP 9549'\n\\item '113783'\n\\item 'A/5. 2151'\n\\item '347082'\n\\item '350406'\n\\item '248706'\n\\item '382652'\n\\item '244373'\n\\item '345763'\n\\item '2649'\n\\item '239865'\n\\item '248698'\n\\item '330923'\n\\item '113788'\n\\item '347077'\n\\item '2631'\n\\item '19950'\n\\item '330959'\n\\item '349216'\n\\item 'PC 17601'\n\\item 'PC 17569'\n\\item '335677'\n\\item 'C.A. 24579'\n\\item 'PC 17604'\n\\item '113789'\n\\item '2677'\n\\item 'A./5. 2152'\n\\item '345764'\n\\item '2651'\n\\item '7546'\n\\item '11668'\n\\item '349253'\n\\item 'SC/Paris 2123'\n\\item '330958'\n\\item 'S.C./A.4. 23567'\n\\item '370371'\n\\item '14311'\n\\item '2662'\n\\item '349237'\n\\item '3101295'\n\\item 'A/4. 39886'\n\\item 'PC 17572'\n\\item '2926'\n\\item '113509'\n\\item '19947'\n\\item 'C.A. 31026'\n\\item '2697'\n\\item 'C.A. 34651'\n\\item 'CA 2144'\n\\item '2669'\n\\item '113572'\n\\item '36973'\n\\item '347088'\n\\item 'PC 17605'\n\\item '2661'\n\\item 'C.A. 29395'\n\\item 'S.P. 3464'\n\\item '3101281'\n\\item '315151'\n\\item 'C.A. 33111'\n\\item 'S.O.C. 14879'\n\\item '2680'\n\\item '1601'\n\\item '348123'\n\\item '349208'\n\\item '374746'\n\\item '248738'\n\\item '364516'\n\\item '345767'\n\\item '345779'\n\\item '330932'\n\\item '113059'\n\\item 'SO/C 14885'\n\\item '3101278'\n\\item 'W./C. 6608'\n\\item 'SOTON/OQ 392086'\n\\item '343275'\n\\item '343276'\n\\item '347466'\n\\item 'W.E.P. 5734'\n\\item 'C.A. 2315'\n\\item '364500'\n\\item '374910'\n\\item 'PC 17754'\n\\item 'PC 17759'\n\\item '231919'\n\\item '244367'\n\\item '349245'\n\\item '349215'\n\\item '35281'\n\\item '7540'\n\\item '3101276'\n\\item '349207'\n\\item '343120'\n\\item '312991'\n\\item '349249'\n\\item '371110'\n\\item '110465'\n\\item '2665'\n\\item '324669'\n\\item '4136'\n\\item '2627'\n\\item 'STON/O 2. 3101294'\n\\item '370369'\n\\item 'PC 17558'\n\\item 'A4. 54510'\n\\item '27267'\n\\item '370372'\n\\item 'C 17369'\n\\item '2668'\n\\item '347061'\n\\item '349241'\n\\item 'SOTON/O.Q. 3101307'\n\\item 'A/5. 3337'\n\\item '228414'\n\\item 'C.A. 29178'\n\\item 'SC/PARIS 2133'\n\\item '11752'\n\\item '7534'\n\\item 'PC 17593'\n\\item '2678'\n\\item '347081'\n\\item 'STON/O2. 3101279'\n\\item '365222'\n\\item '231945'\n\\item 'C.A. 33112'\n\\item '350043'\n\\item '230080'\n\\item '244310'\n\\item 'S.O.P. 1166'\n\\item '113776'\n\\item 'A.5. 11206'\n\\item 'A/5. 851'\n\\item 'Fa 265302'\n\\item 'PC 17597'\n\\item '35851'\n\\item 'SOTON/OQ 392090'\n\\item '315037'\n\\item 'CA. 2343'\n\\item '371362'\n\\item 'C.A. 33595'\n\\item '347068'\n\\item '315093'\n\\item '363291'\n\\item '113505'\n\\item 'PC 17318'\n\\item '111240'\n\\item 'STON/O 2. 3101280'\n\\item '17764'\n\\item '350404'\n\\item '4133'\n\\item 'PC 17595'\n\\item '250653'\n\\item 'LINE'\n\\item 'SC/PARIS 2131'\n\\item '230136'\n\\item '315153'\n\\item '113767'\n\\item '370365'\n\\item '111428'\n\\item '364849'\n\\item '349247'\n\\item '234604'\n\\item '28424'\n\\item '350046'\n\\item 'PC 17610'\n\\item '368703'\n\\item '4579'\n\\item '370370'\n\\item '248747'\n\\item '345770'\n\\item '3101264'\n\\item '2628'\n\\item 'A/5 3540'\n\\item '347054'\n\\item '2699'\n\\item '367231'\n\\item '112277'\n\\item 'SOTON/O.Q. 3101311'\n\\item 'F.C.C. 13528'\n\\item 'A/5 21174'\n\\item '250646'\n\\item '367229'\n\\item '35273'\n\\item 'STON/O2. 3101283'\n\\item '243847'\n\\item '11813'\n\\item 'W/C 14208'\n\\item 'SOTON/OQ 392089'\n\\item '220367'\n\\item ⋯\n\\item '13049'\n\\item '3411'\n\\item '237565'\n\\item '13567'\n\\item '14973'\n\\item 'A./5. 3235'\n\\item 'STON/O 2. 3101273'\n\\item 'A/5 3902'\n\\item '364848'\n\\item 'SC/AH 29037'\n\\item '248727'\n\\item '2664'\n\\item '349214'\n\\item '113796'\n\\item '364511'\n\\item '111426'\n\\item '349910'\n\\item '349246'\n\\item '113804'\n\\item 'SOTON/O.Q. 3101305'\n\\item '370377'\n\\item '364512'\n\\item '220845'\n\\item '31028'\n\\item '2659'\n\\item '11753'\n\\item '350029'\n\\item '54636'\n\\item '36963'\n\\item '219533'\n\\item '349224'\n\\item '334912'\n\\item '27042'\n\\item '347743'\n\\item '13214'\n\\item '112052'\n\\item '237668'\n\\item 'STON/O 2. 3101292'\n\\item '350050'\n\\item '349231'\n\\item '13213'\n\\item 'S.O./P.P. 751'\n\\item 'CA. 2314'\n\\item '349221'\n\\item '8475'\n\\item '330919'\n\\item '365226'\n\\item '349223'\n\\item '29751'\n\\item '2623'\n\\item '5727'\n\\item '349210'\n\\item 'STON/O 2. 3101285'\n\\item '234686'\n\\item '312993'\n\\item 'A/5 3536'\n\\item '19996'\n\\item '29750'\n\\item 'F.C. 12750'\n\\item 'C.A. 24580'\n\\item '244270'\n\\item '239856'\n\\item '349912'\n\\item '342826'\n\\item '4138'\n\\item '330935'\n\\item '6563'\n\\item '349228'\n\\item '350036'\n\\item '24160'\n\\item '17474'\n\\item '349256'\n\\item '2672'\n\\item '113800'\n\\item '248731'\n\\item '363592'\n\\item '35852'\n\\item '348121'\n\\item 'PC 17475'\n\\item '36864'\n\\item '350025'\n\\item '223596'\n\\item 'PC 17476'\n\\item 'PC 17482'\n\\item '113028'\n\\item '7545'\n\\item '250647'\n\\item '348124'\n\\item '34218'\n\\item '36568'\n\\item '347062'\n\\item '350048'\n\\item '12233'\n\\item '250643'\n\\item '113806'\n\\item '315094'\n\\item '36866'\n\\item '236853'\n\\item 'STON/O2. 3101271'\n\\item '239855'\n\\item '28425'\n\\item '233639'\n\\item '349201'\n\\item '349218'\n\\item '16988'\n\\item '376566'\n\\item 'STON/O 2. 3101288'\n\\item '250648'\n\\item '113773'\n\\item '335097'\n\\item '29103'\n\\item '392096'\n\\item '345780'\n\\item '349204'\n\\item '350042'\n\\item '29108'\n\\item '363294'\n\\item 'SOTON/O2 3101272'\n\\item '2663'\n\\item '347074'\n\\item '112379'\n\\item '364850'\n\\item '8471'\n\\item '345781'\n\\item '350047'\n\\item 'S.O./P.P. 3'\n\\item '2674'\n\\item '29105'\n\\item '347078'\n\\item '383121'\n\\item '36865'\n\\item '2687'\n\\item '113501'\n\\item 'W./C. 6607'\n\\item 'SOTON/O.Q. 3101312'\n\\item '374887'\n\\item '3101265'\n\\item '12460'\n\\item 'PC 17600'\n\\item '349203'\n\\item '28213'\n\\item '17465'\n\\item '349244'\n\\item '2685'\n\\item '2625'\n\\item '347089'\n\\item '347063'\n\\item '112050'\n\\item '347087'\n\\item '248723'\n\\item '3474'\n\\item '28206'\n\\item '364499'\n\\item '112058'\n\\item 'STON/O2. 3101290'\n\\item 'S.C./PARIS 2079'\n\\item 'C 7075'\n\\item '315098'\n\\item '19972'\n\\item '368323'\n\\item '367228'\n\\item '2671'\n\\item '347468'\n\\item '2223'\n\\item 'PC 17756'\n\\item '315097'\n\\item '392092'\n\\item '11774'\n\\item 'SOTON/O2 3101287'\n\\item '2683'\n\\item '315090'\n\\item 'C.A. 5547'\n\\item '349213'\n\\item '347060'\n\\item 'PC 17592'\n\\item '392091'\n\\item '113055'\n\\item '2629'\n\\item '350026'\n\\item '28134'\n\\item '17466'\n\\item '233866'\n\\item '236852'\n\\item 'SC/PARIS 2149'\n\\item 'PC 17590'\n\\item '345777'\n\\item '349248'\n\\item '695'\n\\item '345765'\n\\item '2667'\n\\item '349212'\n\\item '349217'\n\\item '349257'\n\\item '7552'\n\\item 'C.A./SOTON 34068'\n\\item 'SOTON/OQ 392076'\n\\item '211536'\n\\item '112053'\n\\item '111369'\n\\item '370376'\n\\end{enumerate*}\n",
            "text/plain": [
              "  [1] \"A/5 21171\"          \"PC 17599\"           \"STON/O2. 3101282\"  \n",
              "  [4] \"113803\"             \"373450\"             \"330877\"            \n",
              "  [7] \"17463\"              \"349909\"             \"347742\"            \n",
              " [10] \"237736\"             \"PP 9549\"            \"113783\"            \n",
              " [13] \"A/5. 2151\"          \"347082\"             \"350406\"            \n",
              " [16] \"248706\"             \"382652\"             \"244373\"            \n",
              " [19] \"345763\"             \"2649\"               \"239865\"            \n",
              " [22] \"248698\"             \"330923\"             \"113788\"            \n",
              " [25] \"347077\"             \"2631\"               \"19950\"             \n",
              " [28] \"330959\"             \"349216\"             \"PC 17601\"          \n",
              " [31] \"PC 17569\"           \"335677\"             \"C.A. 24579\"        \n",
              " [34] \"PC 17604\"           \"113789\"             \"2677\"              \n",
              " [37] \"A./5. 2152\"         \"345764\"             \"2651\"              \n",
              " [40] \"7546\"               \"11668\"              \"349253\"            \n",
              " [43] \"SC/Paris 2123\"      \"330958\"             \"S.C./A.4. 23567\"   \n",
              " [46] \"370371\"             \"14311\"              \"2662\"              \n",
              " [49] \"349237\"             \"3101295\"            \"A/4. 39886\"        \n",
              " [52] \"PC 17572\"           \"2926\"               \"113509\"            \n",
              " [55] \"19947\"              \"C.A. 31026\"         \"2697\"              \n",
              " [58] \"C.A. 34651\"         \"CA 2144\"            \"2669\"              \n",
              " [61] \"113572\"             \"36973\"              \"347088\"            \n",
              " [64] \"PC 17605\"           \"2661\"               \"C.A. 29395\"        \n",
              " [67] \"S.P. 3464\"          \"3101281\"            \"315151\"            \n",
              " [70] \"C.A. 33111\"         \"S.O.C. 14879\"       \"2680\"              \n",
              " [73] \"1601\"               \"348123\"             \"349208\"            \n",
              " [76] \"374746\"             \"248738\"             \"364516\"            \n",
              " [79] \"345767\"             \"345779\"             \"330932\"            \n",
              " [82] \"113059\"             \"SO/C 14885\"         \"3101278\"           \n",
              " [85] \"W./C. 6608\"         \"SOTON/OQ 392086\"    \"343275\"            \n",
              " [88] \"343276\"             \"347466\"             \"W.E.P. 5734\"       \n",
              " [91] \"C.A. 2315\"          \"364500\"             \"374910\"            \n",
              " [94] \"PC 17754\"           \"PC 17759\"           \"231919\"            \n",
              " [97] \"244367\"             \"349245\"             \"349215\"            \n",
              "[100] \"35281\"              \"7540\"               \"3101276\"           \n",
              "[103] \"349207\"             \"343120\"             \"312991\"            \n",
              "[106] \"349249\"             \"371110\"             \"110465\"            \n",
              "[109] \"2665\"               \"324669\"             \"4136\"              \n",
              "[112] \"2627\"               \"STON/O 2. 3101294\"  \"370369\"            \n",
              "[115] \"PC 17558\"           \"A4. 54510\"          \"27267\"             \n",
              "[118] \"370372\"             \"C 17369\"            \"2668\"              \n",
              "[121] \"347061\"             \"349241\"             \"SOTON/O.Q. 3101307\"\n",
              "[124] \"A/5. 3337\"          \"228414\"             \"C.A. 29178\"        \n",
              "[127] \"SC/PARIS 2133\"      \"11752\"              \"7534\"              \n",
              "[130] \"PC 17593\"           \"2678\"               \"347081\"            \n",
              "[133] \"STON/O2. 3101279\"   \"365222\"             \"231945\"            \n",
              "[136] \"C.A. 33112\"         \"350043\"             \"230080\"            \n",
              "[139] \"244310\"             \"S.O.P. 1166\"        \"113776\"            \n",
              "[142] \"A.5. 11206\"         \"A/5. 851\"           \"Fa 265302\"         \n",
              "[145] \"PC 17597\"           \"35851\"              \"SOTON/OQ 392090\"   \n",
              "[148] \"315037\"             \"CA. 2343\"           \"371362\"            \n",
              "[151] \"C.A. 33595\"         \"347068\"             \"315093\"            \n",
              "[154] \"363291\"             \"113505\"             \"PC 17318\"          \n",
              "[157] \"111240\"             \"STON/O 2. 3101280\"  \"17764\"             \n",
              "[160] \"350404\"             \"4133\"               \"PC 17595\"          \n",
              "[163] \"250653\"             \"LINE\"               \"SC/PARIS 2131\"     \n",
              "[166] \"230136\"             \"315153\"             \"113767\"            \n",
              "[169] \"370365\"             \"111428\"             \"364849\"            \n",
              "[172] \"349247\"             \"234604\"             \"28424\"             \n",
              "[175] \"350046\"             \"PC 17610\"           \"368703\"            \n",
              "[178] \"4579\"               \"370370\"             \"248747\"            \n",
              "[181] \"345770\"             \"3101264\"            \"2628\"              \n",
              "[184] \"A/5 3540\"           \"347054\"             \"2699\"              \n",
              "[187] \"367231\"             \"112277\"             \"SOTON/O.Q. 3101311\"\n",
              "[190] \"F.C.C. 13528\"       \"A/5 21174\"          \"250646\"            \n",
              "[193] \"367229\"             \"35273\"              \"STON/O2. 3101283\"  \n",
              "[196] \"243847\"             \"11813\"              \"W/C 14208\"         \n",
              "[199] \"SOTON/OQ 392089\"    \"220367\"             \"21440\"             \n",
              "[202] \"349234\"             \"19943\"              \"PP 4348\"           \n",
              "[205] \"SW/PP 751\"          \"A/5 21173\"          \"236171\"            \n",
              "[208] \"347067\"             \"237442\"             \"C.A. 29566\"        \n",
              "[211] \"W./C. 6609\"         \"26707\"              \"C.A. 31921\"        \n",
              "[214] \"28665\"              \"SCO/W 1585\"         \"367230\"            \n",
              "[217] \"W./C. 14263\"        \"STON/O 2. 3101275\"  \"2694\"              \n",
              "[220] \"19928\"              \"347071\"             \"250649\"            \n",
              "[223] \"11751\"              \"244252\"             \"362316\"            \n",
              "[226] \"113514\"             \"A/5. 3336\"          \"370129\"            \n",
              "[229] \"2650\"               \"PC 17585\"           \"110152\"            \n",
              "[232] \"PC 17755\"           \"230433\"             \"384461\"            \n",
              "[235] \"110413\"             \"112059\"             \"382649\"            \n",
              "[238] \"C.A. 17248\"         \"347083\"             \"PC 17582\"          \n",
              "[241] \"PC 17760\"           \"113798\"             \"250644\"            \n",
              "[244] \"PC 17596\"           \"370375\"             \"13502\"             \n",
              "[247] \"347073\"             \"239853\"             \"C.A. 2673\"         \n",
              "[250] \"336439\"             \"347464\"             \"345778\"            \n",
              "[253] \"A/5. 10482\"         \"113056\"             \"349239\"            \n",
              "[256] \"345774\"             \"349206\"             \"237798\"            \n",
              "[259] \"370373\"             \"19877\"              \"11967\"             \n",
              "[262] \"SC/Paris 2163\"      \"349236\"             \"349233\"            \n",
              "[265] \"PC 17612\"           \"2693\"               \"113781\"            \n",
              "[268] \"19988\"              \"9234\"               \"367226\"            \n",
              "[271] \"226593\"             \"A/5 2466\"           \"17421\"             \n",
              "[274] \"PC 17758\"           \"P/PP 3381\"          \"PC 17485\"          \n",
              "[277] \"11767\"              \"PC 17608\"           \"250651\"            \n",
              "[280] \"349243\"             \"F.C.C. 13529\"       \"347470\"            \n",
              "[283] \"29011\"              \"36928\"              \"16966\"             \n",
              "[286] \"A/5 21172\"          \"349219\"             \"234818\"            \n",
              "[289] \"345364\"             \"28551\"              \"111361\"            \n",
              "[292] \"113043\"             \"PC 17611\"           \"349225\"            \n",
              "[295] \"7598\"               \"113784\"             \"248740\"            \n",
              "[298] \"244361\"             \"229236\"             \"248733\"            \n",
              "[301] \"31418\"              \"386525\"             \"C.A. 37671\"        \n",
              "[304] \"315088\"             \"7267\"               \"113510\"            \n",
              "[307] \"2695\"               \"2647\"               \"345783\"            \n",
              "[310] \"237671\"             \"330931\"             \"330980\"            \n",
              "[313] \"SC/PARIS 2167\"      \"2691\"               \"SOTON/O.Q. 3101310\"\n",
              "[316] \"C 7076\"             \"110813\"             \"2626\"              \n",
              "[319] \"14313\"              \"PC 17477\"           \"11765\"             \n",
              "[322] \"3101267\"            \"323951\"             \"C 7077\"            \n",
              "[325] \"113503\"             \"2648\"               \"347069\"            \n",
              "[328] \"PC 17757\"           \"2653\"               \"STON/O 2. 3101293\" \n",
              "[331] \"349227\"             \"27849\"              \"367655\"            \n",
              "[334] \"SC 1748\"            \"113760\"             \"350034\"            \n",
              "[337] \"3101277\"            \"350052\"             \"350407\"            \n",
              "[340] \"28403\"              \"244278\"             \"240929\"            \n",
              "[343] \"STON/O 2. 3101289\"  \"341826\"             \"4137\"              \n",
              "[346] \"315096\"             \"28664\"              \"347064\"            \n",
              "[349] \"29106\"              \"312992\"             \"349222\"            \n",
              "[352] \"394140\"             \"STON/O 2. 3101269\"  \"343095\"            \n",
              "[355] \"28220\"              \"250652\"             \"28228\"             \n",
              "[358] \"345773\"             \"349254\"             \"A/5. 13032\"        \n",
              "[361] \"315082\"             \"347080\"             \"A/4. 34244\"        \n",
              "[364] \"2003\"               \"250655\"             \"364851\"            \n",
              "[367] \"SOTON/O.Q. 392078\"  \"110564\"             \"376564\"            \n",
              "[370] \"SC/AH 3085\"         \"STON/O 2. 3101274\"  \"13507\"             \n",
              "[373] \"C.A. 18723\"         \"345769\"             \"347076\"            \n",
              "[376] \"230434\"             \"65306\"              \"33638\"             \n",
              "[379] \"113794\"             \"2666\"               \"113786\"            \n",
              "[382] \"65303\"              \"113051\"             \"17453\"             \n",
              "[385] \"A/5 2817\"           \"349240\"             \"13509\"             \n",
              "[388] \"17464\"              \"F.C.C. 13531\"       \"371060\"            \n",
              "[391] \"19952\"              \"364506\"             \"111320\"            \n",
              "[394] \"234360\"             \"A/S 2816\"           \"SOTON/O.Q. 3101306\"\n",
              "[397] \"113792\"             \"36209\"              \"323592\"            \n",
              "[400] \"315089\"             \"SC/AH Basle 541\"    \"7553\"              \n",
              "[403] \"31027\"              \"3460\"               \"350060\"            \n",
              "[406] \"3101298\"            \"239854\"             \"A/5 3594\"          \n",
              "[409] \"4134\"               \"11771\"              \"A.5. 18509\"        \n",
              "[412] \"65304\"              \"SOTON/OQ 3101317\"   \"113787\"            \n",
              "[415] \"PC 17609\"           \"A/4 45380\"          \"36947\"             \n",
              "[418] \"C.A. 6212\"          \"350035\"             \"315086\"            \n",
              "[421] \"364846\"             \"330909\"             \"4135\"              \n",
              "[424] \"26360\"              \"111427\"             \"C 4001\"            \n",
              "[427] \"382651\"             \"SOTON/OQ 3101316\"   \"PC 17473\"          \n",
              "[430] \"PC 17603\"           \"349209\"             \"36967\"             \n",
              "[433] \"C.A. 34260\"         \"226875\"             \"349242\"            \n",
              "[436] \"12749\"              \"349252\"             \"2624\"              \n",
              "[439] \"2700\"               \"367232\"             \"W./C. 14258\"       \n",
              "[442] \"PC 17483\"           \"3101296\"            \"29104\"             \n",
              "[445] \"2641\"               \"2690\"               \"315084\"            \n",
              "[448] \"113050\"             \"PC 17761\"           \"364498\"            \n",
              "[451] \"13568\"              \"WE/P 5735\"          \"2908\"              \n",
              "[454] \"693\"                \"SC/PARIS 2146\"      \"244358\"            \n",
              "[457] \"330979\"             \"2620\"               \"347085\"            \n",
              "[460] \"113807\"             \"11755\"              \"345572\"            \n",
              "[463] \"372622\"             \"349251\"             \"218629\"            \n",
              "[466] \"SOTON/OQ 392082\"    \"SOTON/O.Q. 392087\"  \"A/4 48871\"         \n",
              "[469] \"349205\"             \"2686\"               \"350417\"            \n",
              "[472] \"S.W./PP 752\"        \"11769\"              \"PC 17474\"          \n",
              "[475] \"14312\"              \"A/4. 20589\"         \"358585\"            \n",
              "[478] \"243880\"             \"2689\"               \"STON/O 2. 3101286\" \n",
              "[481] \"237789\"             \"13049\"              \"3411\"              \n",
              "[484] \"237565\"             \"13567\"              \"14973\"             \n",
              "[487] \"A./5. 3235\"         \"STON/O 2. 3101273\"  \"A/5 3902\"          \n",
              "[490] \"364848\"             \"SC/AH 29037\"        \"248727\"            \n",
              "[493] \"2664\"               \"349214\"             \"113796\"            \n",
              "[496] \"364511\"             \"111426\"             \"349910\"            \n",
              "[499] \"349246\"             \"113804\"             \"SOTON/O.Q. 3101305\"\n",
              "[502] \"370377\"             \"364512\"             \"220845\"            \n",
              "[505] \"31028\"              \"2659\"               \"11753\"             \n",
              "[508] \"350029\"             \"54636\"              \"36963\"             \n",
              "[511] \"219533\"             \"349224\"             \"334912\"            \n",
              "[514] \"27042\"              \"347743\"             \"13214\"             \n",
              "[517] \"112052\"             \"237668\"             \"STON/O 2. 3101292\" \n",
              "[520] \"350050\"             \"349231\"             \"13213\"             \n",
              "[523] \"S.O./P.P. 751\"      \"CA. 2314\"           \"349221\"            \n",
              "[526] \"8475\"               \"330919\"             \"365226\"            \n",
              "[529] \"349223\"             \"29751\"              \"2623\"              \n",
              "[532] \"5727\"               \"349210\"             \"STON/O 2. 3101285\" \n",
              "[535] \"234686\"             \"312993\"             \"A/5 3536\"          \n",
              "[538] \"19996\"              \"29750\"              \"F.C. 12750\"        \n",
              "[541] \"C.A. 24580\"         \"244270\"             \"239856\"            \n",
              "[544] \"349912\"             \"342826\"             \"4138\"              \n",
              "[547] \"330935\"             \"6563\"               \"349228\"            \n",
              "[550] \"350036\"             \"24160\"              \"17474\"             \n",
              "[553] \"349256\"             \"2672\"               \"113800\"            \n",
              "[556] \"248731\"             \"363592\"             \"35852\"             \n",
              "[559] \"348121\"             \"PC 17475\"           \"36864\"             \n",
              "[562] \"350025\"             \"223596\"             \"PC 17476\"          \n",
              "[565] \"PC 17482\"           \"113028\"             \"7545\"              \n",
              "[568] \"250647\"             \"348124\"             \"34218\"             \n",
              "[571] \"36568\"              \"347062\"             \"350048\"            \n",
              "[574] \"12233\"              \"250643\"             \"113806\"            \n",
              "[577] \"315094\"             \"36866\"              \"236853\"            \n",
              "[580] \"STON/O2. 3101271\"   \"239855\"             \"28425\"             \n",
              "[583] \"233639\"             \"349201\"             \"349218\"            \n",
              "[586] \"16988\"              \"376566\"             \"STON/O 2. 3101288\" \n",
              "[589] \"250648\"             \"113773\"             \"335097\"            \n",
              "[592] \"29103\"              \"392096\"             \"345780\"            \n",
              "[595] \"349204\"             \"350042\"             \"29108\"             \n",
              "[598] \"363294\"             \"SOTON/O2 3101272\"   \"2663\"              \n",
              "[601] \"347074\"             \"112379\"             \"364850\"            \n",
              "[604] \"8471\"               \"345781\"             \"350047\"            \n",
              "[607] \"S.O./P.P. 3\"        \"2674\"               \"29105\"             \n",
              "[610] \"347078\"             \"383121\"             \"36865\"             \n",
              "[613] \"2687\"               \"113501\"             \"W./C. 6607\"        \n",
              "[616] \"SOTON/O.Q. 3101312\" \"374887\"             \"3101265\"           \n",
              "[619] \"12460\"              \"PC 17600\"           \"349203\"            \n",
              "[622] \"28213\"              \"17465\"              \"349244\"            \n",
              "[625] \"2685\"               \"2625\"               \"347089\"            \n",
              "[628] \"347063\"             \"112050\"             \"347087\"            \n",
              "[631] \"248723\"             \"3474\"               \"28206\"             \n",
              "[634] \"364499\"             \"112058\"             \"STON/O2. 3101290\"  \n",
              "[637] \"S.C./PARIS 2079\"    \"C 7075\"             \"315098\"            \n",
              "[640] \"19972\"              \"368323\"             \"367228\"            \n",
              "[643] \"2671\"               \"347468\"             \"2223\"              \n",
              "[646] \"PC 17756\"           \"315097\"             \"392092\"            \n",
              "[649] \"11774\"              \"SOTON/O2 3101287\"   \"2683\"              \n",
              "[652] \"315090\"             \"C.A. 5547\"          \"349213\"            \n",
              "[655] \"347060\"             \"PC 17592\"           \"392091\"            \n",
              "[658] \"113055\"             \"2629\"               \"350026\"            \n",
              "[661] \"28134\"              \"17466\"              \"233866\"            \n",
              "[664] \"236852\"             \"SC/PARIS 2149\"      \"PC 17590\"          \n",
              "[667] \"345777\"             \"349248\"             \"695\"               \n",
              "[670] \"345765\"             \"2667\"               \"349212\"            \n",
              "[673] \"349217\"             \"349257\"             \"7552\"              \n",
              "[676] \"C.A./SOTON 34068\"   \"SOTON/OQ 392076\"    \"211536\"            \n",
              "[679] \"112053\"             \"111369\"             \"370376\"            "
            ]
          },
          "metadata": {}
        },
        {
          "output_type": "display_data",
          "data": {
            "text/html": [
              "<style>\n",
              ".list-inline {list-style: none; margin:0; padding: 0}\n",
              ".list-inline>li {display: inline-block}\n",
              ".list-inline>li:not(:last-child)::after {content: \"\\00b7\"; padding: 0 .5ex}\n",
              "</style>\n",
              "<ol class=list-inline><li>'S'</li><li>'C'</li><li>'Q'</li><li>''</li></ol>\n"
            ],
            "text/markdown": "1. 'S'\n2. 'C'\n3. 'Q'\n4. ''\n\n\n",
            "text/latex": "\\begin{enumerate*}\n\\item 'S'\n\\item 'C'\n\\item 'Q'\n\\item ''\n\\end{enumerate*}\n",
            "text/plain": [
              "[1] \"S\" \"C\" \"Q\" \"\" "
            ]
          },
          "metadata": {}
        }
      ]
    },
    {
      "cell_type": "code",
      "source": [
        "# 범주형 변수들을 범주형으로 변환\n",
        "DF <- select(DF, -PassengerId, -Name, -Cabin, -Ticket) %>% mutate_at(c(\"Survived\", \"Pclass\", \"Sex\", \"Embarked\"), factor)"
      ],
      "metadata": {
        "id": "wkdQPlUnDRbA"
      },
      "execution_count": 8,
      "outputs": []
    },
    {
      "cell_type": "code",
      "source": [
        "DF %>% str()\n",
        "DF %>% show()"
      ],
      "metadata": {
        "colab": {
          "base_uri": "https://localhost:8080/"
        },
        "id": "oiyY5cGyEFZh",
        "outputId": "bd0c4bb3-8e73-486c-b494-f0dc8b232b21"
      },
      "execution_count": 9,
      "outputs": [
        {
          "output_type": "stream",
          "name": "stdout",
          "text": [
            "tibble [891 × 8] (S3: tbl_df/tbl/data.frame)\n",
            " $ Survived: Factor w/ 2 levels \"0\",\"1\": 1 2 2 2 1 1 1 1 2 2 ...\n",
            " $ Pclass  : Factor w/ 3 levels \"1\",\"2\",\"3\": 3 1 3 1 3 3 1 3 3 2 ...\n",
            " $ Sex     : Factor w/ 2 levels \"female\",\"male\": 2 1 1 1 2 2 2 2 1 1 ...\n",
            " $ Age     : num [1:891] 22 38 26 35 35 NA 54 2 27 14 ...\n",
            " $ SibSp   : int [1:891] 1 1 0 1 0 0 0 3 0 1 ...\n",
            " $ Parch   : int [1:891] 0 0 0 0 0 0 0 1 2 0 ...\n",
            " $ Fare    : num [1:891] 7.25 71.28 7.92 53.1 8.05 ...\n",
            " $ Embarked: Factor w/ 4 levels \"\",\"C\",\"Q\",\"S\": 4 2 4 4 4 3 4 4 4 2 ...\n",
            " - attr(*, \".internal.selfref\")=<externalptr> \n",
            "\u001b[90m# A tibble: 891 × 8\u001b[39m\n",
            "   Survived Pclass Sex      Age SibSp Parch  Fare Embarked\n",
            "   \u001b[3m\u001b[90m<fct>\u001b[39m\u001b[23m    \u001b[3m\u001b[90m<fct>\u001b[39m\u001b[23m  \u001b[3m\u001b[90m<fct>\u001b[39m\u001b[23m  \u001b[3m\u001b[90m<dbl>\u001b[39m\u001b[23m \u001b[3m\u001b[90m<int>\u001b[39m\u001b[23m \u001b[3m\u001b[90m<int>\u001b[39m\u001b[23m \u001b[3m\u001b[90m<dbl>\u001b[39m\u001b[23m \u001b[3m\u001b[90m<fct>\u001b[39m\u001b[23m   \n",
            "\u001b[90m 1\u001b[39m 0        3      male      22     1     0  7.25 S       \n",
            "\u001b[90m 2\u001b[39m 1        1      female    38     1     0 71.3  C       \n",
            "\u001b[90m 3\u001b[39m 1        3      female    26     0     0  7.92 S       \n",
            "\u001b[90m 4\u001b[39m 1        1      female    35     1     0 53.1  S       \n",
            "\u001b[90m 5\u001b[39m 0        3      male      35     0     0  8.05 S       \n",
            "\u001b[90m 6\u001b[39m 0        3      male      \u001b[31mNA\u001b[39m     0     0  8.46 Q       \n",
            "\u001b[90m 7\u001b[39m 0        1      male      54     0     0 51.9  S       \n",
            "\u001b[90m 8\u001b[39m 0        3      male       2     3     1 21.1  S       \n",
            "\u001b[90m 9\u001b[39m 1        3      female    27     0     2 11.1  S       \n",
            "\u001b[90m10\u001b[39m 1        2      female    14     1     0 30.1  C       \n",
            "\u001b[90m# ℹ 881 more rows\u001b[39m\n"
          ]
        }
      ]
    },
    {
      "cell_type": "markdown",
      "source": [
        "# 4번"
      ],
      "metadata": {
        "id": "GmVEo5awEOOb"
      }
    },
    {
      "cell_type": "code",
      "source": [
        "DF %>% summary()"
      ],
      "metadata": {
        "colab": {
          "base_uri": "https://localhost:8080/",
          "height": 306
        },
        "id": "Xy_N03ljEQDE",
        "outputId": "94ff20e7-0f21-414a-bc70-386b5ae6eadb"
      },
      "execution_count": 10,
      "outputs": [
        {
          "output_type": "display_data",
          "data": {
            "text/plain": [
              " Survived Pclass      Sex           Age            SibSp           Parch       \n",
              " 0:549    1:216   female:314   Min.   : 0.42   Min.   :0.000   Min.   :0.0000  \n",
              " 1:342    2:184   male  :577   1st Qu.:20.12   1st Qu.:0.000   1st Qu.:0.0000  \n",
              "          3:491                Median :28.00   Median :0.000   Median :0.0000  \n",
              "                               Mean   :29.70   Mean   :0.523   Mean   :0.3816  \n",
              "                               3rd Qu.:38.00   3rd Qu.:1.000   3rd Qu.:0.0000  \n",
              "                               Max.   :80.00   Max.   :8.000   Max.   :6.0000  \n",
              "                               NA's   :177                                     \n",
              "      Fare        Embarked\n",
              " Min.   :  0.00    :  2   \n",
              " 1st Qu.:  7.91   C:168   \n",
              " Median : 14.45   Q: 77   \n",
              " Mean   : 32.20   S:644   \n",
              " 3rd Qu.: 31.00           \n",
              " Max.   :512.33           \n",
              "                          "
            ]
          },
          "metadata": {}
        }
      ]
    },
    {
      "cell_type": "code",
      "source": [
        "install.packages(\"Hmisc\")\n",
        "library(Hmisc)"
      ],
      "metadata": {
        "colab": {
          "base_uri": "https://localhost:8080/"
        },
        "id": "-GByCE0zEYdT",
        "outputId": "a7e7df37-b2fc-4d34-d165-5739d7f9ec09"
      },
      "execution_count": 11,
      "outputs": [
        {
          "output_type": "stream",
          "name": "stderr",
          "text": [
            "Installing package into ‘/usr/local/lib/R/site-library’\n",
            "(as ‘lib’ is unspecified)\n",
            "\n",
            "\n",
            "Attaching package: ‘Hmisc’\n",
            "\n",
            "\n",
            "The following objects are masked from ‘package:dplyr’:\n",
            "\n",
            "    src, summarize\n",
            "\n",
            "\n",
            "The following objects are masked from ‘package:base’:\n",
            "\n",
            "    format.pval, units\n",
            "\n",
            "\n"
          ]
        }
      ]
    },
    {
      "cell_type": "code",
      "source": [
        "DF$Age <- impute(DF$Age,median)\n",
        "DF %>% show()"
      ],
      "metadata": {
        "colab": {
          "base_uri": "https://localhost:8080/"
        },
        "id": "c7VN28PJErIR",
        "outputId": "44f179b5-927b-45e2-aa5e-085359f5a1d5"
      },
      "execution_count": 12,
      "outputs": [
        {
          "output_type": "stream",
          "name": "stdout",
          "text": [
            "\u001b[90m# A tibble: 891 × 8\u001b[39m\n",
            "   Survived Pclass Sex    Age      SibSp Parch  Fare Embarked\n",
            "   \u001b[3m\u001b[90m<fct>\u001b[39m\u001b[23m    \u001b[3m\u001b[90m<fct>\u001b[39m\u001b[23m  \u001b[3m\u001b[90m<fct>\u001b[39m\u001b[23m  \u001b[3m\u001b[90m<impute>\u001b[39m\u001b[23m \u001b[3m\u001b[90m<int>\u001b[39m\u001b[23m \u001b[3m\u001b[90m<int>\u001b[39m\u001b[23m \u001b[3m\u001b[90m<dbl>\u001b[39m\u001b[23m \u001b[3m\u001b[90m<fct>\u001b[39m\u001b[23m   \n",
            "\u001b[90m 1\u001b[39m 0        3      male   22           1     0  7.25 S       \n",
            "\u001b[90m 2\u001b[39m 1        1      female 38           1     0 71.3  C       \n",
            "\u001b[90m 3\u001b[39m 1        3      female 26           0     0  7.92 S       \n",
            "\u001b[90m 4\u001b[39m 1        1      female 35           1     0 53.1  S       \n",
            "\u001b[90m 5\u001b[39m 0        3      male   35           0     0  8.05 S       \n",
            "\u001b[90m 6\u001b[39m 0        3      male   28           0     0  8.46 Q       \n",
            "\u001b[90m 7\u001b[39m 0        1      male   54           0     0 51.9  S       \n",
            "\u001b[90m 8\u001b[39m 0        3      male    2           3     1 21.1  S       \n",
            "\u001b[90m 9\u001b[39m 1        3      female 27           0     2 11.1  S       \n",
            "\u001b[90m10\u001b[39m 1        2      female 14           1     0 30.1  C       \n",
            "\u001b[90m# ℹ 881 more rows\u001b[39m\n"
          ]
        }
      ]
    },
    {
      "cell_type": "markdown",
      "source": [
        "# 5번 문제\n"
      ],
      "metadata": {
        "id": "pja7wdIFE5eN"
      }
    },
    {
      "cell_type": "code",
      "source": [
        "install.packages(\"gmodels\")"
      ],
      "metadata": {
        "colab": {
          "base_uri": "https://localhost:8080/"
        },
        "id": "m7BLsdUnE75O",
        "outputId": "92bc1f39-674d-417e-e27e-914044ea154f"
      },
      "execution_count": 13,
      "outputs": [
        {
          "output_type": "stream",
          "name": "stderr",
          "text": [
            "Installing package into ‘/usr/local/lib/R/site-library’\n",
            "(as ‘lib’ is unspecified)\n",
            "\n",
            "also installing the dependencies ‘gtools’, ‘gdata’\n",
            "\n",
            "\n"
          ]
        }
      ]
    },
    {
      "cell_type": "code",
      "source": [
        "#Survived(생존여부)와 Pclass(승객등급)의 연관 관계\n",
        "print(\"Survived(생존여부)와 Pclass(승객등급)의 연관 관계\")\n",
        "gmodels::CrossTable(DF$Survived, DF$Pclass, chisq=T, expected = T, prop.r =F, prop.c=F)"
      ],
      "metadata": {
        "colab": {
          "base_uri": "https://localhost:8080/"
        },
        "id": "0w952rFTFDs0",
        "outputId": "d36e4efe-1d81-4951-ce81-168ec99bbb9f"
      },
      "execution_count": 16,
      "outputs": [
        {
          "output_type": "stream",
          "name": "stdout",
          "text": [
            "[1] \"Survived(생존여부)와 Pclass(승객등급)의 연관 관계\"\n",
            "\n",
            " \n",
            "   Cell Contents\n",
            "|-------------------------|\n",
            "|                       N |\n",
            "|              Expected N |\n",
            "| Chi-square contribution |\n",
            "|         N / Table Total |\n",
            "|-------------------------|\n",
            "\n",
            " \n",
            "Total Observations in Table:  891 \n",
            "\n",
            " \n",
            "             | DF$Pclass \n",
            " DF$Survived |         1 |         2 |         3 | Row Total | \n",
            "-------------|-----------|-----------|-----------|-----------|\n",
            "           0 |        80 |        97 |       372 |       549 | \n",
            "             |   133.091 |   113.374 |   302.535 |           | \n",
            "             |    21.178 |     2.365 |    15.950 |           | \n",
            "             |     0.090 |     0.109 |     0.418 |           | \n",
            "-------------|-----------|-----------|-----------|-----------|\n",
            "           1 |       136 |        87 |       119 |       342 | \n",
            "             |    82.909 |    70.626 |   188.465 |           | \n",
            "             |    33.997 |     3.796 |    25.603 |           | \n",
            "             |     0.153 |     0.098 |     0.134 |           | \n",
            "-------------|-----------|-----------|-----------|-----------|\n",
            "Column Total |       216 |       184 |       491 |       891 | \n",
            "-------------|-----------|-----------|-----------|-----------|\n",
            "\n",
            " \n",
            "Statistics for All Table Factors\n",
            "\n",
            "\n",
            "Pearson's Chi-squared test \n",
            "------------------------------------------------------------\n",
            "Chi^2 =  102.889     d.f. =  2     p =  4.549252e-23 \n",
            "\n",
            "\n",
            " \n"
          ]
        }
      ]
    },
    {
      "cell_type": "code",
      "source": [
        "#Survived(생존여부)와 Sex(성별)의 연관 관계 조사\n",
        "print(\"Survived(생존여부)와 Sex(성별)의 연관 관계\")\n",
        "gmodels::CrossTable(DF$Survived, DF$Sex, chisq=T, expected = T, prop.r =F, prop.c=F)"
      ],
      "metadata": {
        "colab": {
          "base_uri": "https://localhost:8080/"
        },
        "id": "1CyDuqP9Fu7_",
        "outputId": "b20504d6-30da-41f5-8e32-2f92132304be"
      },
      "execution_count": 17,
      "outputs": [
        {
          "output_type": "stream",
          "name": "stdout",
          "text": [
            "[1] \"Survived(생존여부)와 Sex(성별)의 연관 관계\"\n",
            "\n",
            " \n",
            "   Cell Contents\n",
            "|-------------------------|\n",
            "|                       N |\n",
            "|              Expected N |\n",
            "| Chi-square contribution |\n",
            "|         N / Table Total |\n",
            "|-------------------------|\n",
            "\n",
            " \n",
            "Total Observations in Table:  891 \n",
            "\n",
            " \n",
            "             | DF$Sex \n",
            " DF$Survived |    female |      male | Row Total | \n",
            "-------------|-----------|-----------|-----------|\n",
            "           0 |        81 |       468 |       549 | \n",
            "             |   193.475 |   355.525 |           | \n",
            "             |    65.386 |    35.583 |           | \n",
            "             |     0.091 |     0.525 |           | \n",
            "-------------|-----------|-----------|-----------|\n",
            "           1 |       233 |       109 |       342 | \n",
            "             |   120.525 |   221.475 |           | \n",
            "             |   104.962 |    57.120 |           | \n",
            "             |     0.262 |     0.122 |           | \n",
            "-------------|-----------|-----------|-----------|\n",
            "Column Total |       314 |       577 |       891 | \n",
            "-------------|-----------|-----------|-----------|\n",
            "\n",
            " \n",
            "Statistics for All Table Factors\n",
            "\n",
            "\n",
            "Pearson's Chi-squared test \n",
            "------------------------------------------------------------\n",
            "Chi^2 =  263.0506     d.f. =  1     p =  3.711748e-59 \n",
            "\n",
            "Pearson's Chi-squared test with Yates' continuity correction \n",
            "------------------------------------------------------------\n",
            "Chi^2 =  260.717     d.f. =  1     p =  1.197357e-58 \n",
            "\n",
            " \n"
          ]
        }
      ]
    },
    {
      "cell_type": "markdown",
      "source": [
        "#6번문제\n"
      ],
      "metadata": {
        "id": "sAVL6tq5GHXg"
      }
    },
    {
      "cell_type": "code",
      "source": [
        "#학습 데이터 분할\n",
        "install.packages(\"caret\")"
      ],
      "metadata": {
        "colab": {
          "base_uri": "https://localhost:8080/"
        },
        "id": "44WQxqe0GDKv",
        "outputId": "ab4c69c4-5c68-4a1a-8879-c5872ed52dc3"
      },
      "execution_count": 18,
      "outputs": [
        {
          "output_type": "stream",
          "name": "stderr",
          "text": [
            "Installing package into ‘/usr/local/lib/R/site-library’\n",
            "(as ‘lib’ is unspecified)\n",
            "\n"
          ]
        }
      ]
    },
    {
      "cell_type": "code",
      "source": [
        "index <- caret::createDataPartition(y= DF$Survived, p=0.9, list=FALSE)\n",
        "train <- DF[index, ]\n",
        "test <- DF[-index, ]\n",
        "\n",
        "train %>% show()\n",
        "test %>% show()"
      ],
      "metadata": {
        "colab": {
          "base_uri": "https://localhost:8080/"
        },
        "id": "1vyyspu8GW4d",
        "outputId": "1be9578b-5c4b-4ac8-aeba-cf5682e2261c"
      },
      "execution_count": 19,
      "outputs": [
        {
          "output_type": "stream",
          "name": "stdout",
          "text": [
            "\u001b[90m# A tibble: 803 × 8\u001b[39m\n",
            "   Survived Pclass Sex    Age      SibSp Parch  Fare Embarked\n",
            "   \u001b[3m\u001b[90m<fct>\u001b[39m\u001b[23m    \u001b[3m\u001b[90m<fct>\u001b[39m\u001b[23m  \u001b[3m\u001b[90m<fct>\u001b[39m\u001b[23m  \u001b[3m\u001b[90m<impute>\u001b[39m\u001b[23m \u001b[3m\u001b[90m<int>\u001b[39m\u001b[23m \u001b[3m\u001b[90m<int>\u001b[39m\u001b[23m \u001b[3m\u001b[90m<dbl>\u001b[39m\u001b[23m \u001b[3m\u001b[90m<fct>\u001b[39m\u001b[23m   \n",
            "\u001b[90m 1\u001b[39m 1        1      female 38           1     0 71.3  C       \n",
            "\u001b[90m 2\u001b[39m 1        3      female 26           0     0  7.92 S       \n",
            "\u001b[90m 3\u001b[39m 1        1      female 35           1     0 53.1  S       \n",
            "\u001b[90m 4\u001b[39m 0        3      male   35           0     0  8.05 S       \n",
            "\u001b[90m 5\u001b[39m 0        3      male   28           0     0  8.46 Q       \n",
            "\u001b[90m 6\u001b[39m 0        1      male   54           0     0 51.9  S       \n",
            "\u001b[90m 7\u001b[39m 0        3      male    2           3     1 21.1  S       \n",
            "\u001b[90m 8\u001b[39m 1        3      female 27           0     2 11.1  S       \n",
            "\u001b[90m 9\u001b[39m 1        3      female  4           1     1 16.7  S       \n",
            "\u001b[90m10\u001b[39m 1        1      female 58           0     0 26.6  S       \n",
            "\u001b[90m# ℹ 793 more rows\u001b[39m\n",
            "\u001b[90m# A tibble: 88 × 8\u001b[39m\n",
            "   Survived Pclass Sex    Age      SibSp Parch  Fare Embarked\n",
            "   \u001b[3m\u001b[90m<fct>\u001b[39m\u001b[23m    \u001b[3m\u001b[90m<fct>\u001b[39m\u001b[23m  \u001b[3m\u001b[90m<fct>\u001b[39m\u001b[23m  \u001b[3m\u001b[90m<impute>\u001b[39m\u001b[23m \u001b[3m\u001b[90m<int>\u001b[39m\u001b[23m \u001b[3m\u001b[90m<int>\u001b[39m\u001b[23m \u001b[3m\u001b[90m<dbl>\u001b[39m\u001b[23m \u001b[3m\u001b[90m<fct>\u001b[39m\u001b[23m   \n",
            "\u001b[90m 1\u001b[39m 0        3      male   22           1     0  7.25 S       \n",
            "\u001b[90m 2\u001b[39m 1        2      female 14           1     0 30.1  C       \n",
            "\u001b[90m 3\u001b[39m 1        1      male   28           0     0 35.5  S       \n",
            "\u001b[90m 4\u001b[39m 0        3      male   28           0     0  7.90 S       \n",
            "\u001b[90m 5\u001b[39m 1        3      female 28           0     0  7.75 Q       \n",
            "\u001b[90m 6\u001b[39m 0        3      male   21           0     0  8.05 S       \n",
            "\u001b[90m 7\u001b[39m 0        3      female 18           2     0 18    S       \n",
            "\u001b[90m 8\u001b[39m 0        3      female 40           1     0  9.48 S       \n",
            "\u001b[90m 9\u001b[39m 0        2      female 27           1     0 21    S       \n",
            "\u001b[90m10\u001b[39m 0        3      male   21           0     0  7.8  S       \n",
            "\u001b[90m# ℹ 78 more rows\u001b[39m\n"
          ]
        }
      ]
    },
    {
      "cell_type": "markdown",
      "source": [
        "# 7번문제\n"
      ],
      "metadata": {
        "id": "CmsnZ5mbGveQ"
      }
    },
    {
      "cell_type": "code",
      "source": [
        "print(\"glm model m\")\n",
        "m <- glm(Survived ~ ., data =train, family = \"binomial\")\n",
        "summary(m)"
      ],
      "metadata": {
        "colab": {
          "base_uri": "https://localhost:8080/",
          "height": 523
        },
        "id": "WxgUdZceGxOH",
        "outputId": "2023321d-a5e4-4260-a6d4-0a68451e370a"
      },
      "execution_count": 22,
      "outputs": [
        {
          "output_type": "stream",
          "name": "stdout",
          "text": [
            "[1] \"glm model m\"\n"
          ]
        },
        {
          "output_type": "display_data",
          "data": {
            "text/plain": [
              "\n",
              "Call:\n",
              "glm(formula = Survived ~ ., family = \"binomial\", data = train)\n",
              "\n",
              "Coefficients:\n",
              "              Estimate Std. Error z value Pr(>|z|)    \n",
              "(Intercept)  16.285751 611.026698   0.027  0.97874    \n",
              "Pclass2      -0.803298   0.312246  -2.573  0.01009 *  \n",
              "Pclass3      -1.945858   0.305338  -6.373 1.86e-10 ***\n",
              "Sexmale      -2.631714   0.208168 -12.642  < 2e-16 ***\n",
              "Age          -0.038092   0.008096  -4.705 2.54e-06 ***\n",
              "SibSp        -0.327947   0.115133  -2.848  0.00439 ** \n",
              "Parch        -0.097939   0.125054  -0.783  0.43352    \n",
              "Fare          0.003041   0.002624   1.159  0.24652    \n",
              "EmbarkedC   -12.422728 611.026579  -0.020  0.98378    \n",
              "EmbarkedQ   -12.606776 611.026638  -0.021  0.98354    \n",
              "EmbarkedS   -12.809850 611.026566  -0.021  0.98327    \n",
              "---\n",
              "Signif. codes:  0 ‘***’ 0.001 ‘**’ 0.01 ‘*’ 0.05 ‘.’ 0.1 ‘ ’ 1\n",
              "\n",
              "(Dispersion parameter for binomial family taken to be 1)\n",
              "\n",
              "    Null deviance: 1069.24  on 802  degrees of freedom\n",
              "Residual deviance:  719.99  on 792  degrees of freedom\n",
              "AIC: 741.99\n",
              "\n",
              "Number of Fisher Scoring iterations: 13\n"
            ]
          },
          "metadata": {}
        }
      ]
    },
    {
      "cell_type": "markdown",
      "source": [
        "# 8번문제"
      ],
      "metadata": {
        "id": "cShjuR45HLvP"
      }
    },
    {
      "cell_type": "code",
      "source": [
        "print(\"backward model mback\")\n",
        "mback <- step(m, direction = \"backward\")"
      ],
      "metadata": {
        "colab": {
          "base_uri": "https://localhost:8080/"
        },
        "id": "nIA_24x5HODB",
        "outputId": "a06bed1a-1cd2-455e-9009-9dd4c0662255"
      },
      "execution_count": 23,
      "outputs": [
        {
          "output_type": "stream",
          "name": "stdout",
          "text": [
            "[1] \"backward model mback\"\n",
            "Start:  AIC=741.99\n",
            "Survived ~ Pclass + Sex + Age + SibSp + Parch + Fare + Embarked\n",
            "\n",
            "           Df Deviance    AIC\n",
            "- Embarked  3   723.05 739.05\n",
            "- Parch     1   720.61 740.61\n",
            "- Fare      1   721.50 741.50\n",
            "<none>          719.99 741.99\n",
            "- SibSp     1   729.70 749.70\n",
            "- Age       1   743.95 763.95\n",
            "- Pclass    2   766.85 784.85\n",
            "- Sex       1   917.18 937.18\n",
            "\n",
            "Step:  AIC=739.05\n",
            "Survived ~ Pclass + Sex + Age + SibSp + Parch + Fare\n",
            "\n",
            "         Df Deviance    AIC\n",
            "- Parch   1   723.79 737.79\n",
            "<none>        723.05 739.05\n",
            "- Fare    1   725.28 739.28\n",
            "- SibSp   1   734.16 748.16\n",
            "- Age     1   747.71 761.71\n",
            "- Pclass  2   772.48 784.48\n",
            "- Sex     1   930.77 944.77\n",
            "\n",
            "Step:  AIC=737.79\n",
            "Survived ~ Pclass + Sex + Age + SibSp + Fare\n",
            "\n",
            "         Df Deviance    AIC\n",
            "- Fare    1   725.57 737.57\n",
            "<none>        723.79 737.79\n",
            "- SibSp   1   738.05 750.05\n",
            "- Age     1   748.19 760.19\n",
            "- Pclass  2   776.11 786.11\n",
            "- Sex     1   933.86 945.86\n",
            "\n",
            "Step:  AIC=737.57\n",
            "Survived ~ Pclass + Sex + Age + SibSp\n",
            "\n",
            "         Df Deviance    AIC\n",
            "<none>        725.57 737.57\n",
            "- SibSp   1   738.41 748.41\n",
            "- Age     1   751.09 761.09\n",
            "- Pclass  2   818.58 826.58\n",
            "- Sex     1   942.51 952.51\n"
          ]
        }
      ]
    },
    {
      "cell_type": "code",
      "source": [
        "summary(mback)"
      ],
      "metadata": {
        "colab": {
          "base_uri": "https://localhost:8080/",
          "height": 433
        },
        "id": "NAPQuoGHHaSL",
        "outputId": "ae85761d-9a9f-4c42-d0cd-774f4f650ab4"
      },
      "execution_count": 24,
      "outputs": [
        {
          "output_type": "display_data",
          "data": {
            "text/plain": [
              "\n",
              "Call:\n",
              "glm(formula = Survived ~ Pclass + Sex + Age + SibSp, family = \"binomial\", \n",
              "    data = train)\n",
              "\n",
              "Coefficients:\n",
              "             Estimate Std. Error z value Pr(>|z|)    \n",
              "(Intercept)  3.870991   0.404455   9.571  < 2e-16 ***\n",
              "Pclass2     -1.097771   0.273109  -4.020 5.83e-05 ***\n",
              "Pclass3     -2.218214   0.248409  -8.930  < 2e-16 ***\n",
              "Sexmale     -2.648826   0.200493 -13.212  < 2e-16 ***\n",
              "Age         -0.038845   0.008011  -4.849 1.24e-06 ***\n",
              "SibSp       -0.349100   0.108738  -3.210  0.00133 ** \n",
              "---\n",
              "Signif. codes:  0 ‘***’ 0.001 ‘**’ 0.01 ‘*’ 0.05 ‘.’ 0.1 ‘ ’ 1\n",
              "\n",
              "(Dispersion parameter for binomial family taken to be 1)\n",
              "\n",
              "    Null deviance: 1069.24  on 802  degrees of freedom\n",
              "Residual deviance:  725.57  on 797  degrees of freedom\n",
              "AIC: 737.57\n",
              "\n",
              "Number of Fisher Scoring iterations: 5\n"
            ]
          },
          "metadata": {}
        }
      ]
    },
    {
      "cell_type": "markdown",
      "source": [
        "# 9번문제"
      ],
      "metadata": {
        "id": "h3Jlb6lGHfTM"
      }
    },
    {
      "cell_type": "code",
      "source": [
        "# mback 모델을 사용하여 test 데이터로 예측\n",
        "predict_value <- predict(mback, test, type=\"response\") %>% tibble(predict_value = .)\n",
        "predict_value %>% show()"
      ],
      "metadata": {
        "colab": {
          "base_uri": "https://localhost:8080/"
        },
        "id": "rOkR4sNZHfC7",
        "outputId": "57caccb3-c74d-4fd1-f0e8-f8aa941fd572"
      },
      "execution_count": 25,
      "outputs": [
        {
          "output_type": "stream",
          "name": "stdout",
          "text": [
            "\u001b[90m# A tibble: 88 × 1\u001b[39m\n",
            "   predict_value\n",
            "           \u001b[3m\u001b[90m<dbl>\u001b[39m\u001b[23m\n",
            "\u001b[90m 1\u001b[39m        0.099\u001b[4m8\u001b[24m\n",
            "\u001b[90m 2\u001b[39m        0.868 \n",
            "\u001b[90m 3\u001b[39m        0.534 \n",
            "\u001b[90m 4\u001b[39m        0.111 \n",
            "\u001b[90m 5\u001b[39m        0.638 \n",
            "\u001b[90m 6\u001b[39m        0.140 \n",
            "\u001b[90m 7\u001b[39m        0.563 \n",
            "\u001b[90m 8\u001b[39m        0.438 \n",
            "\u001b[90m 9\u001b[39m        0.798 \n",
            "\u001b[90m10\u001b[39m        0.140 \n",
            "\u001b[90m# ℹ 78 more rows\u001b[39m\n"
          ]
        }
      ]
    },
    {
      "cell_type": "markdown",
      "source": [
        "# 10번문제"
      ],
      "metadata": {
        "id": "N-G790YLH3ns"
      }
    },
    {
      "cell_type": "code",
      "source": [
        "predict_check <- test %>% select(Survived)  %>% dplyr::bind_cols(.,predict_value )\n",
        "predict_check %>% show()"
      ],
      "metadata": {
        "colab": {
          "base_uri": "https://localhost:8080/"
        },
        "id": "ujPeFP3WH4z6",
        "outputId": "9c97166f-a19b-4468-f447-8b79f6d441e4"
      },
      "execution_count": 26,
      "outputs": [
        {
          "output_type": "stream",
          "name": "stdout",
          "text": [
            "\u001b[90m# A tibble: 88 × 2\u001b[39m\n",
            "   Survived predict_value\n",
            "   \u001b[3m\u001b[90m<fct>\u001b[39m\u001b[23m            \u001b[3m\u001b[90m<dbl>\u001b[39m\u001b[23m\n",
            "\u001b[90m 1\u001b[39m 0               0.099\u001b[4m8\u001b[24m\n",
            "\u001b[90m 2\u001b[39m 1               0.868 \n",
            "\u001b[90m 3\u001b[39m 1               0.534 \n",
            "\u001b[90m 4\u001b[39m 0               0.111 \n",
            "\u001b[90m 5\u001b[39m 1               0.638 \n",
            "\u001b[90m 6\u001b[39m 0               0.140 \n",
            "\u001b[90m 7\u001b[39m 0               0.563 \n",
            "\u001b[90m 8\u001b[39m 0               0.438 \n",
            "\u001b[90m 9\u001b[39m 0               0.798 \n",
            "\u001b[90m10\u001b[39m 0               0.140 \n",
            "\u001b[90m# ℹ 78 more rows\u001b[39m\n"
          ]
        }
      ]
    },
    {
      "cell_type": "markdown",
      "source": [
        "#11번문제"
      ],
      "metadata": {
        "id": "n2swlgVFIROf"
      }
    },
    {
      "cell_type": "code",
      "source": [
        "predict_cutoff_5 <- predict_check %>% mutate(predict_Survived = as.factor(ifelse(predict_value > 0.5, 1, 0)))\n",
        "predict_cutoff_5 %>% show()"
      ],
      "metadata": {
        "colab": {
          "base_uri": "https://localhost:8080/"
        },
        "id": "816e0ELCIScE",
        "outputId": "bada1bdc-d2dd-42ed-99bd-09f1e5da3f13"
      },
      "execution_count": 28,
      "outputs": [
        {
          "output_type": "stream",
          "name": "stdout",
          "text": [
            "\u001b[90m# A tibble: 88 × 3\u001b[39m\n",
            "   Survived predict_value predict_Survived\n",
            "   \u001b[3m\u001b[90m<fct>\u001b[39m\u001b[23m            \u001b[3m\u001b[90m<dbl>\u001b[39m\u001b[23m \u001b[3m\u001b[90m<fct>\u001b[39m\u001b[23m           \n",
            "\u001b[90m 1\u001b[39m 0               0.099\u001b[4m8\u001b[24m 0               \n",
            "\u001b[90m 2\u001b[39m 1               0.868  1               \n",
            "\u001b[90m 3\u001b[39m 1               0.534  1               \n",
            "\u001b[90m 4\u001b[39m 0               0.111  0               \n",
            "\u001b[90m 5\u001b[39m 1               0.638  1               \n",
            "\u001b[90m 6\u001b[39m 0               0.140  0               \n",
            "\u001b[90m 7\u001b[39m 0               0.563  1               \n",
            "\u001b[90m 8\u001b[39m 0               0.438  0               \n",
            "\u001b[90m 9\u001b[39m 0               0.798  1               \n",
            "\u001b[90m10\u001b[39m 0               0.140  0               \n",
            "\u001b[90m# ℹ 78 more rows\u001b[39m\n"
          ]
        }
      ]
    },
    {
      "cell_type": "markdown",
      "source": [
        "#12번문제"
      ],
      "metadata": {
        "id": "kLplNo3DJC4t"
      }
    },
    {
      "cell_type": "code",
      "source": [
        "install.packages(\"pROC\")"
      ],
      "metadata": {
        "colab": {
          "base_uri": "https://localhost:8080/"
        },
        "id": "3eoQfr3oJEXj",
        "outputId": "163ef571-ca2f-4661-97d2-ae6b2ff2ec41"
      },
      "execution_count": 29,
      "outputs": [
        {
          "output_type": "stream",
          "name": "stderr",
          "text": [
            "Installing package into ‘/usr/local/lib/R/site-library’\n",
            "(as ‘lib’ is unspecified)\n",
            "\n"
          ]
        }
      ]
    },
    {
      "cell_type": "code",
      "source": [
        "roc_c <- pROC::roc(predict_check$Survived, predict_check$predict_value)\n",
        "pROC::plot.roc(roc_c,\n",
        "        col=\"royalblue\",\n",
        "        print.auc=TRUE,\n",
        "        max.auc.polygen=TRUE,\n",
        "        print.thres=TRUE, print.thres.pch=19, print.thres.col=\"red\",\n",
        "        auc.polygon=TRUE, auc.polygon.col=\"#D1F2EB\")"
      ],
      "metadata": {
        "colab": {
          "base_uri": "https://localhost:8080/",
          "height": 689
        },
        "id": "dlvMZ5gSJOeq",
        "outputId": "664615b1-0e3a-4db5-c276-5292ed344c45"
      },
      "execution_count": 31,
      "outputs": [
        {
          "output_type": "stream",
          "name": "stderr",
          "text": [
            "Setting levels: control = 0, case = 1\n",
            "\n",
            "Setting direction: controls < cases\n",
            "\n"
          ]
        },
        {
          "output_type": "display_data",
          "data": {
            "text/plain": [
              "plot without title"
            ],
            "image/png": "[encoded data removed]"
          },
          "metadata": {
            "image/png": {
              "width": 600,
              "height": 600
            }
          }
        }
      ]
    },
    {
      "cell_type": "markdown",
      "source": [
        "#13번문제"
      ],
      "metadata": {
        "id": "utxURfC9KGTk"
      }
    },
    {
      "cell_type": "code",
      "source": [
        "pROC::coords(roc_c, \"best\", ret =\"threshold\", transponse=F)"
      ],
      "metadata": {
        "colab": {
          "base_uri": "https://localhost:8080/",
          "height": 146
        },
        "id": "n9smtuMuKHsQ",
        "outputId": "7f7c5b93-085b-4c5c-99d5-fdb14146feb4"
      },
      "execution_count": 32,
      "outputs": [
        {
          "output_type": "display_data",
          "data": {
            "text/html": [
              "<table class=\"dataframe\">\n",
              "<caption>A data.frame: 1 × 1</caption>\n",
              "<thead>\n",
              "\t<tr><th scope=col>threshold</th></tr>\n",
              "\t<tr><th scope=col>&lt;dbl&gt;</th></tr>\n",
              "</thead>\n",
              "<tbody>\n",
              "\t<tr><td>0.548701</td></tr>\n",
              "</tbody>\n",
              "</table>\n"
            ],
            "text/markdown": "\nA data.frame: 1 × 1\n\n| threshold &lt;dbl&gt; |\n|---|\n| 0.548701 |\n\n",
            "text/latex": "A data.frame: 1 × 1\n\\begin{tabular}{l}\n threshold\\\\\n <dbl>\\\\\n\\hline\n\t 0.548701\\\\\n\\end{tabular}\n",
            "text/plain": [
              "  threshold\n",
              "1 0.548701 "
            ]
          },
          "metadata": {}
        }
      ]
    },
    {
      "cell_type": "code",
      "source": [
        "#ROC 곡선의 결과로 cut off 재설정\n",
        "predict_cutoff_roc <- predict_check %>% mutate(predict_Survived = as.factor(ifelse(predict_value > 0.2600063, 1, 0)))\n",
        "predict_cutoff_roc %>% show()"
      ],
      "metadata": {
        "colab": {
          "base_uri": "https://localhost:8080/"
        },
        "id": "ixiDqOyNKTXI",
        "outputId": "96cc0718-9821-4fc3-f924-93c16345b372"
      },
      "execution_count": 33,
      "outputs": [
        {
          "output_type": "stream",
          "name": "stdout",
          "text": [
            "\u001b[90m# A tibble: 88 × 3\u001b[39m\n",
            "   Survived predict_value predict_Survived\n",
            "   \u001b[3m\u001b[90m<fct>\u001b[39m\u001b[23m            \u001b[3m\u001b[90m<dbl>\u001b[39m\u001b[23m \u001b[3m\u001b[90m<fct>\u001b[39m\u001b[23m           \n",
            "\u001b[90m 1\u001b[39m 0               0.099\u001b[4m8\u001b[24m 0               \n",
            "\u001b[90m 2\u001b[39m 1               0.868  1               \n",
            "\u001b[90m 3\u001b[39m 1               0.534  1               \n",
            "\u001b[90m 4\u001b[39m 0               0.111  0               \n",
            "\u001b[90m 5\u001b[39m 1               0.638  1               \n",
            "\u001b[90m 6\u001b[39m 0               0.140  0               \n",
            "\u001b[90m 7\u001b[39m 0               0.563  1               \n",
            "\u001b[90m 8\u001b[39m 0               0.438  1               \n",
            "\u001b[90m 9\u001b[39m 0               0.798  1               \n",
            "\u001b[90m10\u001b[39m 0               0.140  0               \n",
            "\u001b[90m# ℹ 78 more rows\u001b[39m\n"
          ]
        }
      ]
    },
    {
      "cell_type": "code",
      "source": [
        "#ROC 곡선의 결과로 cut off 재설정\n",
        "predict_cutoff_roc <- predict_check %>% mutate(predict_Survived = as.factor(ifelse(predict_value > 0.4894081, 1, 0)))\n",
        "predict_cutoff_roc %>% show()"
      ],
      "metadata": {
        "colab": {
          "base_uri": "https://localhost:8080/"
        },
        "id": "PgAhBUn7K1YI",
        "outputId": "8cd404bc-6053-4b52-daf8-ba0388b9dbab"
      },
      "execution_count": 34,
      "outputs": [
        {
          "output_type": "stream",
          "name": "stdout",
          "text": [
            "\u001b[90m# A tibble: 88 × 3\u001b[39m\n",
            "   Survived predict_value predict_Survived\n",
            "   \u001b[3m\u001b[90m<fct>\u001b[39m\u001b[23m            \u001b[3m\u001b[90m<dbl>\u001b[39m\u001b[23m \u001b[3m\u001b[90m<fct>\u001b[39m\u001b[23m           \n",
            "\u001b[90m 1\u001b[39m 0               0.099\u001b[4m8\u001b[24m 0               \n",
            "\u001b[90m 2\u001b[39m 1               0.868  1               \n",
            "\u001b[90m 3\u001b[39m 1               0.534  1               \n",
            "\u001b[90m 4\u001b[39m 0               0.111  0               \n",
            "\u001b[90m 5\u001b[39m 1               0.638  1               \n",
            "\u001b[90m 6\u001b[39m 0               0.140  0               \n",
            "\u001b[90m 7\u001b[39m 0               0.563  1               \n",
            "\u001b[90m 8\u001b[39m 0               0.438  0               \n",
            "\u001b[90m 9\u001b[39m 0               0.798  1               \n",
            "\u001b[90m10\u001b[39m 0               0.140  0               \n",
            "\u001b[90m# ℹ 78 more rows\u001b[39m\n"
          ]
        }
      ]
    },
    {
      "cell_type": "markdown",
      "source": [
        "#15번문제\n"
      ],
      "metadata": {
        "id": "G9exlFzxK_dz"
      }
    },
    {
      "cell_type": "code",
      "source": [
        "install.packages(\"caret\")"
      ],
      "metadata": {
        "colab": {
          "base_uri": "https://localhost:8080/"
        },
        "id": "3Xh8C9t9LMT5",
        "outputId": "44c99640-08f2-4a21-d6dd-c7f7c9af9b7b"
      },
      "execution_count": 38,
      "outputs": [
        {
          "output_type": "stream",
          "name": "stderr",
          "text": [
            "Installing package into ‘/usr/local/lib/R/site-library’\n",
            "(as ‘lib’ is unspecified)\n",
            "\n"
          ]
        }
      ]
    },
    {
      "cell_type": "code",
      "source": [
        "caret::confusionMatrix(predict_cutoff_roc$Survived, predict_cutoff_roc$predict_Survived)"
      ],
      "metadata": {
        "colab": {
          "base_uri": "https://localhost:8080/",
          "height": 505
        },
        "id": "kSnGIIjaLh_o",
        "outputId": "5277f1ae-383b-44bd-e5c3-a8dd0e5960ff"
      },
      "execution_count": 39,
      "outputs": [
        {
          "output_type": "display_data",
          "data": {
            "text/plain": [
              "Confusion Matrix and Statistics\n",
              "\n",
              "          Reference\n",
              "Prediction  0  1\n",
              "         0 44 10\n",
              "         1  4 30\n",
              "                                          \n",
              "               Accuracy : 0.8409          \n",
              "                 95% CI : (0.7475, 0.9102)\n",
              "    No Information Rate : 0.5455          \n",
              "    P-Value [Acc > NIR] : 4.384e-09       \n",
              "                                          \n",
              "                  Kappa : 0.6751          \n",
              "                                          \n",
              " Mcnemar's Test P-Value : 0.1814          \n",
              "                                          \n",
              "            Sensitivity : 0.9167          \n",
              "            Specificity : 0.7500          \n",
              "         Pos Pred Value : 0.8148          \n",
              "         Neg Pred Value : 0.8824          \n",
              "             Prevalence : 0.5455          \n",
              "         Detection Rate : 0.5000          \n",
              "   Detection Prevalence : 0.6136          \n",
              "      Balanced Accuracy : 0.8333          \n",
              "                                          \n",
              "       'Positive' Class : 0               \n",
              "                                          "
            ]
          },
          "metadata": {}
        }
      ]
    }
  ]
}