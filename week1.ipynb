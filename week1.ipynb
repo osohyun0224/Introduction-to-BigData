{
  "nbformat": 4,
  "nbformat_minor": 0,
  "metadata": {
    "colab": {
      "provenance": [],
      "gpuType": "T4",
      "authorship_tag": "ABX9TyNAzHLRTwtd5SbpV59vjWhk",
      "include_colab_link": true
    },
    "kernelspec": {
      "name": "ir",
      "display_name": "R"
    },
    "language_info": {
      "name": "R"
    },
    "accelerator": "GPU"
  },
  "cells": [
    {
      "cell_type": "markdown",
      "metadata": {
        "id": "view-in-github",
        "colab_type": "text"
      },
      "source": [
        "<a href=\"https://colab.research.google.com/github/osohyun0224/R-Baisc/blob/master/week1.ipynb\" target=\"_parent\"><img src=\"https://colab.research.google.com/assets/colab-badge.svg\" alt=\"Open In Colab\"/></a>"
      ]
    },
    {
      "cell_type": "code",
      "execution_count": 1,
      "metadata": {
        "colab": {
          "base_uri": "https://localhost:8080/",
          "height": 34
        },
        "id": "_lTHLRyM8d80",
        "outputId": "25bb7a59-d895-496c-83f8-8828d7d629e6"
      },
      "outputs": [
        {
          "output_type": "display_data",
          "data": {
            "text/html": [
              "'/content'"
            ],
            "text/markdown": "'/content'",
            "text/latex": "'/content'",
            "text/plain": [
              "[1] \"/content\""
            ]
          },
          "metadata": {}
        }
      ],
      "source": [
        "getwd()"
      ]
    },
    {
      "cell_type": "code",
      "source": [
        "install.packages(\"tidyverse\")"
      ],
      "metadata": {
        "colab": {
          "base_uri": "https://localhost:8080/"
        },
        "id": "dM1b72JR9JmH",
        "outputId": "96037f22-e667-43fb-afac-e596f86fa47a"
      },
      "execution_count": 1,
      "outputs": [
        {
          "output_type": "stream",
          "name": "stderr",
          "text": [
            "Installing package into ‘/usr/local/lib/R/site-library’\n",
            "(as ‘lib’ is unspecified)\n",
            "\n"
          ]
        }
      ]
    },
    {
      "cell_type": "code",
      "source": [
        "library(tidyverse)\n",
        "search()"
      ],
      "metadata": {
        "colab": {
          "base_uri": "https://localhost:8080/",
          "height": 86
        },
        "id": "quBtQxrE9pEn",
        "outputId": "5e3b44b5-ca2e-4348-ed70-b78cd0dffe42"
      },
      "execution_count": 5,
      "outputs": [
        {
          "output_type": "display_data",
          "data": {
            "text/html": [
              "<style>\n",
              ".list-inline {list-style: none; margin:0; padding: 0}\n",
              ".list-inline>li {display: inline-block}\n",
              ".list-inline>li:not(:last-child)::after {content: \"\\00b7\"; padding: 0 .5ex}\n",
              "</style>\n",
              "<ol class=list-inline><li>'.GlobalEnv'</li><li>'package:lubridate'</li><li>'package:forcats'</li><li>'package:stringr'</li><li>'package:dplyr'</li><li>'package:purrr'</li><li>'package:readr'</li><li>'package:tidyr'</li><li>'package:tibble'</li><li>'package:ggplot2'</li><li>'package:tidyverse'</li><li>'jupyter:irkernel'</li><li>'package:stats'</li><li>'package:graphics'</li><li>'package:grDevices'</li><li>'package:utils'</li><li>'package:datasets'</li><li>'package:methods'</li><li>'Autoloads'</li><li>'package:base'</li></ol>\n"
            ],
            "text/markdown": "1. '.GlobalEnv'\n2. 'package:lubridate'\n3. 'package:forcats'\n4. 'package:stringr'\n5. 'package:dplyr'\n6. 'package:purrr'\n7. 'package:readr'\n8. 'package:tidyr'\n9. 'package:tibble'\n10. 'package:ggplot2'\n11. 'package:tidyverse'\n12. 'jupyter:irkernel'\n13. 'package:stats'\n14. 'package:graphics'\n15. 'package:grDevices'\n16. 'package:utils'\n17. 'package:datasets'\n18. 'package:methods'\n19. 'Autoloads'\n20. 'package:base'\n\n\n",
            "text/latex": "\\begin{enumerate*}\n\\item '.GlobalEnv'\n\\item 'package:lubridate'\n\\item 'package:forcats'\n\\item 'package:stringr'\n\\item 'package:dplyr'\n\\item 'package:purrr'\n\\item 'package:readr'\n\\item 'package:tidyr'\n\\item 'package:tibble'\n\\item 'package:ggplot2'\n\\item 'package:tidyverse'\n\\item 'jupyter:irkernel'\n\\item 'package:stats'\n\\item 'package:graphics'\n\\item 'package:grDevices'\n\\item 'package:utils'\n\\item 'package:datasets'\n\\item 'package:methods'\n\\item 'Autoloads'\n\\item 'package:base'\n\\end{enumerate*}\n",
            "text/plain": [
              " [1] \".GlobalEnv\"        \"package:lubridate\" \"package:forcats\"  \n",
              " [4] \"package:stringr\"   \"package:dplyr\"     \"package:purrr\"    \n",
              " [7] \"package:readr\"     \"package:tidyr\"     \"package:tibble\"   \n",
              "[10] \"package:ggplot2\"   \"package:tidyverse\" \"jupyter:irkernel\" \n",
              "[13] \"package:stats\"     \"package:graphics\"  \"package:grDevices\"\n",
              "[16] \"package:utils\"     \"package:datasets\"  \"package:methods\"  \n",
              "[19] \"Autoloads\"         \"package:base\"     "
            ]
          },
          "metadata": {}
        }
      ]
    },
    {
      "cell_type": "code",
      "source": [
        "install.packages(\"gapminder\")"
      ],
      "metadata": {
        "colab": {
          "base_uri": "https://localhost:8080/"
        },
        "id": "Xm1H4sH7-pE5",
        "outputId": "6f03d251-6e07-4f83-f0a7-e4e824025c5c"
      },
      "execution_count": 7,
      "outputs": [
        {
          "output_type": "stream",
          "name": "stderr",
          "text": [
            "Installing package into ‘/usr/local/lib/R/site-library’\n",
            "(as ‘lib’ is unspecified)\n",
            "\n"
          ]
        }
      ]
    },
    {
      "cell_type": "code",
      "source": [
        "library(gapminder)\n",
        "library(dplyr)\n",
        "glimpse(gapminder)"
      ],
      "metadata": {
        "colab": {
          "base_uri": "https://localhost:8080/"
        },
        "id": "Ibm68VJG_APe",
        "outputId": "51034a22-a032-4eea-b3df-cb22d5f02d7d"
      },
      "execution_count": 10,
      "outputs": [
        {
          "output_type": "stream",
          "name": "stdout",
          "text": [
            "Rows: 1,704\n",
            "Columns: 6\n",
            "$ country   \u001b[3m\u001b[90m<fct>\u001b[39m\u001b[23m \"Afghanistan\", \"Afghanistan\", \"Afghanistan\", \"Afghanistan\", …\n",
            "$ continent \u001b[3m\u001b[90m<fct>\u001b[39m\u001b[23m Asia, Asia, Asia, Asia, Asia, Asia, Asia, Asia, Asia, Asia, …\n",
            "$ year      \u001b[3m\u001b[90m<int>\u001b[39m\u001b[23m 1952, 1957, 1962, 1967, 1972, 1977, 1982, 1987, 1992, 1997, …\n",
            "$ lifeExp   \u001b[3m\u001b[90m<dbl>\u001b[39m\u001b[23m 28.801, 30.332, 31.997, 34.020, 36.088, 38.438, 39.854, 40.8…\n",
            "$ pop       \u001b[3m\u001b[90m<int>\u001b[39m\u001b[23m 8425333, 9240934, 10267083, 11537966, 13079460, 14880372, 12…\n",
            "$ gdpPercap \u001b[3m\u001b[90m<dbl>\u001b[39m\u001b[23m 779.4453, 820.8530, 853.1007, 836.1971, 739.9811, 786.1134, …\n"
          ]
        }
      ]
    },
    {
      "cell_type": "code",
      "source": [
        "gapminder[1:15, ]"
      ],
      "metadata": {
        "colab": {
          "base_uri": "https://localhost:8080/",
          "height": 568
        },
        "id": "SQO04_FB_Eg0",
        "outputId": "ceae913b-cfcf-44d7-86ae-9bd8e5d9abe2"
      },
      "execution_count": 11,
      "outputs": [
        {
          "output_type": "display_data",
          "data": {
            "text/html": [
              "<table class=\"dataframe\">\n",
              "<caption>A tibble: 15 × 6</caption>\n",
              "<thead>\n",
              "\t<tr><th scope=col>country</th><th scope=col>continent</th><th scope=col>year</th><th scope=col>lifeExp</th><th scope=col>pop</th><th scope=col>gdpPercap</th></tr>\n",
              "\t<tr><th scope=col>&lt;fct&gt;</th><th scope=col>&lt;fct&gt;</th><th scope=col>&lt;int&gt;</th><th scope=col>&lt;dbl&gt;</th><th scope=col>&lt;int&gt;</th><th scope=col>&lt;dbl&gt;</th></tr>\n",
              "</thead>\n",
              "<tbody>\n",
              "\t<tr><td>Afghanistan</td><td>Asia  </td><td>1952</td><td>28.801</td><td> 8425333</td><td> 779.4453</td></tr>\n",
              "\t<tr><td>Afghanistan</td><td>Asia  </td><td>1957</td><td>30.332</td><td> 9240934</td><td> 820.8530</td></tr>\n",
              "\t<tr><td>Afghanistan</td><td>Asia  </td><td>1962</td><td>31.997</td><td>10267083</td><td> 853.1007</td></tr>\n",
              "\t<tr><td>Afghanistan</td><td>Asia  </td><td>1967</td><td>34.020</td><td>11537966</td><td> 836.1971</td></tr>\n",
              "\t<tr><td>Afghanistan</td><td>Asia  </td><td>1972</td><td>36.088</td><td>13079460</td><td> 739.9811</td></tr>\n",
              "\t<tr><td>Afghanistan</td><td>Asia  </td><td>1977</td><td>38.438</td><td>14880372</td><td> 786.1134</td></tr>\n",
              "\t<tr><td>Afghanistan</td><td>Asia  </td><td>1982</td><td>39.854</td><td>12881816</td><td> 978.0114</td></tr>\n",
              "\t<tr><td>Afghanistan</td><td>Asia  </td><td>1987</td><td>40.822</td><td>13867957</td><td> 852.3959</td></tr>\n",
              "\t<tr><td>Afghanistan</td><td>Asia  </td><td>1992</td><td>41.674</td><td>16317921</td><td> 649.3414</td></tr>\n",
              "\t<tr><td>Afghanistan</td><td>Asia  </td><td>1997</td><td>41.763</td><td>22227415</td><td> 635.3414</td></tr>\n",
              "\t<tr><td>Afghanistan</td><td>Asia  </td><td>2002</td><td>42.129</td><td>25268405</td><td> 726.7341</td></tr>\n",
              "\t<tr><td>Afghanistan</td><td>Asia  </td><td>2007</td><td>43.828</td><td>31889923</td><td> 974.5803</td></tr>\n",
              "\t<tr><td>Albania    </td><td>Europe</td><td>1952</td><td>55.230</td><td> 1282697</td><td>1601.0561</td></tr>\n",
              "\t<tr><td>Albania    </td><td>Europe</td><td>1957</td><td>59.280</td><td> 1476505</td><td>1942.2842</td></tr>\n",
              "\t<tr><td>Albania    </td><td>Europe</td><td>1962</td><td>64.820</td><td> 1728137</td><td>2312.8890</td></tr>\n",
              "</tbody>\n",
              "</table>\n"
            ],
            "text/markdown": "\nA tibble: 15 × 6\n\n| country &lt;fct&gt; | continent &lt;fct&gt; | year &lt;int&gt; | lifeExp &lt;dbl&gt; | pop &lt;int&gt; | gdpPercap &lt;dbl&gt; |\n|---|---|---|---|---|---|\n| Afghanistan | Asia   | 1952 | 28.801 |  8425333 |  779.4453 |\n| Afghanistan | Asia   | 1957 | 30.332 |  9240934 |  820.8530 |\n| Afghanistan | Asia   | 1962 | 31.997 | 10267083 |  853.1007 |\n| Afghanistan | Asia   | 1967 | 34.020 | 11537966 |  836.1971 |\n| Afghanistan | Asia   | 1972 | 36.088 | 13079460 |  739.9811 |\n| Afghanistan | Asia   | 1977 | 38.438 | 14880372 |  786.1134 |\n| Afghanistan | Asia   | 1982 | 39.854 | 12881816 |  978.0114 |\n| Afghanistan | Asia   | 1987 | 40.822 | 13867957 |  852.3959 |\n| Afghanistan | Asia   | 1992 | 41.674 | 16317921 |  649.3414 |\n| Afghanistan | Asia   | 1997 | 41.763 | 22227415 |  635.3414 |\n| Afghanistan | Asia   | 2002 | 42.129 | 25268405 |  726.7341 |\n| Afghanistan | Asia   | 2007 | 43.828 | 31889923 |  974.5803 |\n| Albania     | Europe | 1952 | 55.230 |  1282697 | 1601.0561 |\n| Albania     | Europe | 1957 | 59.280 |  1476505 | 1942.2842 |\n| Albania     | Europe | 1962 | 64.820 |  1728137 | 2312.8890 |\n\n",
            "text/latex": "A tibble: 15 × 6\n\\begin{tabular}{llllll}\n country & continent & year & lifeExp & pop & gdpPercap\\\\\n <fct> & <fct> & <int> & <dbl> & <int> & <dbl>\\\\\n\\hline\n\t Afghanistan & Asia   & 1952 & 28.801 &  8425333 &  779.4453\\\\\n\t Afghanistan & Asia   & 1957 & 30.332 &  9240934 &  820.8530\\\\\n\t Afghanistan & Asia   & 1962 & 31.997 & 10267083 &  853.1007\\\\\n\t Afghanistan & Asia   & 1967 & 34.020 & 11537966 &  836.1971\\\\\n\t Afghanistan & Asia   & 1972 & 36.088 & 13079460 &  739.9811\\\\\n\t Afghanistan & Asia   & 1977 & 38.438 & 14880372 &  786.1134\\\\\n\t Afghanistan & Asia   & 1982 & 39.854 & 12881816 &  978.0114\\\\\n\t Afghanistan & Asia   & 1987 & 40.822 & 13867957 &  852.3959\\\\\n\t Afghanistan & Asia   & 1992 & 41.674 & 16317921 &  649.3414\\\\\n\t Afghanistan & Asia   & 1997 & 41.763 & 22227415 &  635.3414\\\\\n\t Afghanistan & Asia   & 2002 & 42.129 & 25268405 &  726.7341\\\\\n\t Afghanistan & Asia   & 2007 & 43.828 & 31889923 &  974.5803\\\\\n\t Albania     & Europe & 1952 & 55.230 &  1282697 & 1601.0561\\\\\n\t Albania     & Europe & 1957 & 59.280 &  1476505 & 1942.2842\\\\\n\t Albania     & Europe & 1962 & 64.820 &  1728137 & 2312.8890\\\\\n\\end{tabular}\n",
            "text/plain": [
              "   country     continent year lifeExp pop      gdpPercap\n",
              "1  Afghanistan Asia      1952 28.801   8425333  779.4453\n",
              "2  Afghanistan Asia      1957 30.332   9240934  820.8530\n",
              "3  Afghanistan Asia      1962 31.997  10267083  853.1007\n",
              "4  Afghanistan Asia      1967 34.020  11537966  836.1971\n",
              "5  Afghanistan Asia      1972 36.088  13079460  739.9811\n",
              "6  Afghanistan Asia      1977 38.438  14880372  786.1134\n",
              "7  Afghanistan Asia      1982 39.854  12881816  978.0114\n",
              "8  Afghanistan Asia      1987 40.822  13867957  852.3959\n",
              "9  Afghanistan Asia      1992 41.674  16317921  649.3414\n",
              "10 Afghanistan Asia      1997 41.763  22227415  635.3414\n",
              "11 Afghanistan Asia      2002 42.129  25268405  726.7341\n",
              "12 Afghanistan Asia      2007 43.828  31889923  974.5803\n",
              "13 Albania     Europe    1952 55.230   1282697 1601.0561\n",
              "14 Albania     Europe    1957 59.280   1476505 1942.2842\n",
              "15 Albania     Europe    1962 64.820   1728137 2312.8890"
            ]
          },
          "metadata": {}
        }
      ]
    },
    {
      "cell_type": "code",
      "source": [
        "gapminder[gapminder$country == \"Croatia\",  ]"
      ],
      "metadata": {
        "colab": {
          "base_uri": "https://localhost:8080/",
          "height": 474
        },
        "id": "94pTGc7z_Xun",
        "outputId": "c4e6c76f-9c2d-4895-ab57-61f8870309eb"
      },
      "execution_count": 12,
      "outputs": [
        {
          "output_type": "display_data",
          "data": {
            "text/html": [
              "<table class=\"dataframe\">\n",
              "<caption>A tibble: 12 × 6</caption>\n",
              "<thead>\n",
              "\t<tr><th scope=col>country</th><th scope=col>continent</th><th scope=col>year</th><th scope=col>lifeExp</th><th scope=col>pop</th><th scope=col>gdpPercap</th></tr>\n",
              "\t<tr><th scope=col>&lt;fct&gt;</th><th scope=col>&lt;fct&gt;</th><th scope=col>&lt;int&gt;</th><th scope=col>&lt;dbl&gt;</th><th scope=col>&lt;int&gt;</th><th scope=col>&lt;dbl&gt;</th></tr>\n",
              "</thead>\n",
              "<tbody>\n",
              "\t<tr><td>Croatia</td><td>Europe</td><td>1952</td><td>61.210</td><td>3882229</td><td> 3119.237</td></tr>\n",
              "\t<tr><td>Croatia</td><td>Europe</td><td>1957</td><td>64.770</td><td>3991242</td><td> 4338.232</td></tr>\n",
              "\t<tr><td>Croatia</td><td>Europe</td><td>1962</td><td>67.130</td><td>4076557</td><td> 5477.890</td></tr>\n",
              "\t<tr><td>Croatia</td><td>Europe</td><td>1967</td><td>68.500</td><td>4174366</td><td> 6960.298</td></tr>\n",
              "\t<tr><td>Croatia</td><td>Europe</td><td>1972</td><td>69.610</td><td>4225310</td><td> 9164.090</td></tr>\n",
              "\t<tr><td>Croatia</td><td>Europe</td><td>1977</td><td>70.640</td><td>4318673</td><td>11305.385</td></tr>\n",
              "\t<tr><td>Croatia</td><td>Europe</td><td>1982</td><td>70.460</td><td>4413368</td><td>13221.822</td></tr>\n",
              "\t<tr><td>Croatia</td><td>Europe</td><td>1987</td><td>71.520</td><td>4484310</td><td>13822.584</td></tr>\n",
              "\t<tr><td>Croatia</td><td>Europe</td><td>1992</td><td>72.527</td><td>4494013</td><td> 8447.795</td></tr>\n",
              "\t<tr><td>Croatia</td><td>Europe</td><td>1997</td><td>73.680</td><td>4444595</td><td> 9875.605</td></tr>\n",
              "\t<tr><td>Croatia</td><td>Europe</td><td>2002</td><td>74.876</td><td>4481020</td><td>11628.389</td></tr>\n",
              "\t<tr><td>Croatia</td><td>Europe</td><td>2007</td><td>75.748</td><td>4493312</td><td>14619.223</td></tr>\n",
              "</tbody>\n",
              "</table>\n"
            ],
            "text/markdown": "\nA tibble: 12 × 6\n\n| country &lt;fct&gt; | continent &lt;fct&gt; | year &lt;int&gt; | lifeExp &lt;dbl&gt; | pop &lt;int&gt; | gdpPercap &lt;dbl&gt; |\n|---|---|---|---|---|---|\n| Croatia | Europe | 1952 | 61.210 | 3882229 |  3119.237 |\n| Croatia | Europe | 1957 | 64.770 | 3991242 |  4338.232 |\n| Croatia | Europe | 1962 | 67.130 | 4076557 |  5477.890 |\n| Croatia | Europe | 1967 | 68.500 | 4174366 |  6960.298 |\n| Croatia | Europe | 1972 | 69.610 | 4225310 |  9164.090 |\n| Croatia | Europe | 1977 | 70.640 | 4318673 | 11305.385 |\n| Croatia | Europe | 1982 | 70.460 | 4413368 | 13221.822 |\n| Croatia | Europe | 1987 | 71.520 | 4484310 | 13822.584 |\n| Croatia | Europe | 1992 | 72.527 | 4494013 |  8447.795 |\n| Croatia | Europe | 1997 | 73.680 | 4444595 |  9875.605 |\n| Croatia | Europe | 2002 | 74.876 | 4481020 | 11628.389 |\n| Croatia | Europe | 2007 | 75.748 | 4493312 | 14619.223 |\n\n",
            "text/latex": "A tibble: 12 × 6\n\\begin{tabular}{llllll}\n country & continent & year & lifeExp & pop & gdpPercap\\\\\n <fct> & <fct> & <int> & <dbl> & <int> & <dbl>\\\\\n\\hline\n\t Croatia & Europe & 1952 & 61.210 & 3882229 &  3119.237\\\\\n\t Croatia & Europe & 1957 & 64.770 & 3991242 &  4338.232\\\\\n\t Croatia & Europe & 1962 & 67.130 & 4076557 &  5477.890\\\\\n\t Croatia & Europe & 1967 & 68.500 & 4174366 &  6960.298\\\\\n\t Croatia & Europe & 1972 & 69.610 & 4225310 &  9164.090\\\\\n\t Croatia & Europe & 1977 & 70.640 & 4318673 & 11305.385\\\\\n\t Croatia & Europe & 1982 & 70.460 & 4413368 & 13221.822\\\\\n\t Croatia & Europe & 1987 & 71.520 & 4484310 & 13822.584\\\\\n\t Croatia & Europe & 1992 & 72.527 & 4494013 &  8447.795\\\\\n\t Croatia & Europe & 1997 & 73.680 & 4444595 &  9875.605\\\\\n\t Croatia & Europe & 2002 & 74.876 & 4481020 & 11628.389\\\\\n\t Croatia & Europe & 2007 & 75.748 & 4493312 & 14619.223\\\\\n\\end{tabular}\n",
            "text/plain": [
              "   country continent year lifeExp pop     gdpPercap\n",
              "1  Croatia Europe    1952 61.210  3882229  3119.237\n",
              "2  Croatia Europe    1957 64.770  3991242  4338.232\n",
              "3  Croatia Europe    1962 67.130  4076557  5477.890\n",
              "4  Croatia Europe    1967 68.500  4174366  6960.298\n",
              "5  Croatia Europe    1972 69.610  4225310  9164.090\n",
              "6  Croatia Europe    1977 70.640  4318673 11305.385\n",
              "7  Croatia Europe    1982 70.460  4413368 13221.822\n",
              "8  Croatia Europe    1987 71.520  4484310 13822.584\n",
              "9  Croatia Europe    1992 72.527  4494013  8447.795\n",
              "10 Croatia Europe    1997 73.680  4444595  9875.605\n",
              "11 Croatia Europe    2002 74.876  4481020 11628.389\n",
              "12 Croatia Europe    2007 75.748  4493312 14619.223"
            ]
          },
          "metadata": {}
        }
      ]
    },
    {
      "cell_type": "code",
      "source": [
        "gapminder[gapminder$country == \"Croatia\", \"pop\" ]"
      ],
      "metadata": {
        "colab": {
          "base_uri": "https://localhost:8080/",
          "height": 491
        },
        "id": "x7qNGVU6_hjW",
        "outputId": "7f455ccf-5174-47ca-8f03-7f839831aefb"
      },
      "execution_count": 13,
      "outputs": [
        {
          "output_type": "display_data",
          "data": {
            "text/html": [
              "<table class=\"dataframe\">\n",
              "<caption>A tibble: 12 × 1</caption>\n",
              "<thead>\n",
              "\t<tr><th scope=col>pop</th></tr>\n",
              "\t<tr><th scope=col>&lt;int&gt;</th></tr>\n",
              "</thead>\n",
              "<tbody>\n",
              "\t<tr><td>3882229</td></tr>\n",
              "\t<tr><td>3991242</td></tr>\n",
              "\t<tr><td>4076557</td></tr>\n",
              "\t<tr><td>4174366</td></tr>\n",
              "\t<tr><td>4225310</td></tr>\n",
              "\t<tr><td>4318673</td></tr>\n",
              "\t<tr><td>4413368</td></tr>\n",
              "\t<tr><td>4484310</td></tr>\n",
              "\t<tr><td>4494013</td></tr>\n",
              "\t<tr><td>4444595</td></tr>\n",
              "\t<tr><td>4481020</td></tr>\n",
              "\t<tr><td>4493312</td></tr>\n",
              "</tbody>\n",
              "</table>\n"
            ],
            "text/markdown": "\nA tibble: 12 × 1\n\n| pop &lt;int&gt; |\n|---|\n| 3882229 |\n| 3991242 |\n| 4076557 |\n| 4174366 |\n| 4225310 |\n| 4318673 |\n| 4413368 |\n| 4484310 |\n| 4494013 |\n| 4444595 |\n| 4481020 |\n| 4493312 |\n\n",
            "text/latex": "A tibble: 12 × 1\n\\begin{tabular}{l}\n pop\\\\\n <int>\\\\\n\\hline\n\t 3882229\\\\\n\t 3991242\\\\\n\t 4076557\\\\\n\t 4174366\\\\\n\t 4225310\\\\\n\t 4318673\\\\\n\t 4413368\\\\\n\t 4484310\\\\\n\t 4494013\\\\\n\t 4444595\\\\\n\t 4481020\\\\\n\t 4493312\\\\\n\\end{tabular}\n",
            "text/plain": [
              "   pop    \n",
              "1  3882229\n",
              "2  3991242\n",
              "3  4076557\n",
              "4  4174366\n",
              "5  4225310\n",
              "6  4318673\n",
              "7  4413368\n",
              "8  4484310\n",
              "9  4494013\n",
              "10 4444595\n",
              "11 4481020\n",
              "12 4493312"
            ]
          },
          "metadata": {}
        }
      ]
    },
    {
      "cell_type": "code",
      "source": [
        "gapminder[gapminder$country == \"Croatia\"&gapminder$year>1900,c(\"lifeExp\",\"pop\") ]"
      ],
      "metadata": {
        "colab": {
          "base_uri": "https://localhost:8080/",
          "height": 474
        },
        "id": "DEy-IM2m_mcy",
        "outputId": "6b957580-28e2-44fb-dfa3-55de7c235970"
      },
      "execution_count": 14,
      "outputs": [
        {
          "output_type": "display_data",
          "data": {
            "text/html": [
              "<table class=\"dataframe\">\n",
              "<caption>A tibble: 12 × 2</caption>\n",
              "<thead>\n",
              "\t<tr><th scope=col>lifeExp</th><th scope=col>pop</th></tr>\n",
              "\t<tr><th scope=col>&lt;dbl&gt;</th><th scope=col>&lt;int&gt;</th></tr>\n",
              "</thead>\n",
              "<tbody>\n",
              "\t<tr><td>61.210</td><td>3882229</td></tr>\n",
              "\t<tr><td>64.770</td><td>3991242</td></tr>\n",
              "\t<tr><td>67.130</td><td>4076557</td></tr>\n",
              "\t<tr><td>68.500</td><td>4174366</td></tr>\n",
              "\t<tr><td>69.610</td><td>4225310</td></tr>\n",
              "\t<tr><td>70.640</td><td>4318673</td></tr>\n",
              "\t<tr><td>70.460</td><td>4413368</td></tr>\n",
              "\t<tr><td>71.520</td><td>4484310</td></tr>\n",
              "\t<tr><td>72.527</td><td>4494013</td></tr>\n",
              "\t<tr><td>73.680</td><td>4444595</td></tr>\n",
              "\t<tr><td>74.876</td><td>4481020</td></tr>\n",
              "\t<tr><td>75.748</td><td>4493312</td></tr>\n",
              "</tbody>\n",
              "</table>\n"
            ],
            "text/markdown": "\nA tibble: 12 × 2\n\n| lifeExp &lt;dbl&gt; | pop &lt;int&gt; |\n|---|---|\n| 61.210 | 3882229 |\n| 64.770 | 3991242 |\n| 67.130 | 4076557 |\n| 68.500 | 4174366 |\n| 69.610 | 4225310 |\n| 70.640 | 4318673 |\n| 70.460 | 4413368 |\n| 71.520 | 4484310 |\n| 72.527 | 4494013 |\n| 73.680 | 4444595 |\n| 74.876 | 4481020 |\n| 75.748 | 4493312 |\n\n",
            "text/latex": "A tibble: 12 × 2\n\\begin{tabular}{ll}\n lifeExp & pop\\\\\n <dbl> & <int>\\\\\n\\hline\n\t 61.210 & 3882229\\\\\n\t 64.770 & 3991242\\\\\n\t 67.130 & 4076557\\\\\n\t 68.500 & 4174366\\\\\n\t 69.610 & 4225310\\\\\n\t 70.640 & 4318673\\\\\n\t 70.460 & 4413368\\\\\n\t 71.520 & 4484310\\\\\n\t 72.527 & 4494013\\\\\n\t 73.680 & 4444595\\\\\n\t 74.876 & 4481020\\\\\n\t 75.748 & 4493312\\\\\n\\end{tabular}\n",
            "text/plain": [
              "   lifeExp pop    \n",
              "1  61.210  3882229\n",
              "2  64.770  3991242\n",
              "3  67.130  4076557\n",
              "4  68.500  4174366\n",
              "5  69.610  4225310\n",
              "6  70.640  4318673\n",
              "7  70.460  4413368\n",
              "8  71.520  4484310\n",
              "9  72.527  4494013\n",
              "10 73.680  4444595\n",
              "11 74.876  4481020\n",
              "12 75.748  4493312"
            ]
          },
          "metadata": {}
        }
      ]
    },
    {
      "cell_type": "code",
      "source": [
        "apply(gapminder[gapminder$country == \"Croatia\"&gapminder$year>1900,c(\"lifeExp\",\"pop\") ],2,mean)"
      ],
      "metadata": {
        "colab": {
          "base_uri": "https://localhost:8080/",
          "height": 34
        },
        "id": "N_eTcLCX_oBV",
        "outputId": "577393ac-de72-4781-a2be-2a9d6222d2b6"
      },
      "execution_count": 15,
      "outputs": [
        {
          "output_type": "display_data",
          "data": {
            "text/html": [
              "<style>\n",
              ".dl-inline {width: auto; margin:0; padding: 0}\n",
              ".dl-inline>dt, .dl-inline>dd {float: none; width: auto; display: inline-block}\n",
              ".dl-inline>dt::after {content: \":\\0020\"; padding-right: .5ex}\n",
              ".dl-inline>dt:not(:first-of-type) {padding-left: .5ex}\n",
              "</style><dl class=dl-inline><dt>lifeExp</dt><dd>70.0559166666667</dd><dt>pop</dt><dd>4289916.25</dd></dl>\n"
            ],
            "text/markdown": "lifeExp\n:   70.0559166666667pop\n:   4289916.25\n\n",
            "text/latex": "\\begin{description*}\n\\item[lifeExp] 70.0559166666667\n\\item[pop] 4289916.25\n\\end{description*}\n",
            "text/plain": [
              "     lifeExp          pop \n",
              "7.005592e+01 4.289916e+06 "
            ]
          },
          "metadata": {}
        }
      ]
    },
    {
      "cell_type": "code",
      "source": [
        "getwd()"
      ],
      "metadata": {
        "colab": {
          "base_uri": "https://localhost:8080/",
          "height": 34
        },
        "id": "272Xmq-YAG2H",
        "outputId": "5a9b094a-6884-4534-9c3a-b657db35fc17"
      },
      "execution_count": 16,
      "outputs": [
        {
          "output_type": "display_data",
          "data": {
            "text/html": [
              "'/content'"
            ],
            "text/markdown": "'/content'",
            "text/latex": "'/content'",
            "text/plain": [
              "[1] \"/content\""
            ]
          },
          "metadata": {}
        }
      ]
    },
    {
      "cell_type": "code",
      "source": [
        "va <- c(1:3, 4, 5)\n",
        "vb <- 6:9\n",
        "vc <- rep(\"c\", times=6)\n",
        "vd <- seq(1, 10, by=2)"
      ],
      "metadata": {
        "id": "UnrV7MlQARvo"
      },
      "execution_count": 17,
      "outputs": []
    },
    {
      "cell_type": "code",
      "source": [
        "va //이렇게 해야 보임\n",
        "vb\n",
        "vc\n",
        "vd"
      ],
      "metadata": {
        "colab": {
          "base_uri": "https://localhost:8080/",
          "height": 86
        },
        "id": "CIIH4ZSsAg8Z",
        "outputId": "02ab7d84-8c64-452e-c4e1-000cf255b876"
      },
      "execution_count": 19,
      "outputs": [
        {
          "output_type": "display_data",
          "data": {
            "text/html": [
              "<style>\n",
              ".list-inline {list-style: none; margin:0; padding: 0}\n",
              ".list-inline>li {display: inline-block}\n",
              ".list-inline>li:not(:last-child)::after {content: \"\\00b7\"; padding: 0 .5ex}\n",
              "</style>\n",
              "<ol class=list-inline><li>1</li><li>2</li><li>3</li><li>4</li><li>5</li></ol>\n"
            ],
            "text/markdown": "1. 1\n2. 2\n3. 3\n4. 4\n5. 5\n\n\n",
            "text/latex": "\\begin{enumerate*}\n\\item 1\n\\item 2\n\\item 3\n\\item 4\n\\item 5\n\\end{enumerate*}\n",
            "text/plain": [
              "[1] 1 2 3 4 5"
            ]
          },
          "metadata": {}
        },
        {
          "output_type": "display_data",
          "data": {
            "text/html": [
              "<style>\n",
              ".list-inline {list-style: none; margin:0; padding: 0}\n",
              ".list-inline>li {display: inline-block}\n",
              ".list-inline>li:not(:last-child)::after {content: \"\\00b7\"; padding: 0 .5ex}\n",
              "</style>\n",
              "<ol class=list-inline><li>6</li><li>7</li><li>8</li><li>9</li></ol>\n"
            ],
            "text/markdown": "1. 6\n2. 7\n3. 8\n4. 9\n\n\n",
            "text/latex": "\\begin{enumerate*}\n\\item 6\n\\item 7\n\\item 8\n\\item 9\n\\end{enumerate*}\n",
            "text/plain": [
              "[1] 6 7 8 9"
            ]
          },
          "metadata": {}
        },
        {
          "output_type": "display_data",
          "data": {
            "text/html": [
              "<style>\n",
              ".list-inline {list-style: none; margin:0; padding: 0}\n",
              ".list-inline>li {display: inline-block}\n",
              ".list-inline>li:not(:last-child)::after {content: \"\\00b7\"; padding: 0 .5ex}\n",
              "</style>\n",
              "<ol class=list-inline><li>'c'</li><li>'c'</li><li>'c'</li><li>'c'</li><li>'c'</li><li>'c'</li></ol>\n"
            ],
            "text/markdown": "1. 'c'\n2. 'c'\n3. 'c'\n4. 'c'\n5. 'c'\n6. 'c'\n\n\n",
            "text/latex": "\\begin{enumerate*}\n\\item 'c'\n\\item 'c'\n\\item 'c'\n\\item 'c'\n\\item 'c'\n\\item 'c'\n\\end{enumerate*}\n",
            "text/plain": [
              "[1] \"c\" \"c\" \"c\" \"c\" \"c\" \"c\""
            ]
          },
          "metadata": {}
        },
        {
          "output_type": "display_data",
          "data": {
            "text/html": [
              "<style>\n",
              ".list-inline {list-style: none; margin:0; padding: 0}\n",
              ".list-inline>li {display: inline-block}\n",
              ".list-inline>li:not(:last-child)::after {content: \"\\00b7\"; padding: 0 .5ex}\n",
              "</style>\n",
              "<ol class=list-inline><li>1</li><li>3</li><li>5</li><li>7</li><li>9</li></ol>\n"
            ],
            "text/markdown": "1. 1\n2. 3\n3. 5\n4. 7\n5. 9\n\n\n",
            "text/latex": "\\begin{enumerate*}\n\\item 1\n\\item 3\n\\item 5\n\\item 7\n\\item 9\n\\end{enumerate*}\n",
            "text/plain": [
              "[1] 1 3 5 7 9"
            ]
          },
          "metadata": {}
        }
      ]
    },
    {
      "cell_type": "code",
      "source": [
        "rbind_abcd <- rbind(va,vb,vc,vd)\n",
        "rbind_abcd //문제 7번"
      ],
      "metadata": {
        "colab": {
          "base_uri": "https://localhost:8080/",
          "height": 213
        },
        "id": "OXn6_TSHAidd",
        "outputId": "04470726-5250-4e02-9b7d-a78a34637e71"
      },
      "execution_count": 21,
      "outputs": [
        {
          "output_type": "stream",
          "name": "stderr",
          "text": [
            "Warning message in rbind(va, vb, vc, vd):\n",
            "“number of columns of result is not a multiple of vector length (arg 1)”\n"
          ]
        },
        {
          "output_type": "display_data",
          "data": {
            "text/html": [
              "<table class=\"dataframe\">\n",
              "<caption>A matrix: 4 × 6 of type chr</caption>\n",
              "<tbody>\n",
              "\t<tr><th scope=row>va</th><td>1</td><td>2</td><td>3</td><td>4</td><td>5</td><td>1</td></tr>\n",
              "\t<tr><th scope=row>vb</th><td>6</td><td>7</td><td>8</td><td>9</td><td>6</td><td>7</td></tr>\n",
              "\t<tr><th scope=row>vc</th><td>c</td><td>c</td><td>c</td><td>c</td><td>c</td><td>c</td></tr>\n",
              "\t<tr><th scope=row>vd</th><td>1</td><td>3</td><td>5</td><td>7</td><td>9</td><td>1</td></tr>\n",
              "</tbody>\n",
              "</table>\n"
            ],
            "text/markdown": "\nA matrix: 4 × 6 of type chr\n\n| va | 1 | 2 | 3 | 4 | 5 | 1 |\n| vb | 6 | 7 | 8 | 9 | 6 | 7 |\n| vc | c | c | c | c | c | c |\n| vd | 1 | 3 | 5 | 7 | 9 | 1 |\n\n",
            "text/latex": "A matrix: 4 × 6 of type chr\n\\begin{tabular}{r|llllll}\n\tva & 1 & 2 & 3 & 4 & 5 & 1\\\\\n\tvb & 6 & 7 & 8 & 9 & 6 & 7\\\\\n\tvc & c & c & c & c & c & c\\\\\n\tvd & 1 & 3 & 5 & 7 & 9 & 1\\\\\n\\end{tabular}\n",
            "text/plain": [
              "   [,1] [,2] [,3] [,4] [,5] [,6]\n",
              "va 1    2    3    4    5    1   \n",
              "vb 6    7    8    9    6    7   \n",
              "vc c    c    c    c    c    c   \n",
              "vd 1    3    5    7    9    1   "
            ]
          },
          "metadata": {}
        }
      ]
    },
    {
      "cell_type": "code",
      "source": [
        "cbind_abcd <- cbind(va,vb,vc,vd)\n",
        "cbind_abcd //문제 8번 열합침"
      ],
      "metadata": {
        "colab": {
          "base_uri": "https://localhost:8080/",
          "height": 308
        },
        "id": "8_PZnRneBY88",
        "outputId": "66588530-17ac-4c52-acea-b454cb8e58d5"
      },
      "execution_count": 23,
      "outputs": [
        {
          "output_type": "stream",
          "name": "stderr",
          "text": [
            "Warning message in cbind(va, vb, vc, vd):\n",
            "“number of rows of result is not a multiple of vector length (arg 1)”\n"
          ]
        },
        {
          "output_type": "display_data",
          "data": {
            "text/html": [
              "<table class=\"dataframe\">\n",
              "<caption>A matrix: 6 × 4 of type chr</caption>\n",
              "<thead>\n",
              "\t<tr><th scope=col>va</th><th scope=col>vb</th><th scope=col>vc</th><th scope=col>vd</th></tr>\n",
              "</thead>\n",
              "<tbody>\n",
              "\t<tr><td>1</td><td>6</td><td>c</td><td>1</td></tr>\n",
              "\t<tr><td>2</td><td>7</td><td>c</td><td>3</td></tr>\n",
              "\t<tr><td>3</td><td>8</td><td>c</td><td>5</td></tr>\n",
              "\t<tr><td>4</td><td>9</td><td>c</td><td>7</td></tr>\n",
              "\t<tr><td>5</td><td>6</td><td>c</td><td>9</td></tr>\n",
              "\t<tr><td>1</td><td>7</td><td>c</td><td>1</td></tr>\n",
              "</tbody>\n",
              "</table>\n"
            ],
            "text/markdown": "\nA matrix: 6 × 4 of type chr\n\n| va | vb | vc | vd |\n|---|---|---|---|\n| 1 | 6 | c | 1 |\n| 2 | 7 | c | 3 |\n| 3 | 8 | c | 5 |\n| 4 | 9 | c | 7 |\n| 5 | 6 | c | 9 |\n| 1 | 7 | c | 1 |\n\n",
            "text/latex": "A matrix: 6 × 4 of type chr\n\\begin{tabular}{llll}\n va & vb & vc & vd\\\\\n\\hline\n\t 1 & 6 & c & 1\\\\\n\t 2 & 7 & c & 3\\\\\n\t 3 & 8 & c & 5\\\\\n\t 4 & 9 & c & 7\\\\\n\t 5 & 6 & c & 9\\\\\n\t 1 & 7 & c & 1\\\\\n\\end{tabular}\n",
            "text/plain": [
              "     va vb vc vd\n",
              "[1,] 1  6  c  1 \n",
              "[2,] 2  7  c  3 \n",
              "[3,] 3  8  c  5 \n",
              "[4,] 4  9  c  7 \n",
              "[5,] 5  6  c  9 \n",
              "[6,] 1  7  c  1 "
            ]
          },
          "metadata": {}
        }
      ]
    },
    {
      "cell_type": "code",
      "source": [],
      "metadata": {
        "id": "bv1jhY0TBugb"
      },
      "execution_count": null,
      "outputs": []
    }
  ]
}